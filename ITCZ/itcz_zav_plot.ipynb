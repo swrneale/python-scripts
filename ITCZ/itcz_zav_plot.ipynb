{
 "cells": [
  {
   "cell_type": "markdown",
   "id": "04779c3a-08a9-4b62-8923-d6f48db63498",
   "metadata": {},
   "source": [
    "# Code to read in some of the tendency terms from an history_budget run and plot zonal averages.\n",
    "* Option to process data from h0 or h1 files\n",
    "* Construct monthly climatologies\n",
    "* Construct daily climatologies\n",
    "* Create animation of tehse values\n"
   ]
  },
  {
   "cell_type": "code",
   "execution_count": 21,
   "id": "20a1d0be-c421-4604-a7e0-38392a46cdb3",
   "metadata": {},
   "outputs": [],
   "source": [
    "#import xarray as xr\n",
    "#import matplotlib.pyplot as mp\n",
    "#import pandas as pd\n",
    "#import geocat.comp as gc\n",
    "#import seaborn as sb\n",
    "#import scipy as sp\n",
    "\n",
    "#import numpy as np\n",
    "#import os\n",
    "#import glob as gb\n",
    "#import dask\n",
    "\n",
    "#from matplotlib.cm import get_cmap\n",
    "#from matplotlib import cm\n",
    "#from matplotlib.lines import Line2D\n",
    "\n",
    "#import cartopy.crs as ccrs\n",
    "#from cartopy.feature import NaturalEarthFeature\n",
    "#from cartopy.mpl.ticker import LongitudeFormatter, LatitudeFormatter\n",
    "#import cartopy.feature as cf\n",
    "#from cartopy.io import shapereader\n",
    "\n",
    "\n",
    "import importlib\n",
    "\n",
    "### To Import My Functions ###\n",
    "import itcz_plot_utils as mypy\n"
   ]
  },
  {
   "cell_type": "markdown",
   "id": "7bdd9b59-0120-4e3d-960a-46c28aa70bfc",
   "metadata": {},
   "source": [
    "### Spin up dask cluster"
   ]
  },
  {
   "cell_type": "code",
   "execution_count": 36,
   "id": "7e8426c1-e6e5-40ba-bc4b-ac147608d617",
   "metadata": {},
   "outputs": [
    {
     "name": "stderr",
     "output_type": "stream",
     "text": [
      "/glade/work/rneale/python/miniconda3/envs/neale_myenv/lib/python3.8/site-packages/dask_jobqueue/core.py:255: FutureWarning: job_extra has been renamed to job_extra_directives. You are still using it (even if only set to []; please also check config files). If you did not set job_extra_directives yet, job_extra will be respected for now, but it will be removed in a future release. If you already set job_extra_directives, job_extra is ignored and you can remove it.\n",
      "  warnings.warn(warn, FutureWarning)\n",
      "/glade/work/rneale/python/miniconda3/envs/neale_myenv/lib/python3.8/site-packages/dask_jobqueue/core.py:274: FutureWarning: env_extra has been renamed to job_script_prologue. You are still using it (even if only set to []; please also check config files). If you did not set job_script_prologue yet, env_extra will be respected for now, but it will be removed in a future release. If you already set job_script_prologue, env_extra is ignored and you can remove it.\n",
      "  warnings.warn(warn, FutureWarning)\n",
      "/glade/work/rneale/python/miniconda3/envs/neale_myenv/lib/python3.8/site-packages/dask_jobqueue/pbs.py:82: FutureWarning: project has been renamed to account as this kwarg was used wit -A option. You are still using it (please also check config files). If you did not set account yet, project will be respected for now, but it will be removed in a future release. If you already set account, project is ignored and you can remove it.\n",
      "  warnings.warn(warn, FutureWarning)\n",
      "/glade/work/rneale/python/miniconda3/envs/neale_myenv/lib/python3.8/site-packages/dask_jobqueue/core.py:255: FutureWarning: job_extra has been renamed to job_extra_directives. You are still using it (even if only set to []; please also check config files). If you did not set job_extra_directives yet, job_extra will be respected for now, but it will be removed in a future release. If you already set job_extra_directives, job_extra is ignored and you can remove it.\n",
      "  warnings.warn(warn, FutureWarning)\n",
      "/glade/work/rneale/python/miniconda3/envs/neale_myenv/lib/python3.8/site-packages/dask_jobqueue/core.py:274: FutureWarning: env_extra has been renamed to job_script_prologue. You are still using it (even if only set to []; please also check config files). If you did not set job_script_prologue yet, env_extra will be respected for now, but it will be removed in a future release. If you already set job_script_prologue, env_extra is ignored and you can remove it.\n",
      "  warnings.warn(warn, FutureWarning)\n",
      "/glade/work/rneale/python/miniconda3/envs/neale_myenv/lib/python3.8/site-packages/dask_jobqueue/pbs.py:82: FutureWarning: project has been renamed to account as this kwarg was used wit -A option. You are still using it (please also check config files). If you did not set account yet, project will be respected for now, but it will be removed in a future release. If you already set account, project is ignored and you can remove it.\n",
      "  warnings.warn(warn, FutureWarning)\n"
     ]
    }
   ],
   "source": [
    "from distributed import Client\n",
    "from ncar_jobqueue import NCARCluster\n",
    "\n",
    "cluster = NCARCluster()\n",
    "cluster.scale(jobs=4)"
   ]
  },
  {
   "cell_type": "code",
   "execution_count": 37,
   "id": "658c6797-923f-4aec-8c4c-c6643b91c844",
   "metadata": {},
   "outputs": [
    {
     "data": {
      "text/html": [
       "<div>\n",
       "    <div style=\"width: 24px; height: 24px; background-color: #e1e1e1; border: 3px solid #9D9D9D; border-radius: 5px; position: absolute;\"> </div>\n",
       "    <div style=\"margin-left: 48px;\">\n",
       "        <h3 style=\"margin-bottom: 0px;\">Client</h3>\n",
       "        <p style=\"color: #9D9D9D; margin-bottom: 0px;\">Client-1331e7a1-3221-11ee-8cff-1c34da4ce4df</p>\n",
       "        <table style=\"width: 100%; text-align: left;\">\n",
       "\n",
       "        <tr>\n",
       "        \n",
       "            <td style=\"text-align: left;\"><strong>Connection method:</strong> Cluster object</td>\n",
       "            <td style=\"text-align: left;\"><strong>Cluster type:</strong> dask_jobqueue.PBSCluster</td>\n",
       "        \n",
       "        </tr>\n",
       "\n",
       "        \n",
       "            <tr>\n",
       "                <td style=\"text-align: left;\">\n",
       "                    <strong>Dashboard: </strong> <a href=\"https://jupyterhub.hpc.ucar.edu/stable/user/rneale/proxy/8787/status\" target=\"_blank\">https://jupyterhub.hpc.ucar.edu/stable/user/rneale/proxy/8787/status</a>\n",
       "                </td>\n",
       "                <td style=\"text-align: left;\"></td>\n",
       "            </tr>\n",
       "        \n",
       "\n",
       "        </table>\n",
       "\n",
       "        \n",
       "\n",
       "        \n",
       "            <details>\n",
       "            <summary style=\"margin-bottom: 20px;\"><h3 style=\"display: inline;\">Cluster Info</h3></summary>\n",
       "            <div class=\"jp-RenderedHTMLCommon jp-RenderedHTML jp-mod-trusted jp-OutputArea-output\">\n",
       "    <div style=\"width: 24px; height: 24px; background-color: #e1e1e1; border: 3px solid #9D9D9D; border-radius: 5px; position: absolute;\">\n",
       "    </div>\n",
       "    <div style=\"margin-left: 48px;\">\n",
       "        <h3 style=\"margin-bottom: 0px; margin-top: 0px;\">PBSCluster</h3>\n",
       "        <p style=\"color: #9D9D9D; margin-bottom: 0px;\">0fa95434</p>\n",
       "        <table style=\"width: 100%; text-align: left;\">\n",
       "            <tr>\n",
       "                <td style=\"text-align: left;\">\n",
       "                    <strong>Dashboard:</strong> <a href=\"https://jupyterhub.hpc.ucar.edu/stable/user/rneale/proxy/8787/status\" target=\"_blank\">https://jupyterhub.hpc.ucar.edu/stable/user/rneale/proxy/8787/status</a>\n",
       "                </td>\n",
       "                <td style=\"text-align: left;\">\n",
       "                    <strong>Workers:</strong> 0\n",
       "                </td>\n",
       "            </tr>\n",
       "            <tr>\n",
       "                <td style=\"text-align: left;\">\n",
       "                    <strong>Total threads:</strong> 0\n",
       "                </td>\n",
       "                <td style=\"text-align: left;\">\n",
       "                    <strong>Total memory:</strong> 0 B\n",
       "                </td>\n",
       "            </tr>\n",
       "            \n",
       "        </table>\n",
       "\n",
       "        <details>\n",
       "            <summary style=\"margin-bottom: 20px;\">\n",
       "                <h3 style=\"display: inline;\">Scheduler Info</h3>\n",
       "            </summary>\n",
       "\n",
       "            <div style=\"\">\n",
       "    <div>\n",
       "        <div style=\"width: 24px; height: 24px; background-color: #FFF7E5; border: 3px solid #FF6132; border-radius: 5px; position: absolute;\"> </div>\n",
       "        <div style=\"margin-left: 48px;\">\n",
       "            <h3 style=\"margin-bottom: 0px;\">Scheduler</h3>\n",
       "            <p style=\"color: #9D9D9D; margin-bottom: 0px;\">Scheduler-5891d2e5-c9fd-4e36-9762-eba15a4ca38c</p>\n",
       "            <table style=\"width: 100%; text-align: left;\">\n",
       "                <tr>\n",
       "                    <td style=\"text-align: left;\">\n",
       "                        <strong>Comm:</strong> tcp://10.148.0.5:44913\n",
       "                    </td>\n",
       "                    <td style=\"text-align: left;\">\n",
       "                        <strong>Workers:</strong> 0\n",
       "                    </td>\n",
       "                </tr>\n",
       "                <tr>\n",
       "                    <td style=\"text-align: left;\">\n",
       "                        <strong>Dashboard:</strong> <a href=\"https://jupyterhub.hpc.ucar.edu/stable/user/rneale/proxy/8787/status\" target=\"_blank\">https://jupyterhub.hpc.ucar.edu/stable/user/rneale/proxy/8787/status</a>\n",
       "                    </td>\n",
       "                    <td style=\"text-align: left;\">\n",
       "                        <strong>Total threads:</strong> 0\n",
       "                    </td>\n",
       "                </tr>\n",
       "                <tr>\n",
       "                    <td style=\"text-align: left;\">\n",
       "                        <strong>Started:</strong> Just now\n",
       "                    </td>\n",
       "                    <td style=\"text-align: left;\">\n",
       "                        <strong>Total memory:</strong> 0 B\n",
       "                    </td>\n",
       "                </tr>\n",
       "            </table>\n",
       "        </div>\n",
       "    </div>\n",
       "\n",
       "    <details style=\"margin-left: 48px;\">\n",
       "        <summary style=\"margin-bottom: 20px;\">\n",
       "            <h3 style=\"display: inline;\">Workers</h3>\n",
       "        </summary>\n",
       "\n",
       "        \n",
       "\n",
       "    </details>\n",
       "</div>\n",
       "\n",
       "        </details>\n",
       "    </div>\n",
       "</div>\n",
       "            </details>\n",
       "        \n",
       "\n",
       "    </div>\n",
       "</div>"
      ],
      "text/plain": [
       "<Client: 'tcp://10.148.0.5:44913' processes=0 threads=0, memory=0 B>"
      ]
     },
     "execution_count": 37,
     "metadata": {},
     "output_type": "execute_result"
    }
   ],
   "source": [
    "client = Client(cluster)\n",
    "client"
   ]
  },
  {
   "cell_type": "markdown",
   "id": "1bdba180-cd10-492b-82e9-6c4e2926dae3",
   "metadata": {},
   "source": [
    "### Set up variables for the analysis"
   ]
  },
  {
   "cell_type": "code",
   "execution_count": 38,
   "id": "8ca17a91-3801-4733-8854-b899be464101",
   "metadata": {},
   "outputs": [],
   "source": [
    "dir_in = '/glade/scratch/rneale/archive/'\n",
    "run_name = 'f.e21.F2000climo.f19_f19.cesm2_1.itcz.000'\n",
    "\n",
    "data_option = 1. # 0 - Automatic decisions based on data file existance. \n",
    "                 # 1 - Read Raw Data.\n",
    "                 # 2 - Read in pre-existing data.\n",
    "data_period = 'd' # m - Monthly climatologies\n",
    "                  # d - Daily climatologies\n",
    "\n",
    "var_plot = 'DTCOND'\n",
    "    "
   ]
  },
  {
   "cell_type": "markdown",
   "id": "ae23084f-9d61-47d3-a30d-8fd6e84c0098",
   "metadata": {},
   "source": [
    "### Raw Data Grabbing + Proc OR Grab pre-processed data"
   ]
  },
  {
   "cell_type": "code",
   "execution_count": null,
   "id": "6b6c7015-578b-4c23-9640-28a5fb2f9c06",
   "metadata": {},
   "outputs": [
    {
     "name": "stdout",
     "output_type": "stream",
     "text": [
      "-------- get_hist_data --------\n",
      "/glade/scratch/rneale/archive/f.e21.F2000climo.f19_f19.cesm2_1.itcz.000/ -- Run path exists\n",
      "/glade/scratch/rneale/archive/f.e21.F2000climo.f19_f19.cesm2_1.itcz.000/climo/ -- Climo path exists\n",
      "\n",
      " -- DAILY HISTORY FILES (h1) --\n",
      "First = /glade/scratch/rneale/archive/f.e21.F2000climo.f19_f19.cesm2_1.itcz.000/atm/hist/f.e21.F2000climo.f19_f19.cesm2_1.itcz.000.cam.h1.0001-01-01-00000.nc\n",
      "Last  = /glade/scratch/rneale/archive/f.e21.F2000climo.f19_f19.cesm2_1.itcz.000/atm/hist/f.e21.F2000climo.f19_f19.cesm2_1.itcz.000.cam.h1.0005-12-27-00000.nc\n",
      "\n",
      "-- Opening History Files --\n"
     ]
    }
   ],
   "source": [
    "importlib.reload(mypy) # Required because I am constantly editing scam_func.py\n",
    "\n",
    "\n",
    "data_in = mypy.get_cesm_data('DTCOND',data_option,data_period,run_name,dir_in)\n"
   ]
  },
  {
   "cell_type": "code",
   "execution_count": null,
   "id": "489ea90d-78ed-46f1-a10f-216822bb26ea",
   "metadata": {},
   "outputs": [],
   "source": []
  },
  {
   "cell_type": "code",
   "execution_count": null,
   "id": "5472b93a-a4b2-48ed-b00c-87294af47c97",
   "metadata": {},
   "outputs": [],
   "source": []
  }
 ],
 "metadata": {
  "kernelspec": {
   "display_name": "neale_myenv",
   "language": "python",
   "name": "neale_myenv"
  },
  "language_info": {
   "codemirror_mode": {
    "name": "ipython",
    "version": 3
   },
   "file_extension": ".py",
   "mimetype": "text/x-python",
   "name": "python",
   "nbconvert_exporter": "python",
   "pygments_lexer": "ipython3",
   "version": "3.8.15"
  }
 },
 "nbformat": 4,
 "nbformat_minor": 5
}
