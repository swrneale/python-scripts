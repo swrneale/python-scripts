{
 "cells": [
  {
   "cell_type": "markdown",
   "id": "3da180c5-d9f7-400d-9921-04a438ff9413",
   "metadata": {},
   "source": [
    "# Main Code to carry out blocking statistics and diagnostics on model data (CESM+others) and observations\n",
    "### Specific Code to:\n",
    "#### 1. Setup the analysis to be done and data to be ingested\n",
    "#### 2. Climatology plots\n",
    "#### 3. Jet latitude index\n",
    "#### 4. 1D Frequency plots\n",
    "#### 5. 2d Frequency plots\n",
    "#### 6. PDF of blocking strengths\n",
    "#### 7. Composite of plots conditioned on blocking strength\n",
    "#### 8. PDF of blocking/baroclinic events length"
   ]
  },
  {
   "cell_type": "code",
   "execution_count": 1,
   "id": "4d97aac5-6958-4414-86a4-202f9f575a01",
   "metadata": {},
   "outputs": [],
   "source": [
    "'''\n",
    "    PACKAGES\n",
    "'''\n",
    "import numpy as np\n",
    "import xarray as xr\n",
    "import pandas as pd\n",
    "\n",
    "import matplotlib.pyplot as mp\n",
    "\n",
    "import os as os\n",
    "\n",
    "import importlib"
   ]
  },
  {
   "cell_type": "code",
   "execution_count": 2,
   "id": "24bff6a7-c48d-4e10-a96f-cbe675c102b3",
   "metadata": {},
   "outputs": [],
   "source": [
    "import blocking_utils as block_utils\n",
    "import blocking_figs as block_figs\n",
    "\n",
    "%load_ext autoreload\n",
    "%autoreload 2"
   ]
  },
  {
   "cell_type": "code",
   "execution_count": 3,
   "id": "f9aaf0a4-f465-4886-8f24-3146f2ec8dce",
   "metadata": {},
   "outputs": [],
   "source": [
    "from dask.distributed import Client\n",
    "from ncar_jobqueue import NCARCluster"
   ]
  },
  {
   "cell_type": "code",
   "execution_count": 4,
   "id": "61c33edb-242c-41aa-9522-6f3930642a6e",
   "metadata": {},
   "outputs": [
    {
     "name": "stderr",
     "output_type": "stream",
     "text": [
      "/glade/work/rneale/python/miniconda3/envs/neale_blocking/lib/python3.11/site-packages/dask_jobqueue/core.py:266: FutureWarning: job_extra has been renamed to job_extra_directives. You are still using it (even if only set to []; please also check config files). If you did not set job_extra_directives yet, job_extra will be respected for now, but it will be removed in a future release. If you already set job_extra_directives, job_extra is ignored and you can remove it.\n",
      "  warnings.warn(warn, FutureWarning)\n",
      "/glade/work/rneale/python/miniconda3/envs/neale_blocking/lib/python3.11/site-packages/dask_jobqueue/core.py:285: FutureWarning: env_extra has been renamed to job_script_prologue. You are still using it (even if only set to []; please also check config files). If you did not set job_script_prologue yet, env_extra will be respected for now, but it will be removed in a future release. If you already set job_script_prologue, env_extra is ignored and you can remove it.\n",
      "  warnings.warn(warn, FutureWarning)\n",
      "/glade/work/rneale/python/miniconda3/envs/neale_blocking/lib/python3.11/site-packages/dask_jobqueue/pbs.py:82: FutureWarning: project has been renamed to account as this kwarg was used wit -A option. You are still using it (please also check config files). If you did not set account yet, project will be respected for now, but it will be removed in a future release. If you already set account, project is ignored and you can remove it.\n",
      "  warnings.warn(warn, FutureWarning)\n",
      "/glade/work/rneale/python/miniconda3/envs/neale_blocking/lib/python3.11/site-packages/dask_jobqueue/core.py:266: FutureWarning: job_extra has been renamed to job_extra_directives. You are still using it (even if only set to []; please also check config files). If you did not set job_extra_directives yet, job_extra will be respected for now, but it will be removed in a future release. If you already set job_extra_directives, job_extra is ignored and you can remove it.\n",
      "  warnings.warn(warn, FutureWarning)\n",
      "/glade/work/rneale/python/miniconda3/envs/neale_blocking/lib/python3.11/site-packages/dask_jobqueue/core.py:285: FutureWarning: env_extra has been renamed to job_script_prologue. You are still using it (even if only set to []; please also check config files). If you did not set job_script_prologue yet, env_extra will be respected for now, but it will be removed in a future release. If you already set job_script_prologue, env_extra is ignored and you can remove it.\n",
      "  warnings.warn(warn, FutureWarning)\n",
      "/glade/work/rneale/python/miniconda3/envs/neale_blocking/lib/python3.11/site-packages/dask_jobqueue/pbs.py:82: FutureWarning: project has been renamed to account as this kwarg was used wit -A option. You are still using it (please also check config files). If you did not set account yet, project will be respected for now, but it will be removed in a future release. If you already set account, project is ignored and you can remove it.\n",
      "  warnings.warn(warn, FutureWarning)\n"
     ]
    },
    {
     "data": {
      "text/html": [
       "<div>\n",
       "    <div style=\"width: 24px; height: 24px; background-color: #e1e1e1; border: 3px solid #9D9D9D; border-radius: 5px; position: absolute;\"> </div>\n",
       "    <div style=\"margin-left: 48px;\">\n",
       "        <h3 style=\"margin-bottom: 0px;\">Client</h3>\n",
       "        <p style=\"color: #9D9D9D; margin-bottom: 0px;\">Client-991712e3-db47-11ee-aaab-3cecef1b157c</p>\n",
       "        <table style=\"width: 100%; text-align: left;\">\n",
       "\n",
       "        <tr>\n",
       "        \n",
       "            <td style=\"text-align: left;\"><strong>Connection method:</strong> Cluster object</td>\n",
       "            <td style=\"text-align: left;\"><strong>Cluster type:</strong> dask_jobqueue.PBSCluster</td>\n",
       "        \n",
       "        </tr>\n",
       "\n",
       "        \n",
       "            <tr>\n",
       "                <td style=\"text-align: left;\">\n",
       "                    <strong>Dashboard: </strong> <a href=\"https://jupyterhub.hpc.ucar.edu/stable/user/rneale/proxy/8787/status\" target=\"_blank\">https://jupyterhub.hpc.ucar.edu/stable/user/rneale/proxy/8787/status</a>\n",
       "                </td>\n",
       "                <td style=\"text-align: left;\"></td>\n",
       "            </tr>\n",
       "        \n",
       "\n",
       "        </table>\n",
       "\n",
       "        \n",
       "\n",
       "        \n",
       "            <details>\n",
       "            <summary style=\"margin-bottom: 20px;\"><h3 style=\"display: inline;\">Cluster Info</h3></summary>\n",
       "            <div class=\"jp-RenderedHTMLCommon jp-RenderedHTML jp-mod-trusted jp-OutputArea-output\">\n",
       "    <div style=\"width: 24px; height: 24px; background-color: #e1e1e1; border: 3px solid #9D9D9D; border-radius: 5px; position: absolute;\">\n",
       "    </div>\n",
       "    <div style=\"margin-left: 48px;\">\n",
       "        <h3 style=\"margin-bottom: 0px; margin-top: 0px;\">PBSCluster</h3>\n",
       "        <p style=\"color: #9D9D9D; margin-bottom: 0px;\">80a2357e</p>\n",
       "        <table style=\"width: 100%; text-align: left;\">\n",
       "            <tr>\n",
       "                <td style=\"text-align: left;\">\n",
       "                    <strong>Dashboard:</strong> <a href=\"https://jupyterhub.hpc.ucar.edu/stable/user/rneale/proxy/8787/status\" target=\"_blank\">https://jupyterhub.hpc.ucar.edu/stable/user/rneale/proxy/8787/status</a>\n",
       "                </td>\n",
       "                <td style=\"text-align: left;\">\n",
       "                    <strong>Workers:</strong> 0\n",
       "                </td>\n",
       "            </tr>\n",
       "            <tr>\n",
       "                <td style=\"text-align: left;\">\n",
       "                    <strong>Total threads:</strong> 0\n",
       "                </td>\n",
       "                <td style=\"text-align: left;\">\n",
       "                    <strong>Total memory:</strong> 0 B\n",
       "                </td>\n",
       "            </tr>\n",
       "            \n",
       "        </table>\n",
       "\n",
       "        <details>\n",
       "            <summary style=\"margin-bottom: 20px;\">\n",
       "                <h3 style=\"display: inline;\">Scheduler Info</h3>\n",
       "            </summary>\n",
       "\n",
       "            <div style=\"\">\n",
       "    <div>\n",
       "        <div style=\"width: 24px; height: 24px; background-color: #FFF7E5; border: 3px solid #FF6132; border-radius: 5px; position: absolute;\"> </div>\n",
       "        <div style=\"margin-left: 48px;\">\n",
       "            <h3 style=\"margin-bottom: 0px;\">Scheduler</h3>\n",
       "            <p style=\"color: #9D9D9D; margin-bottom: 0px;\">Scheduler-ad8f3ae8-404a-4761-b536-0c0c4e01ecad</p>\n",
       "            <table style=\"width: 100%; text-align: left;\">\n",
       "                <tr>\n",
       "                    <td style=\"text-align: left;\">\n",
       "                        <strong>Comm:</strong> tcp://10.18.206.59:39105\n",
       "                    </td>\n",
       "                    <td style=\"text-align: left;\">\n",
       "                        <strong>Workers:</strong> 0\n",
       "                    </td>\n",
       "                </tr>\n",
       "                <tr>\n",
       "                    <td style=\"text-align: left;\">\n",
       "                        <strong>Dashboard:</strong> <a href=\"https://jupyterhub.hpc.ucar.edu/stable/user/rneale/proxy/8787/status\" target=\"_blank\">https://jupyterhub.hpc.ucar.edu/stable/user/rneale/proxy/8787/status</a>\n",
       "                    </td>\n",
       "                    <td style=\"text-align: left;\">\n",
       "                        <strong>Total threads:</strong> 0\n",
       "                    </td>\n",
       "                </tr>\n",
       "                <tr>\n",
       "                    <td style=\"text-align: left;\">\n",
       "                        <strong>Started:</strong> Just now\n",
       "                    </td>\n",
       "                    <td style=\"text-align: left;\">\n",
       "                        <strong>Total memory:</strong> 0 B\n",
       "                    </td>\n",
       "                </tr>\n",
       "            </table>\n",
       "        </div>\n",
       "    </div>\n",
       "\n",
       "    <details style=\"margin-left: 48px;\">\n",
       "        <summary style=\"margin-bottom: 20px;\">\n",
       "            <h3 style=\"display: inline;\">Workers</h3>\n",
       "        </summary>\n",
       "\n",
       "        \n",
       "\n",
       "    </details>\n",
       "</div>\n",
       "\n",
       "        </details>\n",
       "    </div>\n",
       "</div>\n",
       "            </details>\n",
       "        \n",
       "\n",
       "    </div>\n",
       "</div>"
      ],
      "text/plain": [
       "<Client: 'tcp://10.18.206.59:39105' processes=0 threads=0, memory=0 B>"
      ]
     },
     "execution_count": 4,
     "metadata": {},
     "output_type": "execute_result"
    }
   ],
   "source": [
    "cluster = NCARCluster(project='P93300642',interface='mgt', job_extra_directives=[])\n",
    "cluster\n",
    "cluster.scale(jobs=8)\n",
    "client = Client(cluster)\n",
    "client"
   ]
  },
  {
   "cell_type": "code",
   "execution_count": 5,
   "id": "23bbfd76-edf2-4060-a98d-12252887ef65",
   "metadata": {},
   "outputs": [],
   "source": [
    "'''\n",
    "    TOP LEVEL OPTIONS\n",
    "'''\n",
    "\n",
    "ens_names = ['ERA5','ERAI']\n",
    "ens_mem_num = [1,1]  # Ensemble members per ensemble set\n",
    "ens_ystart = ['1979']*len(ens_names)\n",
    "ens_yend     = ['2000']*len(ens_names)\n",
    "block_season = 'DJF'\n",
    "cam_var = 'Z500'\n",
    "block_diag_hem = ['nhem']  \n",
    "block_diag_set = ['1d']\n",
    "\n"
   ]
  },
  {
   "cell_type": "code",
   "execution_count": 6,
   "id": "4e96cbc0-8992-4058-aa47-fecb7393b399",
   "metadata": {},
   "outputs": [
    {
     "data": {
      "text/html": [
       "<div>\n",
       "<style scoped>\n",
       "    .dataframe tbody tr th:only-of-type {\n",
       "        vertical-align: middle;\n",
       "    }\n",
       "\n",
       "    .dataframe tbody tr th {\n",
       "        vertical-align: top;\n",
       "    }\n",
       "\n",
       "    .dataframe thead th {\n",
       "        text-align: right;\n",
       "    }\n",
       "</style>\n",
       "<table border=\"1\" class=\"dataframe\">\n",
       "  <thead>\n",
       "    <tr style=\"text-align: right;\">\n",
       "      <th></th>\n",
       "      <th>Ensemble Type</th>\n",
       "      <th>Ensemble Size</th>\n",
       "      <th>Start Year</th>\n",
       "      <th>End Year</th>\n",
       "      <th>Run Name</th>\n",
       "      <th>Run File</th>\n",
       "    </tr>\n",
       "  </thead>\n",
       "  <tbody>\n",
       "    <tr>\n",
       "      <th>ERA5</th>\n",
       "      <td>obs</td>\n",
       "      <td>1</td>\n",
       "      <td>1979</td>\n",
       "      <td>2000</td>\n",
       "      <td>[ERA5]</td>\n",
       "      <td>[/glade/work/rneale/data/ERA5/VAR_TBD.day.mean...</td>\n",
       "    </tr>\n",
       "    <tr>\n",
       "      <th>ERAI</th>\n",
       "      <td>obs</td>\n",
       "      <td>1</td>\n",
       "      <td>1979</td>\n",
       "      <td>2000</td>\n",
       "      <td>[ERAI]</td>\n",
       "      <td>[/glade/work/rneale/data/ERAI/VAR_TBD.day.mean...</td>\n",
       "    </tr>\n",
       "  </tbody>\n",
       "</table>\n",
       "</div>"
      ],
      "text/plain": [
       "     Ensemble Type  Ensemble Size Start Year End Year Run Name  \\\n",
       "ERA5           obs              1       1979     2000   [ERA5]   \n",
       "ERAI           obs              1       1979     2000   [ERAI]   \n",
       "\n",
       "                                               Run File  \n",
       "ERA5  [/glade/work/rneale/data/ERA5/VAR_TBD.day.mean...  \n",
       "ERAI  [/glade/work/rneale/data/ERAI/VAR_TBD.day.mean...  "
      ]
     },
     "metadata": {},
     "output_type": "display_data"
    }
   ],
   "source": [
    "'''\n",
    "    MAIN ROUTINES\n",
    "'''\n",
    "\n",
    "importlib.reload(block_utils) # Required because I am constantly editing utility routines.\n",
    "\n",
    "# Grab basic ens+run information and populate a dictionary)\n",
    "block_meta = block_utils.ens_setup(ens_names,ens_mem_num,ens_ystart,ens_yend)"
   ]
  },
  {
   "cell_type": "code",
   "execution_count": 7,
   "id": "e39e595d-2fe5-46b4-9ab7-1add6eab09d7",
   "metadata": {},
   "outputs": [
    {
     "name": "stdout",
     "output_type": "stream",
     "text": [
      "-> dataset_get -> Requested season     :  DJF\n",
      "-> dataset_get ->  Opening ensemble  ERA5  -  1  ensemble(s)\n",
      "-> dataset_get -> Requested year range :  1979 - 2000\n",
      "-> dataset_get ->  Opening ensemble  ERAI  -  1  ensemble(s)\n",
      "-> dataset_get -> Requested year range :  1979 - 2000\n",
      "-> dataset_get ->  Duration: 26.279797077178955\n",
      "\n"
     ]
    }
   ],
   "source": [
    "'''\n",
    "    Grab daily datasets needed for each 'ensemble'\n",
    "'''\n",
    "\n",
    "ensemble_ds = block_utils.dataset_get(block_meta,cam_var,block_season,block_diag_hem)"
   ]
  },
  {
   "cell_type": "code",
   "execution_count": 1,
   "id": "ff23c3d3-c0c8-43bc-ba0f-18aa68077e6a",
   "metadata": {},
   "outputs": [
    {
     "ename": "NameError",
     "evalue": "name 'block_utils' is not defined",
     "output_type": "error",
     "traceback": [
      "\u001b[0;31m---------------------------------------------------------------------------\u001b[0m",
      "\u001b[0;31mNameError\u001b[0m                                 Traceback (most recent call last)",
      "Cell \u001b[0;32mIn[1], line 5\u001b[0m\n\u001b[1;32m      1\u001b[0m \u001b[38;5;124;03m'''\u001b[39;00m\n\u001b[1;32m      2\u001b[0m \u001b[38;5;124;03m    Calculate 1D blocking frequency.\u001b[39;00m\n\u001b[1;32m      3\u001b[0m \u001b[38;5;124;03m'''\u001b[39;00m\n\u001b[0;32m----> 5\u001b[0m ensemble_block_1d \u001b[38;5;241m=\u001b[39m \u001b[43mblock_utils\u001b[49m\u001b[38;5;241m.\u001b[39mblock_z500_1d(block_meta,ensemble_ds,block_season,file_opts\u001b[38;5;241m=\u001b[39m\u001b[38;5;124m'\u001b[39m\u001b[38;5;124mr\u001b[39m\u001b[38;5;124m'\u001b[39m)\n",
      "\u001b[0;31mNameError\u001b[0m: name 'block_utils' is not defined"
     ]
    }
   ],
   "source": [
    "'''\n",
    "    Calculate 1D blocking frequency.\n",
    "'''\n",
    "\n",
    "ensemble_block_1d = block_utils.block_z500_1d(block_meta,ensemble_ds,block_season,file_opts='r')"
   ]
  },
  {
   "cell_type": "code",
   "execution_count": null,
   "id": "70b6e9f8-d9ce-42ee-ad5f-93fed760ccf1",
   "metadata": {},
   "outputs": [
    {
     "name": "stdout",
     "output_type": "stream",
     "text": [
      "-> block_z500_1d ->   Calculating 2-D blocking statistics \n"
     ]
    }
   ],
   "source": [
    "'''\n",
    "    Calculate 2D blocking frequency.\n",
    "'''\n",
    "\n",
    "ensemble_block_1d = block_utils.block_z500_2d(block_meta,ensemble_ds,block_season,block_diag = '2D', file_opts = 'w')"
   ]
  },
  {
   "cell_type": "code",
   "execution_count": null,
   "id": "de13dc70-7281-46b9-9daa-5ddf71befa7b",
   "metadata": {
    "scrolled": true
   },
   "outputs": [],
   "source": [
    "'''\n",
    "    Plot 1D blocking: Shade = 1,2,mm (1,2std or min->max)\n",
    "'''\n",
    "\n",
    "block_figs.block_plot_1d(block_meta,ensemble_block_1d,block_season,fig_out=True)"
   ]
  },
  {
   "cell_type": "code",
   "execution_count": null,
   "id": "18ec5065-8247-48db-9f83-6cb96c295a48",
   "metadata": {},
   "outputs": [],
   "source": [
    "'''\n",
    "    Plot 2D blocking: Shade = 1,2,mm (1,2std or min->max)\n",
    "'''\n",
    "\n",
    "block_figs.block_plot_2d(block_meta,ensemble_block_2d,block_season,fig_out=True)"
   ]
  },
  {
   "cell_type": "code",
   "execution_count": null,
   "id": "e04df624-183f-4e12-91d6-30bc6a4e68d9",
   "metadata": {},
   "outputs": [],
   "source": [
    "#bstats = atmos_block.stats\n",
    "#bclimo = atmos_block.climo\n",
    "#bjet_lat = atmos_block.get_lat\n",
    "#bfreq_1d = atmos_block.bfreq_1d\n",
    "#bfreq_2d = atmos_block.bfreq_2d\n",
    "#bpdf_1d = atmos_block.bfreq_2d\n",
    "#bcomp_lag = atmos_block.bfreq_lag\n",
    "#bday_len = atmos_block.bday_len"
   ]
  },
  {
   "cell_type": "code",
   "execution_count": null,
   "id": "0cf9f95d-33b6-453d-b3be-8367a3fb0f2f",
   "metadata": {},
   "outputs": [],
   "source": []
  }
 ],
 "metadata": {
  "kernelspec": {
   "display_name": "neale_blocking",
   "language": "python",
   "name": "neale_blocking"
  },
  "language_info": {
   "codemirror_mode": {
    "name": "ipython",
    "version": 3
   },
   "file_extension": ".py",
   "mimetype": "text/x-python",
   "name": "python",
   "nbconvert_exporter": "python",
   "pygments_lexer": "ipython3",
   "version": "3.11.8"
  }
 },
 "nbformat": 4,
 "nbformat_minor": 5
}
