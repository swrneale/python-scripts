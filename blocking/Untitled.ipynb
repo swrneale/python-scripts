{
 "cells": [
  {
   "cell_type": "code",
   "execution_count": 12,
   "id": "850f8292-be7d-4f67-aec7-5455baa50045",
   "metadata": {
    "scrolled": true
   },
   "outputs": [],
   "source": [
    "import xarray as xr\n",
    "import pandas as pd\n",
    "\n",
    "\n",
    "run_file = '/glade/work/rneale/data/MERRA/Z500.day.mean.nc'\n",
    "ds_run = xr.open_mfdataset(run_file,combine=\"nested\",parallel=True)"
   ]
  },
  {
   "cell_type": "code",
   "execution_count": 16,
   "id": "e5b92dba-061a-48ea-872e-aa2ed315a61f",
   "metadata": {
    "scrolled": true
   },
   "outputs": [
    {
     "name": "stdout",
     "output_type": "stream",
     "text": [
      "<xarray.DataArray 'time' (time: 12053)>\n",
      "array([2443875., 2443876., 2443877., ..., 2455925., 2455926., 2455927.])\n",
      "Coordinates:\n",
      "  * time     (time) float64 2.444e+06 2.444e+06 ... 2.456e+06 2.456e+06\n",
      "Attributes:\n",
      "    units:         Julian Day\n",
      "    long_name:     Time\n",
      "    actual_range:  [2443875 2444239]\n",
      "    time_step:     0000:00:01 00:00:00\n",
      "    delta_t:       daily\n",
      "    calendar:      julian day\n",
      "['1979-01-01T12:00:00.000000000' '1979-01-02T12:00:00.000000000'\n",
      " '1979-01-03T12:00:00.000000000' ... '2011-12-29T12:00:00.000000000'\n",
      " '2011-12-30T12:00:00.000000000' '2011-12-31T12:00:00.000000000']\n"
     ]
    },
    {
     "ename": "AttributeError",
     "evalue": "'DatetimeIndex' object has no attribute 'to_gregorian'",
     "output_type": "error",
     "traceback": [
      "\u001b[0;31m---------------------------------------------------------------------------\u001b[0m",
      "\u001b[0;31mAttributeError\u001b[0m                            Traceback (most recent call last)",
      "Cell \u001b[0;32mIn[16], line 10\u001b[0m\n\u001b[1;32m      2\u001b[0m \u001b[38;5;28mprint\u001b[39m(pd\u001b[38;5;241m.\u001b[39mto_datetime(ds_run[\u001b[38;5;124m'\u001b[39m\u001b[38;5;124mtime\u001b[39m\u001b[38;5;124m'\u001b[39m], origin\u001b[38;5;241m=\u001b[39m\u001b[38;5;124m'\u001b[39m\u001b[38;5;124mjulian\u001b[39m\u001b[38;5;124m'\u001b[39m, unit\u001b[38;5;241m=\u001b[39m\u001b[38;5;124m'\u001b[39m\u001b[38;5;124mD\u001b[39m\u001b[38;5;124m'\u001b[39m)\u001b[38;5;241m.\u001b[39mvalues)\n\u001b[1;32m      3\u001b[0m \u001b[38;5;66;03m#ds_run['time'] = pd.DatetimeIndex(ds_run['time'])\u001b[39;00m\n\u001b[1;32m      4\u001b[0m \u001b[38;5;66;03m#print(ds_run['time'])\u001b[39;00m\n\u001b[1;32m      5\u001b[0m \n\u001b[1;32m      6\u001b[0m \u001b[38;5;66;03m#ds_run.time = pd.to_datetime(ds_run.time).convert_calendar('gregorian', dim='time', align_on=None, missing=None, use_cftime=None)\u001b[39;00m\n\u001b[0;32m---> 10\u001b[0m \u001b[38;5;28mprint\u001b[39m(\u001b[43mpd\u001b[49m\u001b[38;5;241;43m.\u001b[39;49m\u001b[43mDatetimeIndex\u001b[49m\u001b[43m(\u001b[49m\u001b[43mds_run\u001b[49m\u001b[43m[\u001b[49m\u001b[38;5;124;43m'\u001b[39;49m\u001b[38;5;124;43mtime\u001b[39;49m\u001b[38;5;124;43m'\u001b[39;49m\u001b[43m]\u001b[49m\u001b[43m)\u001b[49m\u001b[38;5;241;43m.\u001b[39;49m\u001b[43mto_gregorian\u001b[49m())\n\u001b[1;32m     14\u001b[0m ds_run[\u001b[38;5;124m'\u001b[39m\u001b[38;5;124mtime\u001b[39m\u001b[38;5;124m'\u001b[39m] \u001b[38;5;241m=\u001b[39m xr\u001b[38;5;241m.\u001b[39mcoding\u001b[38;5;241m.\u001b[39mtimes\u001b[38;5;241m.\u001b[39mdecode_cf_datetime(ds_run[\u001b[38;5;124m'\u001b[39m\u001b[38;5;124mtime\u001b[39m\u001b[38;5;124m'\u001b[39m], calendar\u001b[38;5;241m=\u001b[39m\u001b[38;5;124m'\u001b[39m\u001b[38;5;124mgregorian\u001b[39m\u001b[38;5;124m'\u001b[39m,units\u001b[38;5;241m=\u001b[39m\u001b[38;5;124m'\u001b[39m\u001b[38;5;124mday\u001b[39m\u001b[38;5;124m'\u001b[39m)\n",
      "\u001b[0;31mAttributeError\u001b[0m: 'DatetimeIndex' object has no attribute 'to_gregorian'"
     ]
    }
   ],
   "source": [
    "\n",
    "print(ds_run['time'])\n",
    "print(pd.to_datetime(ds_run['time'], origin='julian', unit='D').values)\n",
    "#ds_run['time'] = pd.DatetimeIndex(ds_run['time'])\n",
    "#print(ds_run['time'])\n",
    "\n",
    "#ds_run.time = pd.to_datetime(ds_run.time).convert_calendar('gregorian', dim='time', align_on=None, missing=None, use_cftime=None)\n",
    "\n",
    "\n",
    "\n",
    "print(pd.DatetimeIndex(ds_run['time']).to_gregorian())\n",
    "\n",
    "\n",
    "\n",
    "ds_run['time'] = xr.coding.times.decode_cf_datetime(ds_run['time'], calendar='gregorian',units='day')"
   ]
  },
  {
   "cell_type": "code",
   "execution_count": null,
   "id": "6516bf6f-b1e9-4045-ad44-988a1f3741ed",
   "metadata": {},
   "outputs": [],
   "source": []
  }
 ],
 "metadata": {
  "kernelspec": {
   "display_name": "neale_myenv",
   "language": "python",
   "name": "neale_myenv"
  },
  "language_info": {
   "codemirror_mode": {
    "name": "ipython",
    "version": 3
   },
   "file_extension": ".py",
   "mimetype": "text/x-python",
   "name": "python",
   "nbconvert_exporter": "python",
   "pygments_lexer": "ipython3",
   "version": "3.11.7"
  }
 },
 "nbformat": 4,
 "nbformat_minor": 5
}
