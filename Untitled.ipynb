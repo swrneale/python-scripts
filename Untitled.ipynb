{
 "cells": [
  {
   "cell_type": "code",
   "execution_count": null,
   "id": "2b81a519-0973-4c7d-860e-464d675dee1c",
   "metadata": {},
   "outputs": [],
   "source": [
    "import xarray\n",
    "import cartopy\n",
    "import numpy as np\n",
    "import matplotlib.pyplot as plt"
   ]
  },
  {
   "cell_type": "code",
   "execution_count": null,
   "id": "67f2106c-d2a3-475d-a427-c3e723893e19",
   "metadata": {},
   "outputs": [],
   "source": [
    "map_proj = cartopy.crs.PlateCarree()\n",
    "data_proj = cartopy.crs.PlateCarree()\n",
    "geodetic_proj = cartopy.crs.PlateCarree()\n",
    "\n",
    "fig = plt.figure(figsize=(5,3.25))\n",
    "\n",
    "ax = fig.add_subplot(111, projection=map_proj)\n",
    "ax.coastlines(color='red')\n",
    "\n",
    "topo_plot = ax.pcolormesh(lon,\\\n",
    "                          lat,\\\n",
    "                          topo_data,vmin=0,vmax=1000,\\\n",
    "                          transform=data_proj)\n",
    "ax.set_extent([90,160,-20,20])\n",
    "\n",
    "# add colorbar\n",
    "axpos = ax.get_position()\n",
    "cbar_ax = fig.add_axes([axpos.x1+0,axpos.y0,0.03,axpos.height])\n",
    "cbar = fig.colorbar(topo_plot, cax=cbar_ax)\n",
    "cbar.ax.tick_params(labelsize=12)\n",
    "cbar.set_label('elevation (m)', fontsize=12)\n"
   ]
  }
 ],
 "metadata": {
  "kernelspec": {
   "display_name": "neale_wrf",
   "language": "python",
   "name": "neale_wrf"
  },
  "language_info": {
   "codemirror_mode": {
    "name": "ipython",
    "version": 3
   },
   "file_extension": ".py",
   "mimetype": "text/x-python",
   "name": "python",
   "nbconvert_exporter": "python",
   "pygments_lexer": "ipython3",
   "version": "3.9.7"
  }
 },
 "nbformat": 4,
 "nbformat_minor": 5
}
