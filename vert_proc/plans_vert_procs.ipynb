{
 "cells": [
  {
   "cell_type": "markdown",
   "id": "moral-services",
   "metadata": {},
   "source": [
    "# Plans for Vertical Processes"
   ]
  },
  {
   "cell_type": "markdown",
   "id": "korean-quarterly",
   "metadata": {
    "tags": []
   },
   "source": [
    "1. Ideas for inclusion\n",
    "* Dynamic attribution of El Nino and La Nina events\n",
    "* Differences plots; i.e., El Nino minus climo/ La Nina minus climo.\n",
    "* Regional plots based on El Nino\n",
    "2. "
   ]
  },
  {
   "cell_type": "code",
   "execution_count": null,
   "id": "colonial-anxiety",
   "metadata": {},
   "outputs": [],
   "source": []
  }
 ],
 "metadata": {
  "kernelspec": {
   "display_name": "Python 3 (ipykernel)",
   "language": "python",
   "name": "python3"
  },
  "language_info": {
   "codemirror_mode": {
    "name": "ipython",
    "version": 3
   },
   "file_extension": ".py",
   "mimetype": "text/x-python",
   "name": "python",
   "nbconvert_exporter": "python",
   "pygments_lexer": "ipython3",
   "version": "3.9.7"
  }
 },
 "nbformat": 4,
 "nbformat_minor": 5
}
