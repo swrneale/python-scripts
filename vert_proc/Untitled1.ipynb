{
 "cells": [
  {
   "cell_type": "code",
   "execution_count": 4,
   "id": "2aeed842-33c0-495b-bd7c-f5c76491ea9e",
   "metadata": {},
   "outputs": [
    {
     "data": {
      "image/png": "[encoded data removed]",
      "text/plain": [
       "<Figure size 432x288 with 2 Axes>"
      ]
     },
     "metadata": {
      "needs_background": "light"
     },
     "output_type": "display_data"
    }
   ],
   "source": [
    "import matplotlib.pyplot as plt\n",
    "import matplotlib.patches as mpatches\n",
    "\n",
    "import cartopy.crs as ccrs\n",
    "\n",
    "desired_projections = [ccrs.PlateCarree(),\n",
    "                       ccrs.RotatedPole(pole_latitude=45, pole_longitude=180)]\n",
    "for plot_num, desired_proj in enumerate(desired_projections):\n",
    "\n",
    "    ax = plt.subplot(2, 1, plot_num + 1, projection=desired_proj)\n",
    "\n",
    "    ax.set_global()\n",
    "\n",
    "    ax.add_patch(mpatches.Rectangle(xy=[-70, -45], width=90, height=90,\n",
    "                                    facecolor='blue',\n",
    "                                    alpha=0.2,\n",
    "                                    transform=ccrs.PlateCarree())\n",
    "                 )\n",
    "\n",
    "    ax.add_patch(mpatches.Rectangle(xy=[70, -45], width=90, height=90,\n",
    "                                    facecolor='red',\n",
    "                                    alpha=0.2,\n",
    "                                    transform=ccrs.Geodetic())\n",
    "                 )\n",
    "\n",
    "#    ax.gridlines()\n",
    "    ax.coastlines()\n",
    "\n",
    "plt.show()"
   ]
  },
  {
   "cell_type": "code",
   "execution_count": null,
   "id": "f9a1732f-0ebb-4984-ac8e-8802e4749c29",
   "metadata": {},
   "outputs": [],
   "source": []
  }
 ],
 "metadata": {
  "kernelspec": {
   "display_name": "neale_myenv",
   "language": "python",
   "name": "neale_myenv"
  },
  "language_info": {
   "codemirror_mode": {
    "name": "ipython",
    "version": 3
   },
   "file_extension": ".py",
   "mimetype": "text/x-python",
   "name": "python",
   "nbconvert_exporter": "python",
   "pygments_lexer": "ipython3",
   "version": "3.8.12"
  }
 },
 "nbformat": 4,
 "nbformat_minor": 5
}
