{
 "cells": [
  {
   "cell_type": "code",
   "execution_count": 8,
   "id": "ed01fba9-85fc-4871-8c9b-6e75ea623d38",
   "metadata": {},
   "outputs": [
    {
     "data": {
      "text/plain": [
       "['E3SM2.E101',\n",
       " 'E3SM2.E111',\n",
       " 'E3SM2.E121',\n",
       " 'E3SM2.E131',\n",
       " 'E3SM2.E141',\n",
       " 'E3SM2.E151',\n",
       " 'E3SM2.E161',\n",
       " 'E3SM2.E171',\n",
       " 'E3SM2.E181',\n",
       " 'E3SM2.E191',\n",
       " 'E3SM2.E201',\n",
       " 'E3SM2.E211',\n",
       " 'E3SM2.E221',\n",
       " 'E3SM2.E231',\n",
       " 'E3SM2.E241',\n",
       " 'E3SM2.E251',\n",
       " 'E3SM2.E261',\n",
       " 'E3SM2.E271',\n",
       " 'E3SM2.E281',\n",
       " 'E3SM2.E291',\n",
       " 'E3SM2.E301']"
      ]
     },
     "execution_count": 8,
     "metadata": {},
     "output_type": "execute_result"
    }
   ],
   "source": [
    "import numpy as np\n",
    "\n",
    "\n",
    "e0 = 101\n",
    "en = 301\n",
    "erange = np.arange(e0,en+10,10)\n",
    "erun = ['v2.FV1.historical_%04d'%(itt) for itt in erange]\n",
    "enum = ['E3SM2.E%01d'%(itt) for itt in erange]\n",
    "enum"
   ]
  },
  {
   "cell_type": "code",
   "execution_count": null,
   "id": "46713a21-d502-4333-a663-82a8cf1c375a",
   "metadata": {},
   "outputs": [],
   "source": []
  }
 ],
 "metadata": {
  "kernelspec": {
   "display_name": "neale_vproc",
   "language": "python",
   "name": "neale_vproc"
  },
  "language_info": {
   "codemirror_mode": {
    "name": "ipython",
    "version": 3
   },
   "file_extension": ".py",
   "mimetype": "text/x-python",
   "name": "python",
   "nbconvert_exporter": "python",
   "pygments_lexer": "ipython3",
   "version": "3.10.9"
  }
 },
 "nbformat": 4,
 "nbformat_minor": 5
}
