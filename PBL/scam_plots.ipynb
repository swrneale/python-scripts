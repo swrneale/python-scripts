{
 "cells": [
  {
   "cell_type": "markdown",
   "metadata": {},
   "source": [
    "<p style=\"violet\"> Set up modules (standard and mine) </b>"
   ]
  },
  {
   "cell_type": "code",
   "execution_count": 18,
   "metadata": {},
   "outputs": [],
   "source": [
    "### Import Standard Packages ###\n",
    "import matplotlib.pyplot as mp\n",
    "from matplotlib.animation import FuncAnimation\n",
    "from IPython.display import HTML\n",
    "\n",
    "import numpy as np\n",
    "import metpy.calc as mpc\n",
    "import metpy.constants as mconst\n",
    "import xarray as xr\n",
    "import scipy as spy\n",
    "import pandas as pd\n",
    "import datetime as dt\n",
    "import cartopy\n",
    "\n",
    "#dir(mconst)\n",
    "### My Functions ###\n",
    "import scam_func as mypy\n",
    "import importlib\n",
    "\n",
    "\n",
    "#%xmode Plain   ## Fortran-like error tracebacks (doesn't seem to work though)"
   ]
  },
  {
   "cell_type": "markdown",
   "metadata": {},
   "source": [
    "<b> Add Experiment Set </b>"
   ]
  },
  {
   "cell_type": "code",
   "execution_count": 27,
   "metadata": {},
   "outputs": [
    {
     "name": "stdout",
     "output_type": "stream",
     "text": [
      "['history/FSCAM.T42_T42.SAS.106.cam.h0.2013-06-10-39600.nc'\n",
      " 'history/FSCAM.T42_T42.SAS.106d.cam.h0.2013-06-10-39600.nc'\n",
      " 'LES/patton_sas_stats.nc']\n"
     ]
    }
   ],
   "source": [
    "#### SCRIPT TO READ IN SCAM OUTPUT AND MAKE SOME PLOTS ####\n",
    "###### IOP file info. ######\n",
    "\n",
    "#xr.show_versions()\n",
    "\n",
    "\n",
    "## Multiple cases ##\n",
    "\n",
    "#scam_file_nums = ['011a','011b','011c','011d']  # For comparisons\n",
    "#scam_file_nums = ['012a','012b','012c','012d','012e','012f']  # For comparisons\n",
    "#scam_file_nums = ['012a','012b','012f']\n",
    "#scam_run_names = ['q_ft','0.5LS.T','no LS.Tq']\n",
    "\n",
    "#scam_run_names = ['q_ft','0.5LS.T','0.5LS.q','0.5LS.Tq','0.25LS.Tq','no LS.Tq']\n",
    "\n",
    "## Vertical resolution ##\n",
    "#scam_file_nums = ['100a','100','100b','100c']\n",
    "#scam_file_nums = ['101a','101','101b','101c','101d'] # 'a'=L16, ''=L32\n",
    "#scam_run_names = ['L16','L32','L64','L128','L256']\n",
    "\n",
    "#scam_file_nums = ['102a','102','102b','102c'] # 'a'=L15, ''=L30\n",
    "#scam_run_names = ['L15','L30','L60','L120']\n",
    "\n",
    "\n",
    "#scam_file_nums = ['101','102'] # 'a'=L16, ''=L32\n",
    "#scam_run_names = ['CAM6','CAM5']\n",
    "\n",
    "\n",
    "#scam_file_nums = ['101def','102def'] # 'a'=L16, ''=L32\n",
    "#scam_run_names = ['CAM6 default','CAM5 default']\n",
    "\n",
    "#scam_file_nums = ['101','101def'] # 'a'=L16, ''=L32\n",
    "#scam_run_names = ['CAM6 2 min','CAM6']\n",
    "\n",
    "#scam_file_nums = ['102','102def'] # 'a'=L16, ''=L32\n",
    "#scam_run_names = ['CAM5 2 min','CAM5']\n",
    "\n",
    "#scam_file_nums = ['101','102'] # 'a'=L16, ''=L32\n",
    "#scam_run_names = ['CAM6 2 min','CAM5 2 min']\n",
    "\n",
    "#scam_file_nums = ['101d','101dx'] # 'a'=L16, ''=L32\n",
    "#scam_run_names = ['CAM6 until 4pm','CAM6 until 11:30pm']\n",
    "\n",
    "#scam_file_nums = ['101d','201d','202d'] # 'a'=L16, ''=L32\n",
    "#scam_run_names = ['gamma_coef=0.308','gamma_coef=0.285','gamma_coef=0.345']\n",
    "\n",
    "### WITH LES ###\n",
    "\n",
    "#scam_file_nums = np.array(['101d','203d','204d','LES']) # 'a'=L16, ''=L32\n",
    "#scam_run_names = ['clubb_c_k10=0.5','clubb_c_k10=0.3','clubb_c_k10','LES']\n",
    "\n",
    "#scam_file_nums = ['101a','101','101b','101c','101d']# 'a'=L16, ''=L32\n",
    "#scam_run_names = ['L16','L32','L64','L128','L256']\n",
    "\n",
    "scam_file_nums = ['106','106d','LES'] # ''=L16, ''=L32\n",
    "scam_run_names = ['CAM6-L32','CAM6-L256','NCAR']\n",
    "\n",
    "\n",
    "#scam_file_nums = ['106','106d'] # ''=L16, ''=L32\n",
    "#scam_run_names = ['CAM6-L32','CAM6-L256']\n",
    "\n",
    "#scam_file_nums = ['106a','106','106b','106c','106d','LES'] # ''=L16, ''=L32\n",
    "#scam_run_names = ['CAM6-L16','CAM6-L32','CAM6-L64','CAM6-L128','CAM6-256','NCAR']\n",
    "\n",
    "#scam_file_nums = ['105d','LES','LES'] # ''=L16, ''=L32\n",
    "#scam_run_names = ['CAM6','CAM6->LES','NCAR']\n",
    "\n",
    "\n",
    "\n",
    "\n",
    "scam_file_pre = \"FSCAM.T42_T42.SAS.\"\n",
    "scam_file_suf = \".cam.h0.2013-06-10-39600\"\n",
    "\n",
    "#scam_files_in = [scam_file_pre+x+scam_file_suf for x in scam_file_nums]\n",
    "#scam_files_in = np.where()\n",
    "\n",
    "#print(scam_files_in)\n",
    "#scam_file_suf = \".cam.h0.2013-06-10-43200\"\n",
    "\n",
    "# LES model selections.\n",
    "\n",
    "les_files_in = {}\n",
    "les_files_in['NCAR'] = \"patton_sas_stats.nc\"\n",
    "\n",
    "\n",
    "### Construct filenames ### \n",
    "\n",
    "scam_files_in = np.empty_like(scam_file_nums)\n",
    "scam_file_nums = np.array(scam_file_nums) \n",
    "scam_run_names = np.array(scam_run_names) \n",
    "\n",
    "\n",
    "# Standard SCAM\n",
    "scam_files_in = ['history/'+scam_file_pre+x+scam_file_suf+'.nc' for x in scam_file_nums] \n",
    "\n",
    "# SCAM in SAS-LES format\n",
    "ii = [ix for ix, x in enumerate(scam_file_nums) if x == 'LES']# Change to LES-SAS-format file if needed \n",
    "for i in ii: scam_files_in[i] = 'history/'+scam_file_pre+scam_file_nums[0]+scam_file_suf+'_SAS_format.nc' \n",
    "\n",
    "# LES in SAS-LES format\n",
    "scam_files_in = np.where(scam_run_names == 'NCAR','LES/'+les_files_in['NCAR'],scam_files_in) # Change to LES file if needed\n",
    "#scam_files_in = np.where(scam_run_names == 'FAST_EDDY','LES/'+les_files_in['FAST_EDDY'],scam_files_in) # Change to LES file if needed\n",
    "\n",
    "\n",
    "\n",
    "print(scam_files_in)\n",
    "\n",
    "#les_file_in = \"LES/FSCAM.T42_T42.SAS.LES.cam.h0.2013-06-10-39600_SAS_format.nc\"\n"
   ]
  },
  {
   "cell_type": "markdown",
   "metadata": {},
   "source": [
    "<b> Diagnostic Field Selections </b>"
   ]
  },
  {
   "cell_type": "code",
   "execution_count": 36,
   "metadata": {},
   "outputs": [],
   "source": [
    "#### PLOTTING ####\n",
    "\n",
    "### 1D TS ### \n",
    "\n",
    "#pvars_ts1d = np.array(['PBLH','TS','LHFLX','SHFLX','PRECC','PRECL','FLNS']) # D profile timeseries plots\n",
    "#pvars_ts2d = ['DTV','VD01','DCQ','Q','T','TH','THL']\n",
    "pvars_ts1d = np.array(['PBLH','PBL_DQMAX'])\n",
    "\n",
    "\n",
    "\n",
    "### 2D TS ###\n",
    "                       ## WPSKEW is WP3_CLUBB/WP2_CLUBB**3/2\n",
    "#pvars_ts2d = ['T','Q','RELHUM','TH','THL','CLOUD','ZMDQ','ZMDT', \n",
    "#            'STEND_CLUBB','RVMTEND_CLUBB','WPTHLP_CLUBB','WPRTP_CLUBB','WP3_CLUBB','THLP2_CLUBB','WP2_CLUBB'] # 2D profile timeseries plots\n",
    "#pvars_ts2d = ['WPRTP_CLUBB','Q','TH']\n",
    "#pvars_ts2d = ['DTV','VD01','DCQ','Q','T','TH','THL']\n",
    "pvars_ts2d = ['THV','TH','Q','WP2_CLUBB','WP3_CLUBB','WPTHLP_CLUBB','WPRTP_CLUBB','THLP2_CLUBB']\n",
    "\n",
    "\n",
    "\n",
    "\n",
    "### 1D SNAPSHOT ###\n",
    "\n",
    "#pvars_ts2d = ['T','Q','RELHUM','TH','THL','CLOUD','ZMDQ','ZMDT','DTCOND','DCQ']\n",
    "\n",
    "#pvars_ts2d = ['STEND_CLUBB','RVMTEND_CLUBB','WPTHLP_CLUBB','WPRTP_CLUBB','THLP2_CLUBB','WP2_CLUBB','WP3_CLUBB'] \n",
    "    \n",
    "#pvars_snap = ['STEND_CLUBB','RVMTEND_CLUBB','TH','THL','Q','RVMTEND_CLUBB','WPTHLP_CLUBB','WPRTP_CLUBB','THLP2_CLUBB','WP2_CLUBB','WP3_CLUBB']  # Snapshot plotting vars\n",
    "#pvars_snap = ['T','Q','RELHUM','TH','THL','CLOUD','ZMDQ','ZMDT','DTCOND','DCQ']\n",
    "#pvars_snap = ['TH','THL','Q','RELHUM','DTV','DCQ','STEND_CLUBB','WPTHLP_CLUBB','WPRTP_CLUBB','THLP2_CLUBB','WP2_CLUBB','WP3_CLUBB']\n",
    "pvars_snap = ['TH','Q']\n",
    "\n",
    "              \n",
    "pvars_anim = np.array(('Q'))\n",
    "\n",
    "tsnaps = np.array([6.,8.,10.,12.,14.,16])     # Time of snapshots (local time)\n",
    "\n",
    "\n",
    "### Bundle these array for pasing to functions ###\n",
    "run_info = {}\n",
    "run_info['1dvars'] = pvars_ts1d\n",
    "run_info['2dvars'] = pvars_ts2d\n",
    "run_info['snapvars'] = pvars_snap\n",
    "\n",
    "####### GRAPHICS ########\n",
    "#mp.interactive(True)\n",
    "#%matplotlib qt\n",
    "#%matplotlib inline"
   ]
  },
  {
   "cell_type": "markdown",
   "metadata": {},
   "source": [
    "<b> Files Setups </b>"
   ]
  },
  {
   "cell_type": "code",
   "execution_count": 37,
   "metadata": {},
   "outputs": [
    {
     "name": "stdout",
     "output_type": "stream",
     "text": [
      "++++ Runs ++++\n",
      "\n"
     ]
    }
   ],
   "source": [
    "#### CONSTANTS #####\n",
    "\n",
    "r_gas = mconst.dry_air_gas_constant.magnitude   # Specific gas constant for dry air\n",
    "cp_air = mconst.dry_air_spec_heat_press.magnitude # Specific heat for dry air\n",
    "Lv = mconst.water_heat_vaporization.magnitude       # Latent heat of vaporization\n",
    "\n",
    "r_cp = r_gas/cp_air    # r/cp\n",
    "grav = mconst.earth_gravity.magnitude       # Gravity ave.\n",
    "p0 = mconst.pot_temp_ref_press.magnitude\n",
    "\n",
    "\n",
    "####### DERIVED VARS #######\n",
    "\n",
    "\n",
    "\n",
    "print('++++ Runs ++++')\n",
    "print('')\n",
    "#scam_files_in = scam_file_pre+scam_file_nums+scam_file_suf \n",
    "scam_fig_stub='png/'+'_'.join(scam_file_nums)\n",
    "\n",
    "zoffset = 6.  # Offset for Z time.\n",
    "### Bundle run info ###\n",
    "\n",
    "run_info['Run Name']   = scam_run_names\n",
    "run_info['File Num']   = scam_file_nums\n",
    "run_info['File Name']  = scam_files_in\n",
    "run_info['zoffset']    = zoffset\n",
    "run_info['Stub Figs']  = scam_fig_stub\n",
    "run_info['Snap Times']  = tsnaps\n",
    "\n",
    "#df_rinfo = pd.DataFrame(rinfo)\n",
    "#df_rinfo.style.set_properties(**{'background-color': 'white','color': 'yellow'})\n",
    "#df_rinfo.style.apply({'background-color': 'white'})\n",
    "\n"
   ]
  },
  {
   "cell_type": "markdown",
   "metadata": {},
   "source": [
    "<b> Plot type selection </b>"
   ]
  },
  {
   "cell_type": "code",
   "execution_count": 42,
   "metadata": {},
   "outputs": [
    {
     "name": "stdout",
     "output_type": "stream",
     "text": [
      "+++ IMPORTING MY FUNCTIONS +++\n",
      "------ SNAPSHOTS ------>>>   TH\n",
      "TH\n",
      "------ CASE ------>>>   CAM6-L32  --  106  --  TH  ---  Potential Temperature  -- min/max -->  296.25675195409536 305.73804110264615\n",
      "<xarray.DataArray (lev: 10, time: 391)>\n",
      "array([[305.7380411 , 305.7380411 , 305.73212349, ..., 304.54518011,\n",
      "        304.5427857 , 304.54042549],\n",
      "       [303.42997954, 303.42997954, 303.42242924, ..., 302.54266975,\n",
      "        302.53947667, 302.5364499 ],\n",
      "       [301.69672552, 301.69672552, 301.68880725, ..., 302.16129638,\n",
      "        302.15836369, 302.1569951 ],\n",
      "       ...,\n",
      "       [296.59890729, 296.59978076, 296.59039095, ..., 300.86721341,\n",
      "        300.86443702, 300.86159825],\n",
      "       [296.59901081, 296.59897979, 296.58753208, ..., 300.85957387,\n",
      "        300.8567197 , 300.85367939],\n",
      "       [296.59919398, 296.59900871, 296.57631304, ..., 300.83411177,\n",
      "        300.8312092 , 300.8280596 ]])\n",
      "Coordinates:\n",
      "    lat      float64 32.5\n",
      "    lon      float64 272.8\n",
      "  * lev      (lev) float64 691.4 763.4 820.9 859.5 ... 936.2 957.5 976.3 992.6\n",
      "  * time     (time) object 2013-06-10 11:00:00 ... 2013-06-11 00:00:00\n",
      "Attributes:\n",
      "    long_name:  Potential Temperature\n",
      "    units:      K\n"
     ]
    },
    {
     "ename": "IndexError",
     "evalue": "index 30 is out of bounds for axis 0 with size 10",
     "output_type": "error",
     "traceback": [
      "\u001b[0;31m---------------------------------------------------------------------------\u001b[0m",
      "\u001b[0;31mIndexError\u001b[0m                                Traceback (most recent call last)",
      "\u001b[0;32m<ipython-input-42-e01c18b8adf9>\u001b[0m in \u001b[0;36m<module>\u001b[0;34m\u001b[0m\n\u001b[1;32m      7\u001b[0m \u001b[0;31m#mypy.plot1d_ts_scam(run_info)   # 1D time series plots\u001b[0m\u001b[0;34m\u001b[0m\u001b[0;34m\u001b[0m\u001b[0;34m\u001b[0m\u001b[0m\n\u001b[1;32m      8\u001b[0m \u001b[0;31m#mypy.plot2d_ts_scam(run_info)   # 2D time series plots\u001b[0m\u001b[0;34m\u001b[0m\u001b[0;34m\u001b[0m\u001b[0;34m\u001b[0m\u001b[0m\n\u001b[0;32m----> 9\u001b[0;31m \u001b[0mmypy\u001b[0m\u001b[0;34m.\u001b[0m\u001b[0mplot1d_snap_scam\u001b[0m\u001b[0;34m(\u001b[0m\u001b[0mrun_info\u001b[0m\u001b[0;34m)\u001b[0m   \u001b[0;31m# 1D snapshot plots\u001b[0m\u001b[0;34m\u001b[0m\u001b[0;34m\u001b[0m\u001b[0m\n\u001b[0m\u001b[1;32m     10\u001b[0m \u001b[0;31m#mypy.plot1d_anim_scam(run_info) # 2D animation  plots\u001b[0m\u001b[0;34m\u001b[0m\u001b[0;34m\u001b[0m\u001b[0;34m\u001b[0m\u001b[0m\n",
      "\u001b[0;32m~/Documents/NCAR/python/python-scripts/PBL/scam_func.py\u001b[0m in \u001b[0;36mplot1d_snap_scam\u001b[0;34m(rinfo)\u001b[0m\n\u001b[1;32m    757\u001b[0m                 \u001b[0mitt\u001b[0m \u001b[0;34m=\u001b[0m \u001b[0mnp\u001b[0m\u001b[0;34m.\u001b[0m\u001b[0mmin\u001b[0m\u001b[0;34m(\u001b[0m\u001b[0mnp\u001b[0m\u001b[0;34m.\u001b[0m\u001b[0mwhere\u001b[0m\u001b[0;34m(\u001b[0m\u001b[0mhour_frac\u001b[0m\u001b[0;34m==\u001b[0m\u001b[0mtsnaps\u001b[0m\u001b[0;34m[\u001b[0m\u001b[0mii\u001b[0m\u001b[0;34m]\u001b[0m\u001b[0;34m)\u001b[0m\u001b[0;34m)\u001b[0m \u001b[0;31m# Plot at this time\u001b[0m\u001b[0;34m\u001b[0m\u001b[0;34m\u001b[0m\u001b[0m\n\u001b[1;32m    758\u001b[0m                 \u001b[0mprint\u001b[0m\u001b[0;34m(\u001b[0m\u001b[0mpvar\u001b[0m\u001b[0;34m)\u001b[0m\u001b[0;34m\u001b[0m\u001b[0;34m\u001b[0m\u001b[0m\n\u001b[0;32m--> 759\u001b[0;31m                 \u001b[0mpvart\u001b[0m \u001b[0;34m=\u001b[0m \u001b[0mpvar\u001b[0m\u001b[0;34m[\u001b[0m\u001b[0mitt\u001b[0m\u001b[0;34m,\u001b[0m\u001b[0;34m:\u001b[0m\u001b[0;34m]\u001b[0m\u001b[0;34m\u001b[0m\u001b[0;34m\u001b[0m\u001b[0m\n\u001b[0m\u001b[1;32m    760\u001b[0m \u001b[0;34m\u001b[0m\u001b[0m\n\u001b[1;32m    761\u001b[0m \u001b[0;34m\u001b[0m\u001b[0m\n",
      "\u001b[0;32m~/miniconda3/envs/analysis/lib/python3.7/site-packages/xarray/core/dataarray.py\u001b[0m in \u001b[0;36m__getitem__\u001b[0;34m(self, key)\u001b[0m\n\u001b[1;32m    629\u001b[0m         \u001b[0;32melse\u001b[0m\u001b[0;34m:\u001b[0m\u001b[0;34m\u001b[0m\u001b[0;34m\u001b[0m\u001b[0m\n\u001b[1;32m    630\u001b[0m             \u001b[0;31m# xarray-style array indexing\u001b[0m\u001b[0;34m\u001b[0m\u001b[0;34m\u001b[0m\u001b[0;34m\u001b[0m\u001b[0m\n\u001b[0;32m--> 631\u001b[0;31m             \u001b[0;32mreturn\u001b[0m \u001b[0mself\u001b[0m\u001b[0;34m.\u001b[0m\u001b[0misel\u001b[0m\u001b[0;34m(\u001b[0m\u001b[0mindexers\u001b[0m\u001b[0;34m=\u001b[0m\u001b[0mself\u001b[0m\u001b[0;34m.\u001b[0m\u001b[0m_item_key_to_dict\u001b[0m\u001b[0;34m(\u001b[0m\u001b[0mkey\u001b[0m\u001b[0;34m)\u001b[0m\u001b[0;34m)\u001b[0m\u001b[0;34m\u001b[0m\u001b[0;34m\u001b[0m\u001b[0m\n\u001b[0m\u001b[1;32m    632\u001b[0m \u001b[0;34m\u001b[0m\u001b[0m\n\u001b[1;32m    633\u001b[0m     \u001b[0;32mdef\u001b[0m \u001b[0m__setitem__\u001b[0m\u001b[0;34m(\u001b[0m\u001b[0mself\u001b[0m\u001b[0;34m,\u001b[0m \u001b[0mkey\u001b[0m\u001b[0;34m:\u001b[0m \u001b[0mAny\u001b[0m\u001b[0;34m,\u001b[0m \u001b[0mvalue\u001b[0m\u001b[0;34m:\u001b[0m \u001b[0mAny\u001b[0m\u001b[0;34m)\u001b[0m \u001b[0;34m->\u001b[0m \u001b[0;32mNone\u001b[0m\u001b[0;34m:\u001b[0m\u001b[0;34m\u001b[0m\u001b[0;34m\u001b[0m\u001b[0m\n",
      "\u001b[0;32m~/miniconda3/envs/analysis/lib/python3.7/site-packages/xarray/core/dataarray.py\u001b[0m in \u001b[0;36misel\u001b[0;34m(self, indexers, drop, **indexers_kwargs)\u001b[0m\n\u001b[1;32m   1004\u001b[0m         \u001b[0mindexers\u001b[0m \u001b[0;34m=\u001b[0m \u001b[0meither_dict_or_kwargs\u001b[0m\u001b[0;34m(\u001b[0m\u001b[0mindexers\u001b[0m\u001b[0;34m,\u001b[0m \u001b[0mindexers_kwargs\u001b[0m\u001b[0;34m,\u001b[0m \u001b[0;34m\"isel\"\u001b[0m\u001b[0;34m)\u001b[0m\u001b[0;34m\u001b[0m\u001b[0;34m\u001b[0m\u001b[0m\n\u001b[1;32m   1005\u001b[0m         \u001b[0;32mif\u001b[0m \u001b[0many\u001b[0m\u001b[0;34m(\u001b[0m\u001b[0mis_fancy_indexer\u001b[0m\u001b[0;34m(\u001b[0m\u001b[0midx\u001b[0m\u001b[0;34m)\u001b[0m \u001b[0;32mfor\u001b[0m \u001b[0midx\u001b[0m \u001b[0;32min\u001b[0m \u001b[0mindexers\u001b[0m\u001b[0;34m.\u001b[0m\u001b[0mvalues\u001b[0m\u001b[0;34m(\u001b[0m\u001b[0;34m)\u001b[0m\u001b[0;34m)\u001b[0m\u001b[0;34m:\u001b[0m\u001b[0;34m\u001b[0m\u001b[0;34m\u001b[0m\u001b[0m\n\u001b[0;32m-> 1006\u001b[0;31m             \u001b[0mds\u001b[0m \u001b[0;34m=\u001b[0m \u001b[0mself\u001b[0m\u001b[0;34m.\u001b[0m\u001b[0m_to_temp_dataset\u001b[0m\u001b[0;34m(\u001b[0m\u001b[0;34m)\u001b[0m\u001b[0;34m.\u001b[0m\u001b[0m_isel_fancy\u001b[0m\u001b[0;34m(\u001b[0m\u001b[0mindexers\u001b[0m\u001b[0;34m,\u001b[0m \u001b[0mdrop\u001b[0m\u001b[0;34m=\u001b[0m\u001b[0mdrop\u001b[0m\u001b[0;34m)\u001b[0m\u001b[0;34m\u001b[0m\u001b[0;34m\u001b[0m\u001b[0m\n\u001b[0m\u001b[1;32m   1007\u001b[0m             \u001b[0;32mreturn\u001b[0m \u001b[0mself\u001b[0m\u001b[0;34m.\u001b[0m\u001b[0m_from_temp_dataset\u001b[0m\u001b[0;34m(\u001b[0m\u001b[0mds\u001b[0m\u001b[0;34m)\u001b[0m\u001b[0;34m\u001b[0m\u001b[0;34m\u001b[0m\u001b[0m\n\u001b[1;32m   1008\u001b[0m \u001b[0;34m\u001b[0m\u001b[0m\n",
      "\u001b[0;32m~/miniconda3/envs/analysis/lib/python3.7/site-packages/xarray/core/dataset.py\u001b[0m in \u001b[0;36m_isel_fancy\u001b[0;34m(self, indexers, drop)\u001b[0m\n\u001b[1;32m   1972\u001b[0m             \u001b[0;32mif\u001b[0m \u001b[0mname\u001b[0m \u001b[0;32min\u001b[0m \u001b[0mself\u001b[0m\u001b[0;34m.\u001b[0m\u001b[0mindexes\u001b[0m\u001b[0;34m:\u001b[0m\u001b[0;34m\u001b[0m\u001b[0;34m\u001b[0m\u001b[0m\n\u001b[1;32m   1973\u001b[0m                 new_var, new_index = isel_variable_and_index(\n\u001b[0;32m-> 1974\u001b[0;31m                     \u001b[0mname\u001b[0m\u001b[0;34m,\u001b[0m \u001b[0mvar\u001b[0m\u001b[0;34m,\u001b[0m \u001b[0mself\u001b[0m\u001b[0;34m.\u001b[0m\u001b[0mindexes\u001b[0m\u001b[0;34m[\u001b[0m\u001b[0mname\u001b[0m\u001b[0;34m]\u001b[0m\u001b[0;34m,\u001b[0m \u001b[0mvar_indexers\u001b[0m\u001b[0;34m\u001b[0m\u001b[0;34m\u001b[0m\u001b[0m\n\u001b[0m\u001b[1;32m   1975\u001b[0m                 )\n\u001b[1;32m   1976\u001b[0m                 \u001b[0;32mif\u001b[0m \u001b[0mnew_index\u001b[0m \u001b[0;32mis\u001b[0m \u001b[0;32mnot\u001b[0m \u001b[0;32mNone\u001b[0m\u001b[0;34m:\u001b[0m\u001b[0;34m\u001b[0m\u001b[0;34m\u001b[0m\u001b[0m\n",
      "\u001b[0;32m~/miniconda3/envs/analysis/lib/python3.7/site-packages/xarray/core/indexes.py\u001b[0m in \u001b[0;36misel_variable_and_index\u001b[0;34m(name, variable, index, indexers)\u001b[0m\n\u001b[1;32m     99\u001b[0m         )\n\u001b[1;32m    100\u001b[0m \u001b[0;34m\u001b[0m\u001b[0m\n\u001b[0;32m--> 101\u001b[0;31m     \u001b[0mnew_variable\u001b[0m \u001b[0;34m=\u001b[0m \u001b[0mvariable\u001b[0m\u001b[0;34m.\u001b[0m\u001b[0misel\u001b[0m\u001b[0;34m(\u001b[0m\u001b[0mindexers\u001b[0m\u001b[0;34m)\u001b[0m\u001b[0;34m\u001b[0m\u001b[0;34m\u001b[0m\u001b[0m\n\u001b[0m\u001b[1;32m    102\u001b[0m \u001b[0;34m\u001b[0m\u001b[0m\n\u001b[1;32m    103\u001b[0m     \u001b[0;32mif\u001b[0m \u001b[0mnew_variable\u001b[0m\u001b[0;34m.\u001b[0m\u001b[0mdims\u001b[0m \u001b[0;34m!=\u001b[0m \u001b[0;34m(\u001b[0m\u001b[0mname\u001b[0m\u001b[0;34m,\u001b[0m\u001b[0;34m)\u001b[0m\u001b[0;34m:\u001b[0m\u001b[0;34m\u001b[0m\u001b[0;34m\u001b[0m\u001b[0m\n",
      "\u001b[0;32m~/miniconda3/envs/analysis/lib/python3.7/site-packages/xarray/core/variable.py\u001b[0m in \u001b[0;36misel\u001b[0;34m(self, indexers, **indexers_kwargs)\u001b[0m\n\u001b[1;32m   1058\u001b[0m \u001b[0;34m\u001b[0m\u001b[0m\n\u001b[1;32m   1059\u001b[0m         \u001b[0mkey\u001b[0m \u001b[0;34m=\u001b[0m \u001b[0mtuple\u001b[0m\u001b[0;34m(\u001b[0m\u001b[0mindexers\u001b[0m\u001b[0;34m.\u001b[0m\u001b[0mget\u001b[0m\u001b[0;34m(\u001b[0m\u001b[0mdim\u001b[0m\u001b[0;34m,\u001b[0m \u001b[0mslice\u001b[0m\u001b[0;34m(\u001b[0m\u001b[0;32mNone\u001b[0m\u001b[0;34m)\u001b[0m\u001b[0;34m)\u001b[0m \u001b[0;32mfor\u001b[0m \u001b[0mdim\u001b[0m \u001b[0;32min\u001b[0m \u001b[0mself\u001b[0m\u001b[0;34m.\u001b[0m\u001b[0mdims\u001b[0m\u001b[0;34m)\u001b[0m\u001b[0;34m\u001b[0m\u001b[0;34m\u001b[0m\u001b[0m\n\u001b[0;32m-> 1060\u001b[0;31m         \u001b[0;32mreturn\u001b[0m \u001b[0mself\u001b[0m\u001b[0;34m[\u001b[0m\u001b[0mkey\u001b[0m\u001b[0;34m]\u001b[0m\u001b[0;34m\u001b[0m\u001b[0;34m\u001b[0m\u001b[0m\n\u001b[0m\u001b[1;32m   1061\u001b[0m \u001b[0;34m\u001b[0m\u001b[0m\n\u001b[1;32m   1062\u001b[0m     \u001b[0;32mdef\u001b[0m \u001b[0msqueeze\u001b[0m\u001b[0;34m(\u001b[0m\u001b[0mself\u001b[0m\u001b[0;34m,\u001b[0m \u001b[0mdim\u001b[0m\u001b[0;34m=\u001b[0m\u001b[0;32mNone\u001b[0m\u001b[0;34m)\u001b[0m\u001b[0;34m:\u001b[0m\u001b[0;34m\u001b[0m\u001b[0;34m\u001b[0m\u001b[0m\n",
      "\u001b[0;32m~/miniconda3/envs/analysis/lib/python3.7/site-packages/xarray/core/variable.py\u001b[0m in \u001b[0;36m__getitem__\u001b[0;34m(self, key)\u001b[0m\n\u001b[1;32m    702\u001b[0m         \"\"\"\n\u001b[1;32m    703\u001b[0m         \u001b[0mdims\u001b[0m\u001b[0;34m,\u001b[0m \u001b[0mindexer\u001b[0m\u001b[0;34m,\u001b[0m \u001b[0mnew_order\u001b[0m \u001b[0;34m=\u001b[0m \u001b[0mself\u001b[0m\u001b[0;34m.\u001b[0m\u001b[0m_broadcast_indexes\u001b[0m\u001b[0;34m(\u001b[0m\u001b[0mkey\u001b[0m\u001b[0;34m)\u001b[0m\u001b[0;34m\u001b[0m\u001b[0;34m\u001b[0m\u001b[0m\n\u001b[0;32m--> 704\u001b[0;31m         \u001b[0mdata\u001b[0m \u001b[0;34m=\u001b[0m \u001b[0mas_indexable\u001b[0m\u001b[0;34m(\u001b[0m\u001b[0mself\u001b[0m\u001b[0;34m.\u001b[0m\u001b[0m_data\u001b[0m\u001b[0;34m)\u001b[0m\u001b[0;34m[\u001b[0m\u001b[0mindexer\u001b[0m\u001b[0;34m]\u001b[0m\u001b[0;34m\u001b[0m\u001b[0;34m\u001b[0m\u001b[0m\n\u001b[0m\u001b[1;32m    705\u001b[0m         \u001b[0;32mif\u001b[0m \u001b[0mnew_order\u001b[0m\u001b[0;34m:\u001b[0m\u001b[0;34m\u001b[0m\u001b[0;34m\u001b[0m\u001b[0m\n\u001b[1;32m    706\u001b[0m             \u001b[0mdata\u001b[0m \u001b[0;34m=\u001b[0m \u001b[0mduck_array_ops\u001b[0m\u001b[0;34m.\u001b[0m\u001b[0mmoveaxis\u001b[0m\u001b[0;34m(\u001b[0m\u001b[0mdata\u001b[0m\u001b[0;34m,\u001b[0m \u001b[0mrange\u001b[0m\u001b[0;34m(\u001b[0m\u001b[0mlen\u001b[0m\u001b[0;34m(\u001b[0m\u001b[0mnew_order\u001b[0m\u001b[0;34m)\u001b[0m\u001b[0;34m)\u001b[0m\u001b[0;34m,\u001b[0m \u001b[0mnew_order\u001b[0m\u001b[0;34m)\u001b[0m\u001b[0;34m\u001b[0m\u001b[0;34m\u001b[0m\u001b[0m\n",
      "\u001b[0;32m~/miniconda3/envs/analysis/lib/python3.7/site-packages/xarray/core/indexing.py\u001b[0m in \u001b[0;36m__getitem__\u001b[0;34m(self, indexer)\u001b[0m\n\u001b[1;32m   1415\u001b[0m             \u001b[0;32mreturn\u001b[0m \u001b[0mNumpyIndexingAdapter\u001b[0m\u001b[0;34m(\u001b[0m\u001b[0mself\u001b[0m\u001b[0;34m.\u001b[0m\u001b[0marray\u001b[0m\u001b[0;34m.\u001b[0m\u001b[0mvalues\u001b[0m\u001b[0;34m)\u001b[0m\u001b[0;34m[\u001b[0m\u001b[0mindexer\u001b[0m\u001b[0;34m]\u001b[0m\u001b[0;34m\u001b[0m\u001b[0;34m\u001b[0m\u001b[0m\n\u001b[1;32m   1416\u001b[0m \u001b[0;34m\u001b[0m\u001b[0m\n\u001b[0;32m-> 1417\u001b[0;31m         \u001b[0mresult\u001b[0m \u001b[0;34m=\u001b[0m \u001b[0mself\u001b[0m\u001b[0;34m.\u001b[0m\u001b[0marray\u001b[0m\u001b[0;34m[\u001b[0m\u001b[0mkey\u001b[0m\u001b[0;34m]\u001b[0m\u001b[0;34m\u001b[0m\u001b[0;34m\u001b[0m\u001b[0m\n\u001b[0m\u001b[1;32m   1418\u001b[0m \u001b[0;34m\u001b[0m\u001b[0m\n\u001b[1;32m   1419\u001b[0m         \u001b[0;32mif\u001b[0m \u001b[0misinstance\u001b[0m\u001b[0;34m(\u001b[0m\u001b[0mresult\u001b[0m\u001b[0;34m,\u001b[0m \u001b[0mpd\u001b[0m\u001b[0;34m.\u001b[0m\u001b[0mIndex\u001b[0m\u001b[0;34m)\u001b[0m\u001b[0;34m:\u001b[0m\u001b[0;34m\u001b[0m\u001b[0;34m\u001b[0m\u001b[0m\n",
      "\u001b[0;32m~/miniconda3/envs/analysis/lib/python3.7/site-packages/pandas/core/indexes/base.py\u001b[0m in \u001b[0;36m__getitem__\u001b[0;34m(self, key)\u001b[0m\n\u001b[1;32m   4278\u001b[0m         \u001b[0;32mif\u001b[0m \u001b[0mis_scalar\u001b[0m\u001b[0;34m(\u001b[0m\u001b[0mkey\u001b[0m\u001b[0;34m)\u001b[0m\u001b[0;34m:\u001b[0m\u001b[0;34m\u001b[0m\u001b[0;34m\u001b[0m\u001b[0m\n\u001b[1;32m   4279\u001b[0m             \u001b[0mkey\u001b[0m \u001b[0;34m=\u001b[0m \u001b[0mcom\u001b[0m\u001b[0;34m.\u001b[0m\u001b[0mcast_scalar_indexer\u001b[0m\u001b[0;34m(\u001b[0m\u001b[0mkey\u001b[0m\u001b[0;34m)\u001b[0m\u001b[0;34m\u001b[0m\u001b[0;34m\u001b[0m\u001b[0m\n\u001b[0;32m-> 4280\u001b[0;31m             \u001b[0;32mreturn\u001b[0m \u001b[0mgetitem\u001b[0m\u001b[0;34m(\u001b[0m\u001b[0mkey\u001b[0m\u001b[0;34m)\u001b[0m\u001b[0;34m\u001b[0m\u001b[0;34m\u001b[0m\u001b[0m\n\u001b[0m\u001b[1;32m   4281\u001b[0m \u001b[0;34m\u001b[0m\u001b[0m\n\u001b[1;32m   4282\u001b[0m         \u001b[0;32mif\u001b[0m \u001b[0misinstance\u001b[0m\u001b[0;34m(\u001b[0m\u001b[0mkey\u001b[0m\u001b[0;34m,\u001b[0m \u001b[0mslice\u001b[0m\u001b[0;34m)\u001b[0m\u001b[0;34m:\u001b[0m\u001b[0;34m\u001b[0m\u001b[0;34m\u001b[0m\u001b[0m\n",
      "\u001b[0;31mIndexError\u001b[0m: index 30 is out of bounds for axis 0 with size 10"
     ]
    },
    {
     "data": {
      "image/png": "[encoded data removed]",
      "text/plain": [
       "<Figure size 1152x360 with 1 Axes>"
      ]
     },
     "metadata": {
      "needs_background": "light"
     },
     "output_type": "display_data"
    }
   ],
   "source": [
    "###### Plotting ##########\n",
    "importlib.reload(mypy) # Required because I am constantly editing scam_func.py\n",
    "#dir(mypy)\n",
    "\n",
    "###### PLOTS ######\n",
    "\n",
    "#mypy.plot1d_ts_scam(run_info)   # 1D time series plots\n",
    "#mypy.plot2d_ts_scam(run_info)   # 2D time series plots\n",
    "mypy.plot1d_snap_scam(run_info)   # 1D snapshot plots\n",
    "#mypy.plot1d_anim_scam(run_info) # 2D animation  plots\n"
   ]
  },
  {
   "cell_type": "code",
   "execution_count": null,
   "metadata": {},
   "outputs": [],
   "source": []
  },
  {
   "cell_type": "code",
   "execution_count": null,
   "metadata": {},
   "outputs": [],
   "source": []
  },
  {
   "cell_type": "code",
   "execution_count": null,
   "metadata": {},
   "outputs": [],
   "source": []
  }
 ],
 "metadata": {
  "kernelspec": {
   "display_name": "Python [conda env:analysis]",
   "language": "python",
   "name": "conda-env-analysis-py"
  },
  "language_info": {
   "codemirror_mode": {
    "name": "ipython",
    "version": 3
   },
   "file_extension": ".py",
   "mimetype": "text/x-python",
   "name": "python",
   "nbconvert_exporter": "python",
   "pygments_lexer": "ipython3",
   "version": "3.7.3"
  }
 },
 "nbformat": 4,
 "nbformat_minor": 4
}
