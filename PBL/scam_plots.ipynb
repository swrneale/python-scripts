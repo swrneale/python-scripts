{
 "cells": [
  {
   "cell_type": "markdown",
   "metadata": {},
   "source": [
    "<p style=\"violet\"> Set up modules (standard and mine) </b>"
   ]
  },
  {
   "cell_type": "code",
   "execution_count": 1,
   "metadata": {},
   "outputs": [
    {
     "name": "stdout",
     "output_type": "stream",
     "text": [
      "+++ IMPORTING MY FUNCTIONS +++\n"
     ]
    },
    {
     "name": "stderr",
     "output_type": "stream",
     "text": [
      "/Users/rneale/miniconda3/envs/analysis/lib/python3.7/site-packages/IPython/core/magics/basic.py:372: UserWarning: Error changing user exception modes.\n",
      "Unrecognized mode in FormattedTB: <Minimal   ## fortran-like error tracebacks (doesn't seem to work though)>\n",
      "Valid modes: ['Plain', 'Context', 'Verbose', 'Minimal']\n",
      "  (name,sys.exc_info()[1]))\n"
     ]
    }
   ],
   "source": [
    "### Import Standard Packages ###\n",
    "import matplotlib.pyplot as mp\n",
    "from matplotlib.animation import FuncAnimation\n",
    "from IPython.display import HTML\n",
    "\n",
    "import numpy as np\n",
    "import metpy.calc as mpc\n",
    "import metpy.constants as mconst\n",
    "import xarray as xr\n",
    "import scipy as spy\n",
    "import pandas as pd\n",
    "import datetime as dt\n",
    "import cartopy\n",
    "\n",
    "#dir(mconst)\n",
    "### My Functions ###\n",
    "import scam_func as mypy\n",
    "import importlib\n",
    "\n",
    "\n",
    "%xmode Minimal   ## Fortran-like error tracebacks (doesn't seem to work though)"
   ]
  },
  {
   "cell_type": "markdown",
   "metadata": {},
   "source": [
    "<b> Add Experiment Set </b>"
   ]
  },
  {
   "cell_type": "code",
   "execution_count": 2,
   "metadata": {},
   "outputs": [
    {
     "name": "stdout",
     "output_type": "stream",
     "text": [
      "['history/FSCAM.T42_T42.SAS.106.cam.h0.2013-06-10-39600.nc'\n",
      " 'history/FSCAM.T42_T42.SAS.106d.cam.h0.2013-06-10-39600.nc']\n"
     ]
    }
   ],
   "source": [
    "#### SCRIPT TO READ IN SCAM OUTPUT AND MAKE SOME PLOTS ####\n",
    "###### IOP file info. ######\n",
    "\n",
    "#xr.show_versions()\n",
    "\n",
    "\n",
    "## Multiple cases ##\n",
    "\n",
    "#scam_file_nums = ['011a','011b','011c','011d']  # For comparisons\n",
    "#scam_file_nums = ['012a','012b','012c','012d','012e','012f']  # For comparisons\n",
    "#scam_file_nums = ['012a','012b','012f']\n",
    "#scam_run_names = ['q_ft','0.5LS.T','no LS.Tq']\n",
    "\n",
    "#scam_run_names = ['q_ft','0.5LS.T','0.5LS.q','0.5LS.Tq','0.25LS.Tq','no LS.Tq']\n",
    "\n",
    "## Vertical resolution ##\n",
    "#scam_file_nums = ['100a','100','100b','100c']\n",
    "#scam_file_nums = ['101a','101','101b','101c','101d'] # 'a'=L16, ''=L32\n",
    "#scam_run_names = ['L16','L32','L64','L128','L256']\n",
    "\n",
    "#scam_file_nums = ['102a','102','102b','102c'] # 'a'=L15, ''=L30\n",
    "#scam_run_names = ['L15','L30','L60','L120']\n",
    "\n",
    "\n",
    "#scam_file_nums = ['101','102'] # 'a'=L16, ''=L32\n",
    "#scam_run_names = ['CAM6','CAM5']\n",
    "\n",
    "\n",
    "#scam_file_nums = ['101def','102def'] # 'a'=L16, ''=L32\n",
    "#scam_run_names = ['CAM6 default','CAM5 default']\n",
    "\n",
    "#scam_file_nums = ['101','101def'] # 'a'=L16, ''=L32\n",
    "#scam_run_names = ['CAM6 2 min','CAM6']\n",
    "\n",
    "#scam_file_nums = ['102','102def'] # 'a'=L16, ''=L32\n",
    "#scam_run_names = ['CAM5 2 min','CAM5']\n",
    "\n",
    "#scam_file_nums = ['101','102'] # 'a'=L16, ''=L32\n",
    "#scam_run_names = ['CAM6 2 min','CAM5 2 min']\n",
    "\n",
    "#scam_file_nums = ['101d','101dx'] # 'a'=L16, ''=L32\n",
    "#scam_run_names = ['CAM6 until 4pm','CAM6 until 11:30pm']\n",
    "\n",
    "#scam_file_nums = ['101d','201d','202d'] # 'a'=L16, ''=L32\n",
    "#scam_run_names = ['gamma_coef=0.308','gamma_coef=0.285','gamma_coef=0.345']\n",
    "\n",
    "### WITH LES ###\n",
    "\n",
    "#scam_file_nums = np.array(['101d','203d','204d','LES']) # 'a'=L16, ''=L32\n",
    "#scam_run_names = ['clubb_c_k10=0.5','clubb_c_k10=0.3','clubb_c_k10','LES']\n",
    "\n",
    "#scam_file_nums = ['101a','101','101b','101c','101d']# 'a'=L16, ''=L32\n",
    "#scam_run_names = ['L16','L32','L64','L128','L256']\n",
    "\n",
    "scam_file_nums = ['106','106d'] # ''=L16, ''=L32\n",
    "scam_run_names = ['CAM6-L32','CAM6-L256']\n",
    "\n",
    "#scam_file_nums = ['106a','106','106b','106c','106d','LES'] # ''=L16, ''=L32\n",
    "#scam_run_names = ['CAM6-L16','CAM6-L32','CAM6-L64','CAM6-L128','CAM6-256','NCAR']\n",
    "\n",
    "#scam_file_nums = ['105d','LES','LES'] # ''=L16, ''=L32\n",
    "#scam_run_names = ['CAM6','CAM6->LES','NCAR']\n",
    "\n",
    "\n",
    "\n",
    "\n",
    "scam_file_pre = \"FSCAM.T42_T42.SAS.\"\n",
    "scam_file_suf = \".cam.h0.2013-06-10-39600\"\n",
    "\n",
    "#scam_files_in = [scam_file_pre+x+scam_file_suf for x in scam_file_nums]\n",
    "#scam_files_in = np.where()\n",
    "\n",
    "#print(scam_files_in)\n",
    "#scam_file_suf = \".cam.h0.2013-06-10-43200\"\n",
    "\n",
    "# LES model selections.\n",
    "\n",
    "les_files_in = {}\n",
    "les_files_in['NCAR'] = \"patton_sas_stats.nc\"\n",
    "\n",
    "\n",
    "### Construct filenames ### \n",
    "\n",
    "scam_files_in = np.empty_like(scam_file_nums)\n",
    "scam_file_nums = np.array(scam_file_nums) \n",
    "scam_run_names = np.array(scam_run_names) \n",
    "\n",
    "\n",
    "# Standard SCAM\n",
    "scam_files_in = ['history/'+scam_file_pre+x+scam_file_suf+'.nc' for x in scam_file_nums] \n",
    "\n",
    "# SCAM in SAS-LES format\n",
    "ii = [ix for ix, x in enumerate(scam_file_nums) if x == 'LES']# Change to LES-SAS-format file if needed \n",
    "for i in ii: scam_files_in[i] = 'history/'+scam_file_pre+scam_file_nums[0]+scam_file_suf+'_SAS_format.nc' \n",
    "\n",
    "# LES in SAS-LES format\n",
    "scam_files_in = np.where(scam_run_names == 'NCAR','LES/'+les_files_in['NCAR'],scam_files_in) # Change to LES file if needed\n",
    "#scam_files_in = np.where(scam_run_names == 'FAST_EDDY','LES/'+les_files_in['FAST_EDDY'],scam_files_in) # Change to LES file if needed\n",
    "\n",
    "\n",
    "\n",
    "print(scam_files_in)\n",
    "\n",
    "#les_file_in = \"LES/FSCAM.T42_T42.SAS.LES.cam.h0.2013-06-10-39600_SAS_format.nc\"\n"
   ]
  },
  {
   "cell_type": "markdown",
   "metadata": {},
   "source": [
    "<b> Diagnostic Field Selections </b>"
   ]
  },
  {
   "cell_type": "code",
   "execution_count": 3,
   "metadata": {},
   "outputs": [],
   "source": [
    "#### PLOTTING ####\n",
    "\n",
    "### 1D TS ### \n",
    "\n",
    "#pvars_ts1d = np.array(['PBLH','TS','LHFLX','SHFLX','PRECC','PRECL','FLNS']) # D profile timeseries plots\n",
    "#pvars_ts2d = ['DTV','VD01','DCQ','Q','T','TH','THL']\n",
    "pvars_ts1d = np.array(['PBL_DQMAX'])\n",
    "\n",
    "\n",
    "\n",
    "### 2D TS ###\n",
    "                       ## WPSKEW is WP3_CLUBB/WP2_CLUBB**3/2\n",
    "#pvars_ts2d = ['T','Q','RELHUM','TH','THL','CLOUD','ZMDQ','ZMDT', \n",
    "#            'STEND_CLUBB','RVMTEND_CLUBB','WPTHLP_CLUBB','WPRTP_CLUBB','WP3_CLUBB','THLP2_CLUBB','WP2_CLUBB'] # 2D profile timeseries plots\n",
    "#pvars_ts2d = ['WPRTP_CLUBB','Q','TH']\n",
    "#pvars_ts2d = ['DTV','VD01','DCQ','Q','T','TH','THL']\n",
    "pvars_ts2d = ['TH','Q','WP2_CLUBB','WP3_CLUBB','WPTHLP_CLUBB','WPRTP_CLUBB','THLP2_CLUBB']\n",
    "\n",
    "\n",
    "\n",
    "\n",
    "### 1D SNAPSHOT ###\n",
    "\n",
    "#pvars_ts2d = ['T','Q','RELHUM','TH','THL','CLOUD','ZMDQ','ZMDT','DTCOND','DCQ']\n",
    "\n",
    "#pvars_ts2d = ['STEND_CLUBB','RVMTEND_CLUBB','WPTHLP_CLUBB','WPRTP_CLUBB','THLP2_CLUBB','WP2_CLUBB','WP3_CLUBB'] \n",
    "    \n",
    "#pvars_snap = ['STEND_CLUBB','RVMTEND_CLUBB','TH','THL','Q','RVMTEND_CLUBB','WPTHLP_CLUBB','WPRTP_CLUBB','THLP2_CLUBB','WP2_CLUBB','WP3_CLUBB']  # Snapshot plotting vars\n",
    "#pvars_snap = ['T','Q','RELHUM','TH','THL','CLOUD','ZMDQ','ZMDT','DTCOND','DCQ']\n",
    "#pvars_snap = ['TH','THL','Q','RELHUM','DTV','DCQ','STEND_CLUBB','WPTHLP_CLUBB','WPRTP_CLUBB','THLP2_CLUBB','WP2_CLUBB','WP3_CLUBB']\n",
    "pvars_snap = ['TH','THL','Q']\n",
    "\n",
    "              \n",
    "pvars_anim = np.array(('Q'))\n",
    "\n",
    "tsnaps = np.array([6.,8.,10.,12.,14.,16])     # Time of snapshots (local time)\n",
    "\n",
    "\n",
    "### Bundle these array for pasing to functions ###\n",
    "run_info = {}\n",
    "run_info['1dvars'] = pvars_ts1d\n",
    "run_info['2dvars'] = pvars_ts2d\n",
    "run_info['snapvars'] = pvars_snap\n",
    "\n",
    "####### GRAPHICS ########\n",
    "#mp.interactive(True)\n",
    "#%matplotlib qt\n",
    "#%matplotlib inline"
   ]
  },
  {
   "cell_type": "markdown",
   "metadata": {},
   "source": [
    "<b> Files Setups </b>"
   ]
  },
  {
   "cell_type": "code",
   "execution_count": 4,
   "metadata": {},
   "outputs": [
    {
     "name": "stdout",
     "output_type": "stream",
     "text": [
      "++++ Runs ++++\n",
      "\n"
     ]
    }
   ],
   "source": [
    "#### CONSTANTS #####\n",
    "\n",
    "r_gas = mconst.dry_air_gas_constant.magnitude   # Specific gas constant for dry air\n",
    "cp_air = mconst.dry_air_spec_heat_press.magnitude # Specific heat for dry air\n",
    "Lv = mconst.water_heat_vaporization.magnitude       # Latent heat of vaporization\n",
    "\n",
    "r_cp = r_gas/cp_air    # r/cp\n",
    "grav = mconst.earth_gravity.magnitude       # Gravity ave.\n",
    "p0 = mconst.pot_temp_ref_press.magnitude\n",
    "\n",
    "\n",
    "####### DERIVED VARS #######\n",
    "\n",
    "\n",
    "\n",
    "print('++++ Runs ++++')\n",
    "print('')\n",
    "#scam_files_in = scam_file_pre+scam_file_nums+scam_file_suf \n",
    "scam_fig_stub='png/'+'_'.join(scam_file_nums)\n",
    "\n",
    "zoffset = 6.  # Offset for Z time.\n",
    "### Bundle run info ###\n",
    "\n",
    "run_info['Run Name']   = scam_run_names\n",
    "run_info['File Num']   = scam_file_nums\n",
    "run_info['File Name']  = scam_files_in\n",
    "run_info['zoffset']    = zoffset\n",
    "run_info['Stub Figs']  = scam_fig_stub\n",
    "run_info['Snap Times']  = tsnaps\n",
    "\n",
    "#df_rinfo = pd.DataFrame(rinfo)\n",
    "#df_rinfo.style.set_properties(**{'background-color': 'white','color': 'yellow'})\n",
    "#df_rinfo.style.apply({'background-color': 'white'})\n",
    "\n"
   ]
  },
  {
   "cell_type": "markdown",
   "metadata": {},
   "source": [
    "<b> Plot type selection </b>"
   ]
  },
  {
   "cell_type": "code",
   "execution_count": 33,
   "metadata": {},
   "outputs": [
    {
     "name": "stdout",
     "output_type": "stream",
     "text": [
      "+++ IMPORTING MY FUNCTIONS +++\n"
     ]
    },
    {
     "ename": "NameError",
     "evalue": "name 'vcoord' is not defined",
     "output_type": "error",
     "traceback": [
      "\u001b[0;31m---------------------------------------------------------------------------\u001b[0m",
      "\u001b[0;31mNameError\u001b[0m                                 Traceback (most recent call last)",
      "\u001b[0;32m<ipython-input-33-1b2d7ea60aa1>\u001b[0m in \u001b[0;36m<module>\u001b[0;34m\u001b[0m\n\u001b[1;32m      6\u001b[0m \u001b[0;34m\u001b[0m\u001b[0m\n\u001b[1;32m      7\u001b[0m \u001b[0;31m#mypy.plot1d_ts_scam(run_info)   # 1D time series plots\u001b[0m\u001b[0;34m\u001b[0m\u001b[0;34m\u001b[0m\u001b[0;34m\u001b[0m\u001b[0m\n\u001b[0;32m----> 8\u001b[0;31m \u001b[0mmypy\u001b[0m\u001b[0;34m.\u001b[0m\u001b[0mplot2d_ts_scam\u001b[0m\u001b[0;34m(\u001b[0m\u001b[0mrun_info\u001b[0m\u001b[0;34m)\u001b[0m   \u001b[0;31m# 2D time series plots\u001b[0m\u001b[0;34m\u001b[0m\u001b[0;34m\u001b[0m\u001b[0m\n\u001b[0m\u001b[1;32m      9\u001b[0m \u001b[0;31m#mypy.plot1d_snap_scam(run_info)   # 1D snapshot plots\u001b[0m\u001b[0;34m\u001b[0m\u001b[0;34m\u001b[0m\u001b[0;34m\u001b[0m\u001b[0m\n\u001b[1;32m     10\u001b[0m \u001b[0;31m#mypy.plot1d_anim_scam(run_info) # 2D animation  plots\u001b[0m\u001b[0;34m\u001b[0m\u001b[0;34m\u001b[0m\u001b[0;34m\u001b[0m\u001b[0m\n",
      "\u001b[0;32m~/Documents/NCAR/python/python-scripts/PBL/scam_func.py\u001b[0m in \u001b[0;36mplot2d_ts_scam\u001b[0;34m(rinfo)\u001b[0m\n\u001b[1;32m    399\u001b[0m         \u001b[0mscam_icase\u001b[0m \u001b[0;34m=\u001b[0m \u001b[0mxr\u001b[0m\u001b[0;34m.\u001b[0m\u001b[0mopen_dataset\u001b[0m\u001b[0;34m(\u001b[0m\u001b[0msfiles_in\u001b[0m\u001b[0;34m[\u001b[0m\u001b[0;36m0\u001b[0m\u001b[0;34m]\u001b[0m\u001b[0;34m,\u001b[0m\u001b[0mengine\u001b[0m\u001b[0;34m=\u001b[0m\u001b[0;34m'netcdf4'\u001b[0m\u001b[0;34m)\u001b[0m\u001b[0;34m\u001b[0m\u001b[0;34m\u001b[0m\u001b[0m\n\u001b[1;32m    400\u001b[0m \u001b[0;34m\u001b[0m\u001b[0m\n\u001b[0;32m--> 401\u001b[0;31m         \u001b[0mplevm\u001b[0m\u001b[0;34m,\u001b[0m\u001b[0mzlevm\u001b[0m \u001b[0;34m=\u001b[0m \u001b[0mvcoord\u001b[0m\u001b[0;34m(\u001b[0m\u001b[0;34m'mid'\u001b[0m\u001b[0;34m,\u001b[0m\u001b[0mscam_icase\u001b[0m\u001b[0;34m)\u001b[0m\u001b[0;34m\u001b[0m\u001b[0;34m\u001b[0m\u001b[0m\n\u001b[0m\u001b[1;32m    402\u001b[0m         \u001b[0mplevi\u001b[0m\u001b[0;34m,\u001b[0m\u001b[0mzlevi\u001b[0m \u001b[0;34m=\u001b[0m \u001b[0mvcoord\u001b[0m\u001b[0;34m(\u001b[0m\u001b[0;34m'int'\u001b[0m\u001b[0;34m,\u001b[0m\u001b[0mscam_icase\u001b[0m\u001b[0;34m)\u001b[0m\u001b[0;34m\u001b[0m\u001b[0;34m\u001b[0m\u001b[0m\n\u001b[1;32m    403\u001b[0m \u001b[0;34m\u001b[0m\u001b[0m\n",
      "\u001b[0;31mNameError\u001b[0m: name 'vcoord' is not defined"
     ]
    }
   ],
   "source": [
    "###### Plotting ##########\n",
    "importlib.reload(mypy) # Required because I am constantly editing scam_func.py\n",
    "#dir(mypy)\n",
    "\n",
    "###### PLOTS ######\n",
    "\n",
    "#mypy.plot1d_ts_scam(run_info)   # 1D time series plots\n",
    "mypy.plot2d_ts_scam(run_info)   # 2D time series plots\n",
    "#mypy.plot1d_snap_scam(run_info)   # 1D snapshot plots\n",
    "#mypy.plot1d_anim_scam(run_info) # 2D animation  plots\n"
   ]
  },
  {
   "cell_type": "code",
   "execution_count": null,
   "metadata": {},
   "outputs": [],
   "source": []
  },
  {
   "cell_type": "code",
   "execution_count": null,
   "metadata": {},
   "outputs": [],
   "source": []
  },
  {
   "cell_type": "code",
   "execution_count": null,
   "metadata": {},
   "outputs": [],
   "source": []
  }
 ],
 "metadata": {
  "kernelspec": {
   "display_name": "Python [conda env:analysis]",
   "language": "python",
   "name": "conda-env-analysis-py"
  },
  "language_info": {
   "codemirror_mode": {
    "name": "ipython",
    "version": 3
   },
   "file_extension": ".py",
   "mimetype": "text/x-python",
   "name": "python",
   "nbconvert_exporter": "python",
   "pygments_lexer": "ipython3",
   "version": "3.7.3"
  }
 },
 "nbformat": 4,
 "nbformat_minor": 4
}
