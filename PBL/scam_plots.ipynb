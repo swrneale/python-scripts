{
 "cells": [
  {
   "cell_type": "markdown",
   "metadata": {},
   "source": [
    "<b> Set up modules (standard and mine) </b>"
   ]
  },
  {
   "cell_type": "code",
   "execution_count": 58,
   "metadata": {},
   "outputs": [],
   "source": [
    "### Import Standard Packages ###\n",
    "import matplotlib.pyplot as mp\n",
    "from matplotlib.animation import FuncAnimation\n",
    "from IPython.display import HTML\n",
    "\n",
    "import numpy as np\n",
    "import metpy.calc as mpc\n",
    "import metpy.constants as mconst\n",
    "import xarray as xr\n",
    "import scipy as spy\n",
    "import pandas as pd\n",
    "import datetime as dt\n",
    "\n",
    "#dir(mconst)\n",
    "### My Functions ###\n",
    "import scam_func as mypy\n",
    "import importlib"
   ]
  },
  {
   "cell_type": "markdown",
   "metadata": {},
   "source": [
    "<b> Add Experiment Set </b>"
   ]
  },
  {
   "cell_type": "code",
   "execution_count": 67,
   "metadata": {},
   "outputs": [
    {
     "name": "stdout",
     "output_type": "stream",
     "text": [
      "['history/FSCAM.T42_T42.SAS.105d.cam.h0.2013-06-10-39600.nc'\n",
      " 'history/FSCAM.T42_T42.SAS.105d.cam.h0.2013-06-10-39600_SAS_format.nc'\n",
      " 'LES/patton_sas_stats.nc']\n"
     ]
    }
   ],
   "source": [
    "#### SCRIPT TO READ IN SCAM OUTPUT AND MAKE SOME PLOTS ####\n",
    "###### IOP file info. ######\n",
    "\n",
    "#xr.show_versions()\n",
    "\n",
    "\n",
    "## Multiple cases ##\n",
    "\n",
    "#scam_file_nums = ['011a','011b','011c','011d']  # For comparisons\n",
    "#scam_file_nums = ['012a','012b','012c','012d','012e','012f']  # For comparisons\n",
    "#scam_file_nums = ['012a','012b','012f']\n",
    "#scam_run_names = ['q_ft','0.5LS.T','no LS.Tq']\n",
    "\n",
    "#scam_run_names = ['q_ft','0.5LS.T','0.5LS.q','0.5LS.Tq','0.25LS.Tq','no LS.Tq']\n",
    "\n",
    "## Vertical resolution ##\n",
    "#scam_file_nums = ['100a','100','100b','100c']\n",
    "#scam_file_nums = ['101a','101','101b','101c','101d'] # 'a'=L16, ''=L32\n",
    "#scam_run_names = ['L16','L32','L64','L128','L256']\n",
    "\n",
    "#scam_file_nums = ['102a','102','102b','102c'] # 'a'=L15, ''=L30\n",
    "#scam_run_names = ['L15','L30','L60','L120']\n",
    "\n",
    "\n",
    "#scam_file_nums = ['101','102'] # 'a'=L16, ''=L32\n",
    "#scam_run_names = ['CAM6','CAM5']\n",
    "\n",
    "\n",
    "#scam_file_nums = ['101def','102def'] # 'a'=L16, ''=L32\n",
    "#scam_run_names = ['CAM6 default','CAM5 default']\n",
    "\n",
    "#scam_file_nums = ['101','101def'] # 'a'=L16, ''=L32\n",
    "#scam_run_names = ['CAM6 2 min','CAM6']\n",
    "\n",
    "#scam_file_nums = ['102','102def'] # 'a'=L16, ''=L32\n",
    "#scam_run_names = ['CAM5 2 min','CAM5']\n",
    "\n",
    "#scam_file_nums = ['101','102'] # 'a'=L16, ''=L32\n",
    "#scam_run_names = ['CAM6 2 min','CAM5 2 min']\n",
    "\n",
    "#scam_file_nums = ['101d','101dx'] # 'a'=L16, ''=L32\n",
    "#scam_run_names = ['CAM6 until 4pm','CAM6 until 11:30pm']\n",
    "\n",
    "#scam_file_nums = ['101d','201d','202d'] # 'a'=L16, ''=L32\n",
    "#scam_run_names = ['gamma_coef=0.308','gamma_coef=0.285','gamma_coef=0.345']\n",
    "\n",
    "### WITH LES ###\n",
    "\n",
    "#scam_file_nums = np.array(['101d','203d','204d','LES']) # 'a'=L16, ''=L32\n",
    "#scam_run_names = ['clubb_c_k10=0.5','clubb_c_k10=0.3','clubb_c_k10','LES']\n",
    "\n",
    "#scam_file_nums = ['101a','101','101b','101c','101d']# 'a'=L16, ''=L32\n",
    "#scam_run_names = ['L16','L32','L64','L128','L256']\n",
    "\n",
    "scam_file_nums = ['105d','LES'] # ''=L16, ''=L32\n",
    "scam_run_names = ['CAM6','NCAR LES']\n",
    "\n",
    "scam_file_nums = ['105d','LES','LES'] # ''=L16, ''=L32\n",
    "scam_run_names = ['CAM6','CAM6->LES','NCAR']\n",
    "\n",
    "\n",
    "scam_file_pre = \"FSCAM.T42_T42.SAS.\"\n",
    "scam_file_suf = \".cam.h0.2013-06-10-39600\"\n",
    "\n",
    "#scam_files_in = [scam_file_pre+x+scam_file_suf for x in scam_file_nums]\n",
    "#scam_files_in = np.where()\n",
    "\n",
    "#print(scam_files_in)\n",
    "#scam_file_suf = \".cam.h0.2013-06-10-43200.nc\"\n",
    "\n",
    "# LES model selections.\n",
    "\n",
    "les_files_in = {}\n",
    "les_files_in['NCAR'] = \"patton_sas_stats.nc\"\n",
    "\n",
    "\n",
    "### Construct filenames ### \n",
    "\n",
    "scam_files_in = np.empty_like(scam_file_nums)\n",
    "scam_file_nums = np.array(scam_file_nums) \n",
    "scam_run_names = np.array(scam_run_names) \n",
    "\n",
    "\n",
    "# Standard SCAM\n",
    "scam_files_in = ['history/'+scam_file_pre+x+scam_file_suf+'.nc' for x in scam_file_nums] \n",
    "\n",
    "# SCAM in SAS-LES format\n",
    "ii = [ix for ix, x in enumerate(scam_file_nums) if x == 'LES']# Change to LES-SAS-format file if needed \n",
    "for i in ii: scam_files_in[i] = 'history/'+scam_file_pre+scam_file_nums[0]+scam_file_suf+'_SAS_format.nc' \n",
    "\n",
    "# LES in SAS-LES format\n",
    "scam_files_in = np.where(scam_run_names == 'NCAR','LES/'+les_files_in['NCAR'],scam_files_in) # Change to LES file if needed\n",
    "#scam_files_in = np.where(scam_run_names == 'FAST_EDDY','LES/'+les_files_in['FAST_EDDY'],scam_files_in) # Change to LES file if needed\n",
    "\n",
    "\n",
    "\n",
    "print(scam_files_in)\n",
    "\n",
    "#les_file_in = \"LES/FSCAM.T42_T42.SAS.LES.cam.h0.2013-06-10-39600_SAS_format.nc\"\n"
   ]
  },
  {
   "cell_type": "markdown",
   "metadata": {},
   "source": [
    "<b> Diagnostic Field Selections </b>"
   ]
  },
  {
   "cell_type": "code",
   "execution_count": 68,
   "metadata": {},
   "outputs": [],
   "source": [
    "#### PLOTTING ####\n",
    "\n",
    "### 1D TS ### \n",
    "\n",
    "#pvars_ts1d = np.array(['PBLH','TS','LHFLX','SHFLX','PRECC','PRECL','FLNS']) # D profile timeseries plots\n",
    "#pvars_ts2d = ['DTV','VD01','DCQ','Q','T','TH','THL']\n",
    "pvars_ts1d = np.array(['PBLH_DQ','LHFLX','SHFLX'])\n",
    "\n",
    "\n",
    "\n",
    "### 2D TS ###\n",
    "                       ## WPSKEW is WP3_CLUBB/WP2_CLUBB**3/2\n",
    "#pvars_ts2d = ['T','Q','RELHUM','TH','THL','CLOUD','ZMDQ','ZMDT', \n",
    "#            'STEND_CLUBB','RVMTEND_CLUBB','WPTHLP_CLUBB','WPRTP_CLUBB','WP3_CLUBB','THLP2_CLUBB','WP2_CLUBB'] # 2D profile timeseries plots\n",
    "#pvars_ts2d = ['WPRTP_CLUBB','Q','TH']\n",
    "#pvars_ts2d = ['DTV','VD01','DCQ','Q','T','TH','THL']\n",
    "pvars_ts2d = ['TH','Q','WP2_CLUBB','WP3_CLUBB','WPTHLP_CLUBB','WPRTP_CLUBB','THLP2_CLUBB']\n",
    "\n",
    "\n",
    "\n",
    "\n",
    "### 1D SNAPSHOT ###\n",
    "\n",
    "#pvars_ts2d = ['T','Q','RELHUM','TH','THL','CLOUD','ZMDQ','ZMDT','DTCOND','DCQ']\n",
    "\n",
    "#pvars_ts2d = ['STEND_CLUBB','RVMTEND_CLUBB','WPTHLP_CLUBB','WPRTP_CLUBB','THLP2_CLUBB','WP2_CLUBB','WP3_CLUBB'] \n",
    "    \n",
    "#pvars_snap = ['STEND_CLUBB','RVMTEND_CLUBB','TH','THL','Q','RVMTEND_CLUBB','WPTHLP_CLUBB','WPRTP_CLUBB','THLP2_CLUBB','WP2_CLUBB','WP3_CLUBB']  # Snapshot plotting vars\n",
    "#pvars_snap = ['T','Q','RELHUM','TH','THL','CLOUD','ZMDQ','ZMDT','DTCOND','DCQ']\n",
    "pvars_snap = ['TH','THL','Q','RELHUM','DTV','DCQ','STEND_CLUBB','WPTHLP_CLUBB','WPRTP_CLUBB','THLP2_CLUBB','WP2_CLUBB','WP3_CLUBB']\n",
    "\n",
    "pvars_anim = np.array(('Q'))\n",
    "\n",
    "tsnaps = np.array([6.,8.,10.,12.,14.,16])     # Time of snapshots (local time)\n",
    "\n",
    "\n",
    "### Bundle these array for pasing to functions ###\n",
    "run_info = {}\n",
    "run_info['1dvars'] = pvars_ts1d\n",
    "run_info['2dvars'] = pvars_ts2d\n",
    "run_info['snapvars'] = pvars_snap\n",
    "\n",
    "####### GRAPHICS ########\n",
    "#mp.interactive(True)\n",
    "#%matplotlib qt\n",
    "#%matplotlib inline"
   ]
  },
  {
   "cell_type": "markdown",
   "metadata": {},
   "source": [
    "<b> Files Setups </b>"
   ]
  },
  {
   "cell_type": "code",
   "execution_count": 69,
   "metadata": {},
   "outputs": [
    {
     "name": "stdout",
     "output_type": "stream",
     "text": [
      "++++ Runs ++++\n",
      "\n"
     ]
    }
   ],
   "source": [
    "#### CONSTANTS #####\n",
    "\n",
    "r_gas = mconst.dry_air_gas_constant.magnitude   # Specific gas constant for dry air\n",
    "cp_air = mconst.dry_air_spec_heat_press.magnitude # Specific heat for dry air\n",
    "Lv = mconst.water_heat_vaporization.magnitude       # Latent heat of vaporization\n",
    "\n",
    "r_cp = r_gas/cp_air    # r/cp\n",
    "grav = mconst.earth_gravity.magnitude       # Gravity ave.\n",
    "p0 = mconst.pot_temp_ref_press.magnitude\n",
    "\n",
    "\n",
    "####### DERIVED VARS #######\n",
    "\n",
    "\n",
    "\n",
    "print('++++ Runs ++++')\n",
    "print('')\n",
    "#scam_files_in = scam_file_pre+scam_file_nums+scam_file_suf \n",
    "scam_fig_stub='png/'+'_'.join(scam_file_nums)\n",
    "\n",
    "zoffset = 6.  # Offset for Z time.\n",
    "### Bundle run info ###\n",
    "\n",
    "run_info['Run Name']   = scam_run_names\n",
    "run_info['File Num']   = scam_file_nums\n",
    "run_info['File Name']  = scam_files_in\n",
    "run_info['zoffset']    = zoffset\n",
    "run_info['Stub Figs']  = scam_fig_stub\n",
    "\n",
    "#df_rinfo = pd.DataFrame(rinfo)\n",
    "#df_rinfo.style.set_properties(**{'background-color': 'white','color': 'yellow'})\n",
    "#df_rinfo.style.apply({'background-color': 'white'})\n",
    "\n",
    "##### Point Files #######\n",
    "\n",
    "## Dimensions ##\n",
    "\n",
    "scam_in = xr.open_dataset(scam_files_in[0])\n",
    "\n",
    "ntsnaps = tsnaps.size\n",
    "ncases = len(scam_file_nums)\n"
   ]
  },
  {
   "cell_type": "markdown",
   "metadata": {},
   "source": [
    "<b> Plot type selection </b>"
   ]
  },
  {
   "cell_type": "code",
   "execution_count": 70,
   "metadata": {},
   "outputs": [
    {
     "name": "stdout",
     "output_type": "stream",
     "text": [
      "+++ IMPORTING MY FUNCTIONS +++\n",
      "                                  long_name   units      vscale   ymin  \\\n",
      "LHFLX                      Latent Heat Flux    W/m2         1.0    0.0   \n",
      "SHFLX                    Sensible Heat Flux    W/m2         1.0    0.0   \n",
      "TS                      Surface Temperature       K         1.0  290.0   \n",
      "PBLH                   Boundary Layer Depth  meters         1.0    0.0   \n",
      "PBLH_DTH  Boundary Layer Depth (dth/dz max)  meters         1.0    0.0   \n",
      "PBLH_DQ    Boundary Layer Depth (dq/dz max)  meters         1.0    0.0   \n",
      "PRECL             Large-Scale Precipitation  mm/day  86400000.0    0.0   \n",
      "PRECC              Convective Precipitation  mm/day  86400000.0    0.0   \n",
      "FLNS       Surface Net Short-wave Radiation    W/m2         1.0  200.0   \n",
      "CAPE                                   CAPE    J/kg         1.0    0.0   \n",
      "\n",
      "            ymax var_les     lscale  \n",
      "LHFLX      400.0   wqsfc  2501000.0  \n",
      "SHFLX      300.0   wtsfc     1005.0  \n",
      "TS         310.0                1.0  \n",
      "PBLH      3000.0    zi_t        1.0  \n",
      "PBLH_DTH  3000.0    zi_t        1.0  \n",
      "PBLH_DQ   3000.0    zi_q        1.0  \n",
      "PRECL       10.0                1.0  \n",
      "PRECC       10.0                1.0  \n",
      "FLNS       800.0                1.0  \n",
      "CAPE       800.0                1.0  \n"
     ]
    },
    {
     "ename": "KeyError",
     "evalue": "'PBLH_DQ'",
     "output_type": "error",
     "traceback": [
      "\u001b[0;31m---------------------------------------------------------------------------\u001b[0m",
      "\u001b[0;31mKeyError\u001b[0m                                  Traceback (most recent call last)",
      "\u001b[0;32m~/miniconda3/envs/analysis/lib/python3.7/site-packages/xarray/core/dataset.py\u001b[0m in \u001b[0;36m_construct_dataarray\u001b[0;34m(self, name)\u001b[0m\n\u001b[1;32m   1163\u001b[0m         \u001b[0;32mtry\u001b[0m\u001b[0;34m:\u001b[0m\u001b[0;34m\u001b[0m\u001b[0;34m\u001b[0m\u001b[0m\n\u001b[0;32m-> 1164\u001b[0;31m             \u001b[0mvariable\u001b[0m \u001b[0;34m=\u001b[0m \u001b[0mself\u001b[0m\u001b[0;34m.\u001b[0m\u001b[0m_variables\u001b[0m\u001b[0;34m[\u001b[0m\u001b[0mname\u001b[0m\u001b[0;34m]\u001b[0m\u001b[0;34m\u001b[0m\u001b[0;34m\u001b[0m\u001b[0m\n\u001b[0m\u001b[1;32m   1165\u001b[0m         \u001b[0;32mexcept\u001b[0m \u001b[0mKeyError\u001b[0m\u001b[0;34m:\u001b[0m\u001b[0;34m\u001b[0m\u001b[0;34m\u001b[0m\u001b[0m\n",
      "\u001b[0;31mKeyError\u001b[0m: 'PBLH_DQ'",
      "\nDuring handling of the above exception, another exception occurred:\n",
      "\u001b[0;31mKeyError\u001b[0m                                  Traceback (most recent call last)",
      "\u001b[0;32m<ipython-input-70-a7af307e7503>\u001b[0m in \u001b[0;36m<module>\u001b[0;34m\u001b[0m\n\u001b[1;32m      3\u001b[0m \u001b[0;31m#dir(mypy)\u001b[0m\u001b[0;34m\u001b[0m\u001b[0;34m\u001b[0m\u001b[0;34m\u001b[0m\u001b[0m\n\u001b[1;32m      4\u001b[0m \u001b[0;34m\u001b[0m\u001b[0m\n\u001b[0;32m----> 5\u001b[0;31m \u001b[0mmypy\u001b[0m\u001b[0;34m.\u001b[0m\u001b[0mplot1d_ts_scam\u001b[0m\u001b[0;34m(\u001b[0m\u001b[0mrun_info\u001b[0m\u001b[0;34m)\u001b[0m   \u001b[0;31m# 1D time series plots\u001b[0m\u001b[0;34m\u001b[0m\u001b[0;34m\u001b[0m\u001b[0m\n\u001b[0m\u001b[1;32m      6\u001b[0m \u001b[0mmypy\u001b[0m\u001b[0;34m.\u001b[0m\u001b[0mplot2d_ts_scam\u001b[0m\u001b[0;34m(\u001b[0m\u001b[0mrun_info\u001b[0m\u001b[0;34m)\u001b[0m   \u001b[0;31m# 2D time series plots\u001b[0m\u001b[0;34m\u001b[0m\u001b[0;34m\u001b[0m\u001b[0m\n\u001b[1;32m      7\u001b[0m \u001b[0;31m#mypy.plot1d_snap_scam(run_info)   # 1D snapshot plots\u001b[0m\u001b[0;34m\u001b[0m\u001b[0;34m\u001b[0m\u001b[0;34m\u001b[0m\u001b[0m\n",
      "\u001b[0;32m~/Documents/NCAR/python/python-scripts/PBL/scam_func.py\u001b[0m in \u001b[0;36mplot1d_ts_scam\u001b[0;34m(rinfo)\u001b[0m\n\u001b[1;32m    179\u001b[0m \u001b[0;31m#                               with xr.set_options(keep_attrs=True) and pvar is None:\u001b[0m\u001b[0;34m\u001b[0m\u001b[0;34m\u001b[0m\u001b[0;34m\u001b[0m\u001b[0m\n\u001b[1;32m    180\u001b[0m                                 \u001b[0;32mif\u001b[0m \u001b[0mpvar\u001b[0m \u001b[0;32mis\u001b[0m \u001b[0;32mNone\u001b[0m\u001b[0;34m:\u001b[0m\u001b[0;34m\u001b[0m\u001b[0;34m\u001b[0m\u001b[0m\n\u001b[0;32m--> 181\u001b[0;31m                                         \u001b[0mpvar\u001b[0m \u001b[0;34m=\u001b[0m \u001b[0mvscale\u001b[0m\u001b[0;34m*\u001b[0m\u001b[0mscam_icase\u001b[0m\u001b[0;34m[\u001b[0m\u001b[0mvar\u001b[0m\u001b[0;34m]\u001b[0m\u001b[0;34m.\u001b[0m\u001b[0misel\u001b[0m\u001b[0;34m(\u001b[0m\u001b[0mlat\u001b[0m\u001b[0;34m=\u001b[0m\u001b[0;36m0\u001b[0m\u001b[0;34m,\u001b[0m\u001b[0mlon\u001b[0m\u001b[0;34m=\u001b[0m\u001b[0;36m0\u001b[0m\u001b[0;34m)\u001b[0m\u001b[0;34m\u001b[0m\u001b[0;34m\u001b[0m\u001b[0m\n\u001b[0m\u001b[1;32m    182\u001b[0m \u001b[0;34m\u001b[0m\u001b[0m\n\u001b[1;32m    183\u001b[0m \u001b[0;34m\u001b[0m\u001b[0m\n",
      "\u001b[0;32m~/miniconda3/envs/analysis/lib/python3.7/site-packages/xarray/core/dataset.py\u001b[0m in \u001b[0;36m__getitem__\u001b[0;34m(self, key)\u001b[0m\n\u001b[1;32m   1252\u001b[0m \u001b[0;34m\u001b[0m\u001b[0m\n\u001b[1;32m   1253\u001b[0m         \u001b[0;32mif\u001b[0m \u001b[0mhashable\u001b[0m\u001b[0;34m(\u001b[0m\u001b[0mkey\u001b[0m\u001b[0;34m)\u001b[0m\u001b[0;34m:\u001b[0m\u001b[0;34m\u001b[0m\u001b[0;34m\u001b[0m\u001b[0m\n\u001b[0;32m-> 1254\u001b[0;31m             \u001b[0;32mreturn\u001b[0m \u001b[0mself\u001b[0m\u001b[0;34m.\u001b[0m\u001b[0m_construct_dataarray\u001b[0m\u001b[0;34m(\u001b[0m\u001b[0mkey\u001b[0m\u001b[0;34m)\u001b[0m\u001b[0;34m\u001b[0m\u001b[0;34m\u001b[0m\u001b[0m\n\u001b[0m\u001b[1;32m   1255\u001b[0m         \u001b[0;32melse\u001b[0m\u001b[0;34m:\u001b[0m\u001b[0;34m\u001b[0m\u001b[0;34m\u001b[0m\u001b[0m\n\u001b[1;32m   1256\u001b[0m             \u001b[0;32mreturn\u001b[0m \u001b[0mself\u001b[0m\u001b[0;34m.\u001b[0m\u001b[0m_copy_listed\u001b[0m\u001b[0;34m(\u001b[0m\u001b[0mnp\u001b[0m\u001b[0;34m.\u001b[0m\u001b[0masarray\u001b[0m\u001b[0;34m(\u001b[0m\u001b[0mkey\u001b[0m\u001b[0;34m)\u001b[0m\u001b[0;34m)\u001b[0m\u001b[0;34m\u001b[0m\u001b[0;34m\u001b[0m\u001b[0m\n",
      "\u001b[0;32m~/miniconda3/envs/analysis/lib/python3.7/site-packages/xarray/core/dataset.py\u001b[0m in \u001b[0;36m_construct_dataarray\u001b[0;34m(self, name)\u001b[0m\n\u001b[1;32m   1165\u001b[0m         \u001b[0;32mexcept\u001b[0m \u001b[0mKeyError\u001b[0m\u001b[0;34m:\u001b[0m\u001b[0;34m\u001b[0m\u001b[0;34m\u001b[0m\u001b[0m\n\u001b[1;32m   1166\u001b[0m             _, name, variable = _get_virtual_variable(\n\u001b[0;32m-> 1167\u001b[0;31m                 \u001b[0mself\u001b[0m\u001b[0;34m.\u001b[0m\u001b[0m_variables\u001b[0m\u001b[0;34m,\u001b[0m \u001b[0mname\u001b[0m\u001b[0;34m,\u001b[0m \u001b[0mself\u001b[0m\u001b[0;34m.\u001b[0m\u001b[0m_level_coords\u001b[0m\u001b[0;34m,\u001b[0m \u001b[0mself\u001b[0m\u001b[0;34m.\u001b[0m\u001b[0mdims\u001b[0m\u001b[0;34m\u001b[0m\u001b[0;34m\u001b[0m\u001b[0m\n\u001b[0m\u001b[1;32m   1168\u001b[0m             )\n\u001b[1;32m   1169\u001b[0m \u001b[0;34m\u001b[0m\u001b[0m\n",
      "\u001b[0;32m~/miniconda3/envs/analysis/lib/python3.7/site-packages/xarray/core/dataset.py\u001b[0m in \u001b[0;36m_get_virtual_variable\u001b[0;34m(variables, key, level_vars, dim_sizes)\u001b[0m\n\u001b[1;32m    165\u001b[0m         \u001b[0mref_var\u001b[0m \u001b[0;34m=\u001b[0m \u001b[0mdim_var\u001b[0m\u001b[0;34m.\u001b[0m\u001b[0mto_index_variable\u001b[0m\u001b[0;34m(\u001b[0m\u001b[0;34m)\u001b[0m\u001b[0;34m.\u001b[0m\u001b[0mget_level_variable\u001b[0m\u001b[0;34m(\u001b[0m\u001b[0mref_name\u001b[0m\u001b[0;34m)\u001b[0m\u001b[0;34m\u001b[0m\u001b[0;34m\u001b[0m\u001b[0m\n\u001b[1;32m    166\u001b[0m     \u001b[0;32melse\u001b[0m\u001b[0;34m:\u001b[0m\u001b[0;34m\u001b[0m\u001b[0;34m\u001b[0m\u001b[0m\n\u001b[0;32m--> 167\u001b[0;31m         \u001b[0mref_var\u001b[0m \u001b[0;34m=\u001b[0m \u001b[0mvariables\u001b[0m\u001b[0;34m[\u001b[0m\u001b[0mref_name\u001b[0m\u001b[0;34m]\u001b[0m\u001b[0;34m\u001b[0m\u001b[0;34m\u001b[0m\u001b[0m\n\u001b[0m\u001b[1;32m    168\u001b[0m \u001b[0;34m\u001b[0m\u001b[0m\n\u001b[1;32m    169\u001b[0m     \u001b[0;32mif\u001b[0m \u001b[0mvar_name\u001b[0m \u001b[0;32mis\u001b[0m \u001b[0;32mNone\u001b[0m\u001b[0;34m:\u001b[0m\u001b[0;34m\u001b[0m\u001b[0;34m\u001b[0m\u001b[0m\n",
      "\u001b[0;31mKeyError\u001b[0m: 'PBLH_DQ'"
     ]
    }
   ],
   "source": [
    "###### Plotting ##########\n",
    "importlib.reload(mypy) # Required because I am constantly editing scam_func.py\n",
    "#dir(mypy)\n",
    "\n",
    "mypy.plot1d_ts_scam(run_info)   # 1D time series plots\n",
    "mypy.plot2d_ts_scam(run_info)   # 2D time series plots\n",
    "#mypy.plot1d_snap_scam(run_info)   # 1D snapshot plots\n",
    "#mypy.plot1d_anim_scam(run_info) # 2D animation  plots\n"
   ]
  },
  {
   "cell_type": "code",
   "execution_count": null,
   "metadata": {},
   "outputs": [],
   "source": []
  },
  {
   "cell_type": "code",
   "execution_count": null,
   "metadata": {},
   "outputs": [],
   "source": []
  }
 ],
 "metadata": {
  "kernelspec": {
   "display_name": "Python [conda env:analysis]",
   "language": "python",
   "name": "conda-env-analysis-py"
  },
  "language_info": {
   "codemirror_mode": {
    "name": "ipython",
    "version": 3
   },
   "file_extension": ".py",
   "mimetype": "text/x-python",
   "name": "python",
   "nbconvert_exporter": "python",
   "pygments_lexer": "ipython3",
   "version": "3.7.3"
  }
 },
 "nbformat": 4,
 "nbformat_minor": 4
}
