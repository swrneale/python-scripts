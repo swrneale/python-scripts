{
 "cells": [
  {
   "cell_type": "code",
   "execution_count": 1,
   "metadata": {},
   "outputs": [],
   "source": [
    "import matplotlib.pyplot as mp\n",
    "import numpy as np\n",
    "import pandas as pd\n",
    "\n",
    "import datetime as dt\n",
    "import metpy.calc as mpy\n",
    "from metpy.units import units\n",
    "import xarray as xr\n",
    "from pylab import *"
   ]
  },
  {
   "cell_type": "code",
   "execution_count": null,
   "metadata": {},
   "outputs": [],
   "source": [
    "## SIMPLE PLOTS ##\n",
    "\n",
    "pdir = \"//glade/work/rneale/data/ERAI/6hrly/\"\n",
    "#cases = ['FSCAM.T42_T42.togaII.100','FSCAM.T42_T42.togaII.100a','FSCAM.T42_T42.togaII.101','FSCAM.T42_T42.togaII.101a']\n",
    "#cnames = ['CAM6','CAM6-noconv','CAM5','CAM5-noconv']\n",
    "\n",
    "\n",
    "cases = ['FSCAM.T42_T42.togaII.100','FSCAM.T42_T42.togaII.100b','FSCAM.T42_T42.togaII.101','FSCAM.T42_T42.togaII.101b']\n",
    "cnames = ['CAM6',]\n",
    "\n",
    "csuf = '.cam.h0.1992-12-18-64800.nc'\n",
    "\n",
    "#vname = 'RELHUM'   ; vscale = 1.\n",
    "#vname = 'Q'   ; vscale = 1000.\n",
    "vname = 'T'   ; vscale = 1.\n",
    "#vname = 'CLOUD' ; vscale = 100.\n",
    "#vname = 'CLDICE'   ; vscale = 1000.\n",
    "#vname = 'CLDLIQ' ; vscale = 1000.\n",
    "#vname = 'CLDLIQZM' ; vscale = 1000.\n",
    "#vname = 'DLFZM' ; vscale = 1000.\n",
    "#vname = 'QRS' ; vscale = 86400.\n",
    "\n",
    "vname1d = 'SWCF' ; vscale1d = 1.\n",
    "#vname1d = 'CLDLOW' ; vscale1d = 1."
   ]
  },
  {
   "cell_type": "code",
   "execution_count": null,
   "metadata": {},
   "outputs": [],
   "source": [
    "plt1av, ax1av = mp.subplots(figsize=(10, 6))\n",
    "\n",
    "for ic in range(0,len(cnames)):\n",
    "   \n",
    "    plt1, ax1 = mp.subplots(figsize=(20, 5))\n",
    "    \n",
    "    scam_in = xr.open_dataset(pdir+cases[ic]+csuf)\n",
    "    print('File read in -> '+cases[ic])\n",
    "\n",
    "    pvar = scam_in[vname][:,10::,0,0].transpose()\n",
    "    pvar = pvar*vscale\n",
    "    \n",
    "    dlev = (pvar.max().values-pvar.min().values)/20\n",
    "\n",
    "    if ic == 0: plevels = np.arange(pvar.min().values,pvar.max().values,dlev,dtype=np.float)\n",
    "    \n",
    "    ax1.set_title(cnames[ic])\n",
    "    ax1.set_ylabel('Pressure (mb)') \n",
    "    ax1.set_xlabel(\"Time\")  \n",
    "\n",
    "    plt1 = mp.contourf(pvar.time.values,pvar.lev,pvar,levels=plevels,cmap='Purples') \n",
    "    mp.colorbar(plt1, extend='both')\n",
    "    plt1 = mp.contour(pvar.time.values,pvar.lev,pvar,levels=plevels,colors='black',linewidths=0.25) \n",
    "    ax1.invert_yaxis()  \n",
    "    ax1.set_title(cnames[ic]+' - '+vname)\n",
    "\n",
    "    pvarm = pvar.mean(axis=1)\n",
    "    ax1av.plot(pvarm,pvarm.lev)\n",
    "    \n",
    "    \n",
    "#ax1av.set_ylim(ax1.get_ylim()[::-1])\n",
    "ax1av.set_title(vname)            \n",
    "ax1av.invert_yaxis()  \n",
    "plt1av.legend(cnames)\n",
    "plt1av.savefig('scam_'+vname+'.png', dpi=300)\n",
    " "
   ]
  }
 ],
 "metadata": {
  "kernelspec": {
   "display_name": "Python [conda env:analysis]",
   "language": "python",
   "name": "conda-env-analysis-py"
  },
  "language_info": {
   "codemirror_mode": {
    "name": "ipython",
    "version": 3
   },
   "file_extension": ".py",
   "mimetype": "text/x-python",
   "name": "python",
   "nbconvert_exporter": "python",
   "pygments_lexer": "ipython3",
   "version": "3.7.3"
  }
 },
 "nbformat": 4,
 "nbformat_minor": 4
}
