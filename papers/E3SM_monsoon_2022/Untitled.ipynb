{
 "cells": [
  {
   "cell_type": "code",
   "execution_count": null,
   "id": "11e885c1-f941-4fbd-be91-9665e50da7d9",
   "metadata": {},
   "outputs": [],
   "source": [
    "import numpy as np\n",
    "import xarray as xr"
   ]
  },
  {
   "cell_type": "code",
   "execution_count": null,
   "id": "abde4cca-3973-4869-bc2c-69963a735467",
   "metadata": {},
   "outputs": [],
   "source": [
    "file_in =  ''\n",
    "ds = xr.open_mfdataset(file_in, parallel = True, chunks={'time': 10})    "
   ]
  }
 ],
 "metadata": {
  "kernelspec": {
   "display_name": "Python [conda env:miniconda3-neale_wrf]",
   "language": "python",
   "name": "conda-env-miniconda3-neale_wrf-py"
  },
  "language_info": {
   "codemirror_mode": {
    "name": "ipython",
    "version": 3
   },
   "file_extension": ".py",
   "mimetype": "text/x-python",
   "name": "python",
   "nbconvert_exporter": "python",
   "pygments_lexer": "ipython3",
   "version": "3.9.7"
  }
 },
 "nbformat": 4,
 "nbformat_minor": 5
}
