{
 "cells": [
  {
   "cell_type": "markdown",
   "id": "76ab1314-0258-45ac-a2d4-24db41ec567f",
   "metadata": {},
   "source": [
    "## Case Studies from SCAM Simulations"
   ]
  },
  {
   "cell_type": "code",
   "execution_count": null,
   "id": "0ff7c852-78c8-4b7e-82bf-0c0fa3fcf3f7",
   "metadata": {},
   "outputs": [],
   "source": [
    "#cases = ['FSCAM.T42_T42.togaII.100','FSCAM.T42_T42.togaII.100b','FSCAM.T42_T42.togaII.101','FSCAM.T42_T42.togaII.101b']\n",
    "#cases = ['FSCAM.T42_T42.togaII.001','FSCAM.T42_T42.togaII.004','FSCAM.T42_T42.togaII.002','FSCAM.T42_T42.togaII.003','FSCAM.T42_T42.togaII.001.L32','FSCAM.T42_T42.togaII.001.L256']\n",
    "#cnames = ['CAM6 (#CIN=1)','CAM6 (#CIN=2)','CAM6 (#CIN=3)','CAM6 (#CIN=5)','CAM6 (L32)','CAM6 (L256)']\n",
    "\n",
    "#cases = ['FSCAM.T42_T42.togaII.001','FSCAM.T42_T42.togaII.004','FSCAM.T42_T42.togaII.003','FSCAM.T42_T42.togaII.001.L256','FSCAM.T42_T42.togaII.001.L256.nolev1zm','FSCAM.T42_T42.togaII.zm.ke002']\n",
    "#cnames = ['CAM6 (#CIN=1)','CAM6 (#CIN=2)','CAM6 (#CIN=5)','CAM6 (L256)','CAM6 (L256-nolev1zm)','CAM6 (tfreez=-10)','FSCAM.T42_T42.togaII.001']\n",
    "\n",
    "#cases = ['FSCAM.T42_T42.togaII.001','FSCAM.T42_T42.togaII.004','FSCAM.T42_T42.togaII.003','FSCAM.T42_T42.togaII.001.L64','FSCAM.T42_T42.arm97.001','FSCAM.T42_T42.arm97.001.L64']\n",
    "#cnames = ['CAM6 (#CIN=1)','CAM6 (#CIN=2)','CAM6 (#CIN=5)','CAM6 (L64,#CIN=1)','CAM6 (ARM97)','CAM6 (ARM97, L64)']\n",
    "\n",
    "#cases = ['FSCAM.T42_T42.togaII.001','FSCAM.T42_T42.togaII.001.org00']\n",
    "#cnames = ['CAM6','CAM6 (zm_org)']\n",
    "\n",
    "#cases = ['FSCAM.T42_T42.togaII.001','FSCAM.T42_T42.togaII.001.sflux01','FSCAM.T42_T42.togaII.001.L256','FSCAM.T42_T42.togaII.001.L256.sflux01','FSCAM.T42_T42.togaII.001.sflux2']\n",
    "#cnames = ['CAM6','CAM6 (5m ref.)','CAM6 (L256)','CAM6 (L256, 5m ref.)','CAM6 (Zheng scheme)']\n",
    "\n",
    "#cases = ['FSCAM.T42_T42.arm97.zm.ke000','FSCAM.T42_T42.arm97.zm.ke000','FSCAM.T42_T42.arm97.zm.par001']\n",
    "#cnames = ['CAM6','CAM6-KE.ZM','CAM6-PBLpar']\n",
    "\n",
    "#cases = ['FSCAM.T42_T42.togaII.zm.ke000','FSCAM.T42_T42.togaII.zm.ke000.L48','FSCAM.T42_T42.togaII.zm.ke000.L58','FSCAM.T42_T42.togaII.zm.ke010',\n",
    "#        'FSCAM.T42_T42.togaII.zm.ke008.L48','FSCAM.T42_T42.togaII.zm.ke009.L48','FSCAM.T42_T42.togaII.zm.ke009.L58','FSCAM.T42_T42.togaII.zm.ke010.L58']\n",
    "#cnames = ['L32-ctrl','L48-ctrl','L58-ctrl','L32-KE010','L48-KE008','L48-KE009','L58-KE009','L58-KE010']\n",
    "\n",
    "\n",
    "\n",
    "#cases = ['FSCAM.T42_T42.togaII.zm.ke000.L58','FSCAM.T42_T42.togaII.zm.ke010.L58']\n",
    "#cnames = ['CAM6 (L58)','KEparcel (L58)']\n",
    "\n",
    "\n",
    "#cases = ['FSCAM.T42_T42.togaII.cam_ke.000','FSCAM.T42_T42.togaII.cam_ke.001','FSCAM.T42_T42.togaII.cam_ke.001.L48','FSCAM.T42_T42.togaII.cam_ke.002.L48']\n",
    "#cnames = ['CAM6 (L58)','KEparcel (L58)','KEparcel (L48)','KEparcel+PBLparcel (L48)']\n",
    "\n",
    "#cases = ['FSCAM.T42_T42.arm97.cam_ke.000','FSCAM.T42_T42.arm97.cam_ke.001','FSCAM.T42_T42.arm97.cam_ke.001.L48']\n",
    "#cnames =  ['CAM6 (L58)','KEparcel (L58)','KEparcel (L48)']\n",
    "\n",
    "#cases = ['FSCAM.T42_T42.togaII.cam_ke.001','FSCAM.T42_T42.togaII.cam_ke.001.L48','FSCAM.T42_T42.togaII.cam_ke.001.L32']\n",
    "#cnames =  ['KEparcel (L58)','KEparcel (L48)','KEparcel (L32)']\n",
    "\n",
    "\n",
    "#cases = ['FSCAM.T42_T42.togaII.cam_ke.000','FSCAM.T42_T42.togaII.cam_ke.000.L48','FSCAM.T42_T42.togaII.cam_ke.000.L32']\n",
    "#cnames =  ['L58','L48','L32']\n",
    "\n",
    "\n",
    "#cases = ['FSCAM.T42_T42.togaII.cam_ke.000','FSCAM.T42_T42.togaII.cam_ke.000.L48','FSCAM.T42_T42.togaII.cam_ke.000.L32','FSCAM.T42_T42.togaII.cam_ke.001','FSCAM.T42_T42.togaII.cam_ke.001.L48','FSCAM.T42_T42.togaII.cam_ke.001.L32']\n",
    "#cases = ['FSCAM.T42_T42.arm97.cam_ke.000','FSCAM.T42_T42.arm97.cam_ke.000.L48','FSCAM.T42_T42.arm97.cam_ke.000.L32','FSCAM.T42_T42.arm97.cam_ke.001','FSCAM.T42_T42.arm97.cam_ke.001.L48','FSCAM.T42_T42.arm97.cam_ke.001.L32']\n",
    "\n",
    "\n",
    "#cnames =  ['L58','L48','L32','KEparcel (L58)','KEparcel (L48)','KEparcel (L32)']\n",
    "\n",
    "\n",
    "cases = ['FSCAM.T42_T42.togaII.cam_ke.000','FSCAM.T42_T42.togaII.cam_ke.002','FSCAM.T42_T42.togaII.cam_ke.003','FSCAM.T42_T42.togaII.cam_ke.004']\n",
    "\n",
    "#cases = ['FSCAM.T42_T42.arm97.cam_ke.000','FSCAM.T42_T42.arm97.cam_ke.002','FSCAM.T42_T42.arm97.cam_ke.003','FSCAM.T42_T42.arm97.cam_ke.004']\n",
    "cnames =  ['L58','KEparcel (L58)','PBL Parcel (L58)','KE/PBL Parcel (L58)']\n",
    "\n",
    "\n",
    "\n",
    "#cases = ['FSCAM.T42_T42.togaII.cam_ke.000','FSCAM.T42_T42.togaII.cam_ke.000.L32','cesm1_cam5','cesm1_cam4','scam_undilute']\n",
    "#cnames = ['CAM6-L58','CAM6','CAM5','CAM4','CAM3']\n"
   ]
  }
 ],
 "metadata": {
  "kernelspec": {
   "display_name": "neale_myenv",
   "language": "python",
   "name": "neale_myenv"
  },
  "language_info": {
   "codemirror_mode": {
    "name": "ipython",
    "version": 3
   },
   "file_extension": ".py",
   "mimetype": "text/x-python",
   "name": "python",
   "nbconvert_exporter": "python",
   "pygments_lexer": "ipython3",
   "version": "3.8.15"
  }
 },
 "nbformat": 4,
 "nbformat_minor": 5
}
