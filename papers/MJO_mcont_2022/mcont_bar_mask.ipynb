{
 "cells": [
  {
   "cell_type": "code",
   "execution_count": 171,
   "id": "36fbc70a-b6dd-4385-a552-d307247eed1e",
   "metadata": {},
   "outputs": [],
   "source": [
    "# Imports\n",
    "import pandas as pd\n",
    "\n",
    "# MC expts.\n",
    "def cam_revert_list():\n",
    "    \n",
    "    rl = {} # Revert List\n",
    "        \n",
    "    rl['MC-CAM6'] = ['f.e22.FHIST.f09_f09.cesm2_2.mcont_mjo.001']\n",
    "    rl['MC-0x'] = ['f.e22.FHIST.f09_f09.cesm2_2.mcont_mjo_0x.001']\n",
    "    rl['MC-2x'] = ['f.e22.FHIST.f09_f09.cesm2_2.mcont_mjo_2x.001']\n",
    "    rl['MC-noMC'] = ['f.e22.FHIST.f09_f09.cesm2_2.mcont_mjo_ocn.001']\n",
    "    rl['MC-noMC-c2sst'] = ['f.e22.FHIST.f09_f09.cesm2_2.mcont_mjo_ocn_c2sst.001']\n",
    "    \n",
    "    rl['MSMIP-c2msst'] = ['f.e22.FHIST.f09_f09.cesm2_2.MSMIP_cpl_msst.001']\n",
    "    rl['MSMIP-c2dsst'] = ['f.e22.FHIST.f09_f09.cesm2_2.MSMIP_cpl_dsst.001']\n",
    "    rl['MSMIP-c2csst'] = ['f.e22.FHIST.f09_f09.cesm2_2.MSMIP_cpl_clsst.001']\n",
    "    \n",
    "    rl['CESM2'] = ['b.e21.BHIST.f09_g17.CMIP6-historical.011']\n",
    "   \n",
    "    \n",
    "    rl['GPCP'] = ['GPCP']\n",
    "    rl['TRMM'] = ['TRMM']\n",
    "    rl['ERAI'] = ['ERAI']\n",
    "    rl['NVAP'] = ['NVAP']\n",
    "    rl['MERRA'] = ['MERRA']\n",
    "    \n",
    " # Data frame\n",
    "    rl_df = pd.DataFrame.from_dict(rl, orient='index',columns=['run name'])\n",
    "    return rl_df   \n",
    "    "
   ]
  },
  {
   "cell_type": "markdown",
   "id": "3e50ac87-c968-4bd2-b680-1f50774c86ea",
   "metadata": {},
   "source": [
    "### MJO Maritime Continent Paper"
   ]
  },
  {
   "cell_type": "markdown",
   "id": "4fbf20d1-934b-4195-abec-587be5e3ded2",
   "metadata": {},
   "source": [
    "02 Sep, 2022\n",
    "- Read in climo files\n",
    "- Mask islands regions in or out\n",
    "- Average quantities over those regions\n",
    "- Bar charts for different simulations"
   ]
  },
  {
   "cell_type": "code",
   "execution_count": 172,
   "id": "d22fc30f-7589-4e27-bf2b-a4f2a958885d",
   "metadata": {},
   "outputs": [],
   "source": [
    "# Modules\n",
    "import numpy as np\n",
    "import importlib\n",
    "import seaborn as sbn\n",
    "\n",
    "import matplotlib.pyplot as mp\n",
    "from matplotlib import cm\n",
    "# My utils\n",
    "import mcont_utils as mcont\n"
   ]
  },
  {
   "cell_type": "code",
   "execution_count": 179,
   "id": "f67f27aa-9382-482b-8024-b4df42fe3f4f",
   "metadata": {},
   "outputs": [],
   "source": [
    "# Settings\n",
    "\n",
    "season = 'DJF'\n",
    "\n",
    "var_name = 'LHFLX'\n",
    "#var_name = 'TMQ'\n",
    "#var_name = 'LHFLX'\n",
    "var_name = \"OMEGA500\"\n",
    "\n",
    "pref_out = 'MC_AMIP'\n",
    "lrm_ave = True  ; fig_avdiff = 'diff'\n",
    "#lrm_ave = False ; fig_avdiff = '_ave'\n",
    "\n",
    "#case_desc =  np.array(['TRMM','GPCP','CESM2','MC-CAM6','MC-0x','MC-2x','MC-noMC'])\n",
    "#case_lname = np.array(['TRMM','GPCP','CESM2','CAM6','0x orog','2x orog','No MC'])\n",
    "\n",
    "\n",
    "case_desc =  np.array(['ERAI','CESM2','MC-CAM6','MC-0x','MC-2x','MC-noMC'])\n",
    "case_lname = np.array(['ERAI','CESM2','CAM6','0x orog','2x orog','No MC'])\n",
    "\n",
    "\n",
    "#case_desc =  np.array(['TRMM','GPCP','CESM2','MC-CAM6','MSMIP-c2msst','MSMIP-c2dsst','MSMIP-c2csst'])\n",
    "#case_lname = np.array(['TRMM','GPCP','CESM2','CAM6','CESM2 monSST','CESM2 daySST','CESM2 climSST'])\n",
    "\n",
    "lrm_case = True\n",
    "land_frac_thresh = 0.5"
   ]
  },
  {
   "cell_type": "code",
   "execution_count": 180,
   "id": "58e9ad9e-d27a-4ad7-8ea8-230f47786614",
   "metadata": {
    "tags": []
   },
   "outputs": [
    {
     "name": "stdout",
     "output_type": "stream",
     "text": [
      "\n",
      "++++++++++++ -> \n",
      "- Case 1  ->  ERAI   ERAI\n",
      "++++++++++++ -> \n",
      "\n",
      "-- Reading climo data in and constucting/reading land mask --\n",
      "  - Reading in: /glade/p/cesm/amwg/amwg_data/obs_data/ERAI_DJF_climo.nc\n",
      "-- Done --\n",
      "-- Masking variable data --\n",
      "-- Grabbing Data According to requested variable\n",
      "OMEGA\n",
      "-- Done --\n",
      "\n",
      "++++++++++++ -> \n",
      "- Case 2  ->  CESM2   b.e21.BHIST.f09_g17.CMIP6-historical.011\n",
      "++++++++++++ -> \n",
      "\n",
      "-- Reading climo data in and constucting/reading land mask --\n",
      "  - Reading in: /glade/scratch/rneale/archive/b.e21.BHIST.f09_g17.CMIP6-historical.011/atm/climo/b.e21.BHIST.f09_g17.CMIP6-historical.011_DJF_climo.nc\n",
      "-- Done --\n",
      "-- Masking variable data --\n",
      "-- Grabbing Data According to requested variable\n",
      "OMEGA\n"
     ]
    },
    {
     "ename": "KeyError",
     "evalue": "500.0",
     "output_type": "error",
     "traceback": [
      "\u001b[0;31m---------------------------------------------------------------------------\u001b[0m",
      "\u001b[0;31mKeyError\u001b[0m                                  Traceback (most recent call last)",
      "File \u001b[0;32m/glade/work/rneale/python/miniconda3/envs/neale_myenv/lib/python3.8/site-packages/pandas/core/indexes/base.py:3621\u001b[0m, in \u001b[0;36mIndex.get_loc\u001b[0;34m(self, key, method, tolerance)\u001b[0m\n\u001b[1;32m   3620\u001b[0m \u001b[38;5;28;01mtry\u001b[39;00m:\n\u001b[0;32m-> 3621\u001b[0m     \u001b[38;5;28;01mreturn\u001b[39;00m \u001b[38;5;28;43mself\u001b[39;49m\u001b[38;5;241;43m.\u001b[39;49m\u001b[43m_engine\u001b[49m\u001b[38;5;241;43m.\u001b[39;49m\u001b[43mget_loc\u001b[49m\u001b[43m(\u001b[49m\u001b[43mcasted_key\u001b[49m\u001b[43m)\u001b[49m\n\u001b[1;32m   3622\u001b[0m \u001b[38;5;28;01mexcept\u001b[39;00m \u001b[38;5;167;01mKeyError\u001b[39;00m \u001b[38;5;28;01mas\u001b[39;00m err:\n",
      "File \u001b[0;32m/glade/work/rneale/python/miniconda3/envs/neale_myenv/lib/python3.8/site-packages/pandas/_libs/index.pyx:136\u001b[0m, in \u001b[0;36mpandas._libs.index.IndexEngine.get_loc\u001b[0;34m()\u001b[0m\n",
      "File \u001b[0;32m/glade/work/rneale/python/miniconda3/envs/neale_myenv/lib/python3.8/site-packages/pandas/_libs/index.pyx:163\u001b[0m, in \u001b[0;36mpandas._libs.index.IndexEngine.get_loc\u001b[0;34m()\u001b[0m\n",
      "File \u001b[0;32mpandas/_libs/hashtable_class_helper.pxi:1533\u001b[0m, in \u001b[0;36mpandas._libs.hashtable.Float64HashTable.get_item\u001b[0;34m()\u001b[0m\n",
      "File \u001b[0;32mpandas/_libs/hashtable_class_helper.pxi:1542\u001b[0m, in \u001b[0;36mpandas._libs.hashtable.Float64HashTable.get_item\u001b[0;34m()\u001b[0m\n",
      "\u001b[0;31mKeyError\u001b[0m: 500.0",
      "\nThe above exception was the direct cause of the following exception:\n",
      "\u001b[0;31mKeyError\u001b[0m                                  Traceback (most recent call last)",
      "Input \u001b[0;32mIn [180]\u001b[0m, in \u001b[0;36m<cell line: 14>\u001b[0;34m()\u001b[0m\n\u001b[1;32m     25\u001b[0m \u001b[38;5;66;03m# Case loop\u001b[39;00m\n\u001b[1;32m     27\u001b[0m     ds_in \u001b[38;5;241m=\u001b[39m mcont\u001b[38;5;241m.\u001b[39mread_climo(cname,var_name,season) \u001b[38;5;66;03m# Grab dataset    \u001b[39;00m\n\u001b[0;32m---> 29\u001b[0m     var_mask_reg \u001b[38;5;241m=\u001b[39m \u001b[43mmcont\u001b[49m\u001b[38;5;241;43m.\u001b[39;49m\u001b[43mreg_mask\u001b[49m\u001b[43m(\u001b[49m\u001b[43mds_in\u001b[49m\u001b[43m,\u001b[49m\u001b[43mclname\u001b[49m\u001b[43m,\u001b[49m\u001b[43mvar_name\u001b[49m\u001b[43m,\u001b[49m\u001b[43mvar_mask_reg\u001b[49m\u001b[43m,\u001b[49m\u001b[43mland_frac_thresh\u001b[49m\u001b[38;5;241;43m=\u001b[39;49m\u001b[43m[\u001b[49m\u001b[38;5;241;43m0.5\u001b[39;49m\u001b[43m,\u001b[49m\u001b[38;5;241;43m0.55\u001b[39;49m\u001b[43m]\u001b[49m\u001b[43m)\u001b[49m \u001b[38;5;66;03m# Mask variable for orog,ocean,all single value)\u001b[39;00m\n\u001b[1;32m     32\u001b[0m \u001b[38;5;66;03m# PLotting prep.\u001b[39;00m\n\u001b[1;32m     34\u001b[0m vunits \u001b[38;5;241m=\u001b[39m mcont\u001b[38;5;241m.\u001b[39mget_var_meta()\u001b[38;5;241m.\u001b[39mloc[var_name][\u001b[38;5;124m'\u001b[39m\u001b[38;5;124munits\u001b[39m\u001b[38;5;124m'\u001b[39m] \n",
      "File \u001b[0;32m/glade/work/rneale/git/python-scripts/papers/MJO_mcont_2022/mcont_utils.py:85\u001b[0m, in \u001b[0;36mreg_mask\u001b[0;34m(ds_in, cname, vname, var_mask_reg, land_frac_thresh)\u001b[0m\n\u001b[1;32m     81\u001b[0m \u001b[38;5;66;03m# Grab land fraction\u001b[39;00m\n\u001b[1;32m     83\u001b[0m \tlfrac \u001b[38;5;241m=\u001b[39m ds_in\u001b[38;5;241m.\u001b[39mLANDFRAC\n\u001b[0;32m---> 85\u001b[0m \tvar_in \u001b[38;5;241m=\u001b[39m \u001b[43mget_var\u001b[49m\u001b[43m(\u001b[49m\u001b[43mds_in\u001b[49m\u001b[43m,\u001b[49m\u001b[43mvname\u001b[49m\u001b[43m)\u001b[49m\n\u001b[1;32m     87\u001b[0m \tlfrac_mc \u001b[38;5;241m=\u001b[39m lfrac\u001b[38;5;241m.\u001b[39msel(lat\u001b[38;5;241m=\u001b[39m\u001b[38;5;28mslice\u001b[39m(min_lat,max_lat), lon\u001b[38;5;241m=\u001b[39m\u001b[38;5;28mslice\u001b[39m(min_lon,max_lon))\n\u001b[1;32m     88\u001b[0m \tvar_in_mc \u001b[38;5;241m=\u001b[39m var_in\u001b[38;5;241m.\u001b[39msel(lat\u001b[38;5;241m=\u001b[39m\u001b[38;5;28mslice\u001b[39m(min_lat,max_lat), lon\u001b[38;5;241m=\u001b[39m\u001b[38;5;28mslice\u001b[39m(min_lon,max_lon))\n",
      "File \u001b[0;32m/glade/work/rneale/git/python-scripts/papers/MJO_mcont_2022/mcont_utils.py:144\u001b[0m, in \u001b[0;36mget_var\u001b[0;34m(ds, varname)\u001b[0m\n\u001b[1;32m    141\u001b[0m \tvar_in \u001b[38;5;241m=\u001b[39m ds[vname]\n\u001b[1;32m    143\u001b[0m \t\u001b[38;5;28;01mif\u001b[39;00m var_in\u001b[38;5;241m.\u001b[39mndim \u001b[38;5;241m!=\u001b[39m \u001b[38;5;241m3\u001b[39m:\n\u001b[0;32m--> 144\u001b[0m \t\tvar_in \u001b[38;5;241m=\u001b[39m \u001b[43mvar_in\u001b[49m\u001b[38;5;241;43m.\u001b[39;49m\u001b[43msel\u001b[49m\u001b[43m(\u001b[49m\u001b[43mlev\u001b[49m\u001b[38;5;241;43m=\u001b[39;49m\u001b[38;5;241;43m500.\u001b[39;49m\u001b[43m)\u001b[49m\n\u001b[1;32m    146\u001b[0m \u001b[38;5;28;01melse\u001b[39;00m:\n\u001b[1;32m    148\u001b[0m \t\u001b[38;5;28;01mtry\u001b[39;00m:\n",
      "File \u001b[0;32m/glade/work/rneale/python/miniconda3/envs/neale_myenv/lib/python3.8/site-packages/xarray/core/dataarray.py:1329\u001b[0m, in \u001b[0;36mDataArray.sel\u001b[0;34m(self, indexers, method, tolerance, drop, **indexers_kwargs)\u001b[0m\n\u001b[1;32m   1220\u001b[0m \u001b[38;5;28;01mdef\u001b[39;00m \u001b[38;5;21msel\u001b[39m(\n\u001b[1;32m   1221\u001b[0m     \u001b[38;5;28mself\u001b[39m,\n\u001b[1;32m   1222\u001b[0m     indexers: Mapping[Any, Any] \u001b[38;5;241m=\u001b[39m \u001b[38;5;28;01mNone\u001b[39;00m,\n\u001b[0;32m   (...)\u001b[0m\n\u001b[1;32m   1226\u001b[0m     \u001b[38;5;241m*\u001b[39m\u001b[38;5;241m*\u001b[39mindexers_kwargs: Any,\n\u001b[1;32m   1227\u001b[0m ) \u001b[38;5;241m-\u001b[39m\u001b[38;5;241m>\u001b[39m DataArray:\n\u001b[1;32m   1228\u001b[0m     \u001b[38;5;124;03m\"\"\"Return a new DataArray whose data is given by selecting index\u001b[39;00m\n\u001b[1;32m   1229\u001b[0m \u001b[38;5;124;03m    labels along the specified dimension(s).\u001b[39;00m\n\u001b[1;32m   1230\u001b[0m \n\u001b[0;32m   (...)\u001b[0m\n\u001b[1;32m   1327\u001b[0m \u001b[38;5;124;03m    Dimensions without coordinates: points\u001b[39;00m\n\u001b[1;32m   1328\u001b[0m \u001b[38;5;124;03m    \"\"\"\u001b[39;00m\n\u001b[0;32m-> 1329\u001b[0m     ds \u001b[38;5;241m=\u001b[39m \u001b[38;5;28;43mself\u001b[39;49m\u001b[38;5;241;43m.\u001b[39;49m\u001b[43m_to_temp_dataset\u001b[49m\u001b[43m(\u001b[49m\u001b[43m)\u001b[49m\u001b[38;5;241;43m.\u001b[39;49m\u001b[43msel\u001b[49m\u001b[43m(\u001b[49m\n\u001b[1;32m   1330\u001b[0m \u001b[43m        \u001b[49m\u001b[43mindexers\u001b[49m\u001b[38;5;241;43m=\u001b[39;49m\u001b[43mindexers\u001b[49m\u001b[43m,\u001b[49m\n\u001b[1;32m   1331\u001b[0m \u001b[43m        \u001b[49m\u001b[43mdrop\u001b[49m\u001b[38;5;241;43m=\u001b[39;49m\u001b[43mdrop\u001b[49m\u001b[43m,\u001b[49m\n\u001b[1;32m   1332\u001b[0m \u001b[43m        \u001b[49m\u001b[43mmethod\u001b[49m\u001b[38;5;241;43m=\u001b[39;49m\u001b[43mmethod\u001b[49m\u001b[43m,\u001b[49m\n\u001b[1;32m   1333\u001b[0m \u001b[43m        \u001b[49m\u001b[43mtolerance\u001b[49m\u001b[38;5;241;43m=\u001b[39;49m\u001b[43mtolerance\u001b[49m\u001b[43m,\u001b[49m\n\u001b[1;32m   1334\u001b[0m \u001b[43m        \u001b[49m\u001b[38;5;241;43m*\u001b[39;49m\u001b[38;5;241;43m*\u001b[39;49m\u001b[43mindexers_kwargs\u001b[49m\u001b[43m,\u001b[49m\n\u001b[1;32m   1335\u001b[0m \u001b[43m    \u001b[49m\u001b[43m)\u001b[49m\n\u001b[1;32m   1336\u001b[0m     \u001b[38;5;28;01mreturn\u001b[39;00m \u001b[38;5;28mself\u001b[39m\u001b[38;5;241m.\u001b[39m_from_temp_dataset(ds)\n",
      "File \u001b[0;32m/glade/work/rneale/python/miniconda3/envs/neale_myenv/lib/python3.8/site-packages/xarray/core/dataset.py:2501\u001b[0m, in \u001b[0;36mDataset.sel\u001b[0;34m(self, indexers, method, tolerance, drop, **indexers_kwargs)\u001b[0m\n\u001b[1;32m   2440\u001b[0m \u001b[38;5;124;03m\"\"\"Returns a new dataset with each array indexed by tick labels\u001b[39;00m\n\u001b[1;32m   2441\u001b[0m \u001b[38;5;124;03malong the specified dimension(s).\u001b[39;00m\n\u001b[1;32m   2442\u001b[0m \n\u001b[0;32m   (...)\u001b[0m\n\u001b[1;32m   2498\u001b[0m \u001b[38;5;124;03mDataArray.sel\u001b[39;00m\n\u001b[1;32m   2499\u001b[0m \u001b[38;5;124;03m\"\"\"\u001b[39;00m\n\u001b[1;32m   2500\u001b[0m indexers \u001b[38;5;241m=\u001b[39m either_dict_or_kwargs(indexers, indexers_kwargs, \u001b[38;5;124m\"\u001b[39m\u001b[38;5;124msel\u001b[39m\u001b[38;5;124m\"\u001b[39m)\n\u001b[0;32m-> 2501\u001b[0m pos_indexers, new_indexes \u001b[38;5;241m=\u001b[39m \u001b[43mremap_label_indexers\u001b[49m\u001b[43m(\u001b[49m\n\u001b[1;32m   2502\u001b[0m \u001b[43m    \u001b[49m\u001b[38;5;28;43mself\u001b[39;49m\u001b[43m,\u001b[49m\u001b[43m \u001b[49m\u001b[43mindexers\u001b[49m\u001b[38;5;241;43m=\u001b[39;49m\u001b[43mindexers\u001b[49m\u001b[43m,\u001b[49m\u001b[43m \u001b[49m\u001b[43mmethod\u001b[49m\u001b[38;5;241;43m=\u001b[39;49m\u001b[43mmethod\u001b[49m\u001b[43m,\u001b[49m\u001b[43m \u001b[49m\u001b[43mtolerance\u001b[49m\u001b[38;5;241;43m=\u001b[39;49m\u001b[43mtolerance\u001b[49m\n\u001b[1;32m   2503\u001b[0m \u001b[43m\u001b[49m\u001b[43m)\u001b[49m\n\u001b[1;32m   2504\u001b[0m \u001b[38;5;66;03m# TODO: benbovy - flexible indexes: also use variables returned by Index.query\u001b[39;00m\n\u001b[1;32m   2505\u001b[0m \u001b[38;5;66;03m# (temporary dirty fix).\u001b[39;00m\n\u001b[1;32m   2506\u001b[0m new_indexes \u001b[38;5;241m=\u001b[39m {k: v[\u001b[38;5;241m0\u001b[39m] \u001b[38;5;28;01mfor\u001b[39;00m k, v \u001b[38;5;129;01min\u001b[39;00m new_indexes\u001b[38;5;241m.\u001b[39mitems()}\n",
      "File \u001b[0;32m/glade/work/rneale/python/miniconda3/envs/neale_myenv/lib/python3.8/site-packages/xarray/core/coordinates.py:421\u001b[0m, in \u001b[0;36mremap_label_indexers\u001b[0;34m(obj, indexers, method, tolerance, **indexers_kwargs)\u001b[0m\n\u001b[1;32m    414\u001b[0m indexers \u001b[38;5;241m=\u001b[39m either_dict_or_kwargs(indexers, indexers_kwargs, \u001b[38;5;124m\"\u001b[39m\u001b[38;5;124mremap_label_indexers\u001b[39m\u001b[38;5;124m\"\u001b[39m)\n\u001b[1;32m    416\u001b[0m v_indexers \u001b[38;5;241m=\u001b[39m {\n\u001b[1;32m    417\u001b[0m     k: v\u001b[38;5;241m.\u001b[39mvariable\u001b[38;5;241m.\u001b[39mdata \u001b[38;5;28;01mif\u001b[39;00m \u001b[38;5;28misinstance\u001b[39m(v, DataArray) \u001b[38;5;28;01melse\u001b[39;00m v\n\u001b[1;32m    418\u001b[0m     \u001b[38;5;28;01mfor\u001b[39;00m k, v \u001b[38;5;129;01min\u001b[39;00m indexers\u001b[38;5;241m.\u001b[39mitems()\n\u001b[1;32m    419\u001b[0m }\n\u001b[0;32m--> 421\u001b[0m pos_indexers, new_indexes \u001b[38;5;241m=\u001b[39m \u001b[43mindexing\u001b[49m\u001b[38;5;241;43m.\u001b[39;49m\u001b[43mremap_label_indexers\u001b[49m\u001b[43m(\u001b[49m\n\u001b[1;32m    422\u001b[0m \u001b[43m    \u001b[49m\u001b[43mobj\u001b[49m\u001b[43m,\u001b[49m\u001b[43m \u001b[49m\u001b[43mv_indexers\u001b[49m\u001b[43m,\u001b[49m\u001b[43m \u001b[49m\u001b[43mmethod\u001b[49m\u001b[38;5;241;43m=\u001b[39;49m\u001b[43mmethod\u001b[49m\u001b[43m,\u001b[49m\u001b[43m \u001b[49m\u001b[43mtolerance\u001b[49m\u001b[38;5;241;43m=\u001b[39;49m\u001b[43mtolerance\u001b[49m\n\u001b[1;32m    423\u001b[0m \u001b[43m\u001b[49m\u001b[43m)\u001b[49m\n\u001b[1;32m    424\u001b[0m \u001b[38;5;66;03m# attach indexer's coordinate to pos_indexers\u001b[39;00m\n\u001b[1;32m    425\u001b[0m \u001b[38;5;28;01mfor\u001b[39;00m k, v \u001b[38;5;129;01min\u001b[39;00m indexers\u001b[38;5;241m.\u001b[39mitems():\n",
      "File \u001b[0;32m/glade/work/rneale/python/miniconda3/envs/neale_myenv/lib/python3.8/site-packages/xarray/core/indexing.py:121\u001b[0m, in \u001b[0;36mremap_label_indexers\u001b[0;34m(data_obj, indexers, method, tolerance)\u001b[0m\n\u001b[1;32m    119\u001b[0m \u001b[38;5;28;01mfor\u001b[39;00m dim, index \u001b[38;5;129;01min\u001b[39;00m indexes\u001b[38;5;241m.\u001b[39mitems():\n\u001b[1;32m    120\u001b[0m     labels \u001b[38;5;241m=\u001b[39m grouped_indexers[dim]\n\u001b[0;32m--> 121\u001b[0m     idxr, new_idx \u001b[38;5;241m=\u001b[39m \u001b[43mindex\u001b[49m\u001b[38;5;241;43m.\u001b[39;49m\u001b[43mquery\u001b[49m\u001b[43m(\u001b[49m\u001b[43mlabels\u001b[49m\u001b[43m,\u001b[49m\u001b[43m \u001b[49m\u001b[43mmethod\u001b[49m\u001b[38;5;241;43m=\u001b[39;49m\u001b[43mmethod\u001b[49m\u001b[43m,\u001b[49m\u001b[43m \u001b[49m\u001b[43mtolerance\u001b[49m\u001b[38;5;241;43m=\u001b[39;49m\u001b[43mtolerance\u001b[49m\u001b[43m)\u001b[49m\n\u001b[1;32m    122\u001b[0m     pos_indexers[dim] \u001b[38;5;241m=\u001b[39m idxr\n\u001b[1;32m    123\u001b[0m     \u001b[38;5;28;01mif\u001b[39;00m new_idx \u001b[38;5;129;01mis\u001b[39;00m \u001b[38;5;129;01mnot\u001b[39;00m \u001b[38;5;28;01mNone\u001b[39;00m:\n",
      "File \u001b[0;32m/glade/work/rneale/python/miniconda3/envs/neale_myenv/lib/python3.8/site-packages/xarray/core/indexes.py:241\u001b[0m, in \u001b[0;36mPandasIndex.query\u001b[0;34m(self, labels, method, tolerance)\u001b[0m\n\u001b[1;32m    237\u001b[0m                 \u001b[38;5;28;01mraise\u001b[39;00m \u001b[38;5;167;01mKeyError\u001b[39;00m(\n\u001b[1;32m    238\u001b[0m                     \u001b[38;5;124mf\u001b[39m\u001b[38;5;124m\"\u001b[39m\u001b[38;5;124mnot all values found in index \u001b[39m\u001b[38;5;132;01m{\u001b[39;00mcoord_name\u001b[38;5;132;01m!r}\u001b[39;00m\u001b[38;5;124m\"\u001b[39m\n\u001b[1;32m    239\u001b[0m                 )\n\u001b[1;32m    240\u001b[0m         \u001b[38;5;28;01melse\u001b[39;00m:\n\u001b[0;32m--> 241\u001b[0m             indexer \u001b[38;5;241m=\u001b[39m \u001b[38;5;28;43mself\u001b[39;49m\u001b[38;5;241;43m.\u001b[39;49m\u001b[43mindex\u001b[49m\u001b[38;5;241;43m.\u001b[39;49m\u001b[43mget_loc\u001b[49m\u001b[43m(\u001b[49m\u001b[43mlabel_value\u001b[49m\u001b[43m)\u001b[49m\n\u001b[1;32m    242\u001b[0m \u001b[38;5;28;01melif\u001b[39;00m label\u001b[38;5;241m.\u001b[39mdtype\u001b[38;5;241m.\u001b[39mkind \u001b[38;5;241m==\u001b[39m \u001b[38;5;124m\"\u001b[39m\u001b[38;5;124mb\u001b[39m\u001b[38;5;124m\"\u001b[39m:\n\u001b[1;32m    243\u001b[0m     indexer \u001b[38;5;241m=\u001b[39m label\n",
      "File \u001b[0;32m/glade/work/rneale/python/miniconda3/envs/neale_myenv/lib/python3.8/site-packages/pandas/core/indexes/base.py:3623\u001b[0m, in \u001b[0;36mIndex.get_loc\u001b[0;34m(self, key, method, tolerance)\u001b[0m\n\u001b[1;32m   3621\u001b[0m     \u001b[38;5;28;01mreturn\u001b[39;00m \u001b[38;5;28mself\u001b[39m\u001b[38;5;241m.\u001b[39m_engine\u001b[38;5;241m.\u001b[39mget_loc(casted_key)\n\u001b[1;32m   3622\u001b[0m \u001b[38;5;28;01mexcept\u001b[39;00m \u001b[38;5;167;01mKeyError\u001b[39;00m \u001b[38;5;28;01mas\u001b[39;00m err:\n\u001b[0;32m-> 3623\u001b[0m     \u001b[38;5;28;01mraise\u001b[39;00m \u001b[38;5;167;01mKeyError\u001b[39;00m(key) \u001b[38;5;28;01mfrom\u001b[39;00m \u001b[38;5;21;01merr\u001b[39;00m\n\u001b[1;32m   3624\u001b[0m \u001b[38;5;28;01mexcept\u001b[39;00m \u001b[38;5;167;01mTypeError\u001b[39;00m:\n\u001b[1;32m   3625\u001b[0m     \u001b[38;5;66;03m# If we have a listlike key, _check_indexing_error will raise\u001b[39;00m\n\u001b[1;32m   3626\u001b[0m     \u001b[38;5;66;03m#  InvalidIndexError. Otherwise we fall through and re-raise\u001b[39;00m\n\u001b[1;32m   3627\u001b[0m     \u001b[38;5;66;03m#  the TypeError.\u001b[39;00m\n\u001b[1;32m   3628\u001b[0m     \u001b[38;5;28mself\u001b[39m\u001b[38;5;241m.\u001b[39m_check_indexing_error(key)\n",
      "\u001b[0;31mKeyError\u001b[0m: 500.0"
     ]
    }
   ],
   "source": [
    "# Loop\n",
    "\n",
    "importlib.reload(mcont)\n",
    "\n",
    "cases_df = cam_revert_list()\n",
    "#var_mask_reg = pd.DataFrame(\n",
    "#    columns=['Mask'],\n",
    "#    index=case_lname)\n",
    "var_mask_reg = pd.DataFrame()\n",
    "\n",
    "\n",
    "#var_meta = get_var_meta(var_name)\n",
    "\n",
    "for icase,case in enumerate(case_lname): # Loop cases\n",
    "\n",
    "    cname = cases_df.loc[case_desc[icase]]['run name']\n",
    "    clname = case_lname[icase]\n",
    "    \n",
    "    print('')\n",
    "    print('++++++++++++ -> ')\n",
    "    print('- Case',icase+1,' -> ',case_lname[icase],' ',cname)\n",
    "    print('++++++++++++ -> ')\n",
    "    print('')\n",
    "\n",
    "# Case loop\n",
    "        \n",
    "    ds_in = mcont.read_climo(cname,var_name,season) # Grab dataset    \n",
    "\n",
    "    var_mask_reg = mcont.reg_mask(ds_in,clname,var_name,var_mask_reg,land_frac_thresh=[0.5,0.55]) # Mask variable for orog,ocean,all single value)\n",
    "\n",
    "    \n",
    "# PLotting prep.\n",
    "    \n",
    "vunits = mcont.get_var_meta().loc[var_name]['units'] \n",
    "vlong_name = mcont.get_var_meta().loc[var_name]['Long Name'] \n",
    "tymin,tymax = ['avmin','avmax'] if lrm_ave else ['vmin','vmax'] \n",
    "ymin = mcont.get_var_meta().loc[var_name][tymin]  ; ymax = mcont.get_var_meta().loc[var_name][tymax] \n",
    "\n",
    "\n",
    "# Remove average of case 0?\n",
    "\n",
    "for mname in ['Ocean','Land','Both']:\n",
    "\n",
    "    mean_value = var_mask_reg.loc[var_mask_reg['Case'].isin([case_desc[0]]) & var_mask_reg['Mask'].isin([mname]),vunits].values\n",
    "    var_mask_reg.loc[var_mask_reg['Mask'].isin([mname]),vunits] -= mean_value[0]\n",
    "   \n",
    "# Add back in to  \n",
    "    var_mask_reg.loc[var_mask_reg['Case'].isin([case_desc[0]]) & var_mask_reg['Mask'].isin([mname]),vunits] = mean_value[0]\n",
    "    \n",
    "var_mask_reg\n"
   ]
  },
  {
   "cell_type": "code",
   "execution_count": null,
   "id": "2cea5ef0-fefc-494e-b9de-b9efef8ff75a",
   "metadata": {
    "tags": []
   },
   "outputs": [],
   "source": [
    "# PLOT #\n",
    "\n",
    "mp.figure(figsize=(12,6))\n",
    "print(var_mask_reg)\n",
    "with sbn.axes_style(\"whitegrid\"):\n",
    "    splot = sbn.barplot(data=var_mask_reg,x='Case',y=vunits,hue='Mask')\n",
    "\n",
    "splot.axes.vlines( x= 0.5,  color = \"k\", ls='--', lw = 3, ymin=ymin,ymax=ymax)\n",
    "splot.axes.vlines( x= 2.5,  color = \"k\", ls='--', lw = 3, ymin=ymin,ymax=ymax)\n",
    "mp.ylim(ymin,ymax)\n",
    "splot.set(title=vlong_name)\n",
    "\n",
    "sbn.set(rc={'axes.facecolor':'white','figure.facecolor':'white'}) \n",
    "mp.savefig(pref_out+'_'+var_name+'_'+fig_avdiff+'.png', dpi=120, bbox_inches='tight') "
   ]
  },
  {
   "cell_type": "code",
   "execution_count": null,
   "id": "5deea76e-729e-491e-bdb1-ca34268b9ca8",
   "metadata": {},
   "outputs": [],
   "source": []
  },
  {
   "cell_type": "code",
   "execution_count": null,
   "id": "8752a71f-bc4e-469f-9d6d-e3da86226f4b",
   "metadata": {},
   "outputs": [],
   "source": []
  },
  {
   "cell_type": "code",
   "execution_count": null,
   "id": "40074830-cacd-4d85-95cb-c618da864fb5",
   "metadata": {},
   "outputs": [],
   "source": []
  }
 ],
 "metadata": {
  "kernelspec": {
   "display_name": "neale_myenv",
   "language": "python",
   "name": "neale_myenv"
  },
  "language_info": {
   "codemirror_mode": {
    "name": "ipython",
    "version": 3
   },
   "file_extension": ".py",
   "mimetype": "text/x-python",
   "name": "python",
   "nbconvert_exporter": "python",
   "pygments_lexer": "ipython3",
   "version": "3.8.13"
  }
 },
 "nbformat": 4,
 "nbformat_minor": 5
}
