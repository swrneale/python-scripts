{
 "cells": [
  {
   "cell_type": "code",
   "execution_count": null,
   "id": "a2da53f4-4071-4e6d-914b-e626b3b3347f",
   "metadata": {},
   "outputs": [],
   "source": [
    "## FIRST WRF PYTHON EXAMPLE\n",
    "\n"
   ]
  }
 ],
 "metadata": {
  "kernelspec": {
   "display_name": "Python [conda env:miniconda3-neale_wrf]",
   "language": "python",
   "name": "conda-env-miniconda3-neale_wrf-py"
  },
  "language_info": {
   "codemirror_mode": {
    "name": "ipython",
    "version": 3
   },
   "file_extension": ".py",
   "mimetype": "text/x-python",
   "name": "python",
   "nbconvert_exporter": "python",
   "pygments_lexer": "ipython3",
   "version": "3.9.7"
  }
 },
 "nbformat": 4,
 "nbformat_minor": 5
}
