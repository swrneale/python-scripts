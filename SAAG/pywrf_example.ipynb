{
 "cells": [
  {
   "cell_type": "code",
   "execution_count": 1,
   "id": "12be7645-e645-4e02-880a-ff0863920bd9",
   "metadata": {},
   "outputs": [],
   "source": [
    "## FIRST WRF PYTHON EXAMPLE\n",
    "\n",
    "from netCDF4 import Dataset\n",
    "import matplotlib.pyplot as plt\n",
    "from matplotlib.cm import get_cmap\n",
    "import cartopy.crs as crs\n",
    "from cartopy.feature import NaturalEarthFeature\n",
    "\n",
    "from wrf import (to_np, getvar, smooth2d, get_cartopy, cartopy_xlim,\n",
    "                 cartopy_ylim, latlon_coords)"
   ]
  },
  {
   "cell_type": "code",
   "execution_count": 5,
   "id": "d24c6052-977c-405c-9376-d0d4c539f619",
   "metadata": {},
   "outputs": [
    {
     "name": "stdout",
     "output_type": "stream",
     "text": [
      "<class 'netCDF4._netCDF4.Dataset'>\n",
      "root group (NETCDF4_CLASSIC data model, file format HDF5):\n",
      "    dimensions(sizes): time(720), rlon(1471), rlat(2027)\n",
      "    variables(dimensions): float32 lat(rlat, rlon), float32 lon(rlat, rlon), float64 time(time), float32 PREC_ACC_NC(time, rlat, rlon)\n",
      "    groups: \n"
     ]
    },
    {
     "ename": "ValueError",
     "evalue": "('XLAT', 'XLAT_M') are not valid variable names",
     "output_type": "error",
     "traceback": [
      "\u001b[0;31m---------------------------------------------------------------------------\u001b[0m",
      "\u001b[0;31mValueError\u001b[0m                                Traceback (most recent call last)",
      "\u001b[0;32m/glade/scratch/rneale/ipykernel_195129/4233234135.py\u001b[0m in \u001b[0;36m<module>\u001b[0;34m\u001b[0m\n\u001b[1;32m      3\u001b[0m \u001b[0mprint\u001b[0m\u001b[0;34m(\u001b[0m\u001b[0mncfile\u001b[0m\u001b[0;34m)\u001b[0m\u001b[0;34m\u001b[0m\u001b[0;34m\u001b[0m\u001b[0m\n\u001b[1;32m      4\u001b[0m \u001b[0;31m# Get the sea level pressure\u001b[0m\u001b[0;34m\u001b[0m\u001b[0;34m\u001b[0m\u001b[0m\n\u001b[0;32m----> 5\u001b[0;31m \u001b[0mslp\u001b[0m \u001b[0;34m=\u001b[0m \u001b[0mgetvar\u001b[0m\u001b[0;34m(\u001b[0m\u001b[0mncfile\u001b[0m\u001b[0;34m,\u001b[0m \u001b[0;34m\"PREC_ACC_NC\"\u001b[0m\u001b[0;34m)\u001b[0m\u001b[0;34m\u001b[0m\u001b[0;34m\u001b[0m\u001b[0m\n\u001b[0m\u001b[1;32m      6\u001b[0m \u001b[0;34m\u001b[0m\u001b[0m\n\u001b[1;32m      7\u001b[0m \u001b[0;31m# Smooth the sea level pressure since it tends to be noisy near the\u001b[0m\u001b[0;34m\u001b[0m\u001b[0;34m\u001b[0m\u001b[0m\n",
      "\u001b[0;32m/glade/work/rneale/python/miniconda3/envs/neale_wrf/lib/python3.9/site-packages/wrf/routines.py\u001b[0m in \u001b[0;36mgetvar\u001b[0;34m(wrfin, varname, timeidx, method, squeeze, cache, meta, **kwargs)\u001b[0m\n\u001b[1;32m    341\u001b[0m     \u001b[0;32mif\u001b[0m \u001b[0mis_standard_wrf_var\u001b[0m\u001b[0;34m(\u001b[0m\u001b[0mwrfin\u001b[0m\u001b[0;34m,\u001b[0m \u001b[0mvarname\u001b[0m\u001b[0;34m)\u001b[0m \u001b[0;32mand\u001b[0m \u001b[0mvarname\u001b[0m \u001b[0;34m!=\u001b[0m \u001b[0;34m\"Times\"\u001b[0m\u001b[0;34m:\u001b[0m\u001b[0;34m\u001b[0m\u001b[0;34m\u001b[0m\u001b[0m\n\u001b[1;32m    342\u001b[0m         \u001b[0m_check_kargs\u001b[0m\u001b[0;34m(\u001b[0m\u001b[0;34m\"default\"\u001b[0m\u001b[0;34m,\u001b[0m \u001b[0mkwargs\u001b[0m\u001b[0;34m)\u001b[0m\u001b[0;34m\u001b[0m\u001b[0;34m\u001b[0m\u001b[0m\n\u001b[0;32m--> 343\u001b[0;31m         return extract_vars(wrfin, timeidx, varname,\n\u001b[0m\u001b[1;32m    344\u001b[0m                             method, squeeze, cache, meta, _key)[varname]\n\u001b[1;32m    345\u001b[0m     \u001b[0;32melif\u001b[0m \u001b[0mvarname\u001b[0m \u001b[0;34m==\u001b[0m \u001b[0;34m\"Times\"\u001b[0m\u001b[0;34m:\u001b[0m\u001b[0;34m\u001b[0m\u001b[0;34m\u001b[0m\u001b[0m\n",
      "\u001b[0;32m/glade/work/rneale/python/miniconda3/envs/neale_wrf/lib/python3.9/site-packages/wrf/util.py\u001b[0m in \u001b[0;36mextract_vars\u001b[0;34m(wrfin, timeidx, varnames, method, squeeze, cache, meta, _key)\u001b[0m\n\u001b[1;32m   2288\u001b[0m         \u001b[0mvarlist\u001b[0m \u001b[0;34m=\u001b[0m \u001b[0mvarnames\u001b[0m\u001b[0;34m\u001b[0m\u001b[0;34m\u001b[0m\u001b[0m\n\u001b[1;32m   2289\u001b[0m \u001b[0;34m\u001b[0m\u001b[0m\n\u001b[0;32m-> 2290\u001b[0;31m     return {var: _extract_var(wrfin, var, timeidx, None,\n\u001b[0m\u001b[1;32m   2291\u001b[0m                               method, squeeze, cache, meta, _key)\n\u001b[1;32m   2292\u001b[0m             for var in varlist}\n",
      "\u001b[0;32m/glade/work/rneale/python/miniconda3/envs/neale_wrf/lib/python3.9/site-packages/wrf/util.py\u001b[0m in \u001b[0;36m<dictcomp>\u001b[0;34m(.0)\u001b[0m\n\u001b[1;32m   2288\u001b[0m         \u001b[0mvarlist\u001b[0m \u001b[0;34m=\u001b[0m \u001b[0mvarnames\u001b[0m\u001b[0;34m\u001b[0m\u001b[0;34m\u001b[0m\u001b[0m\n\u001b[1;32m   2289\u001b[0m \u001b[0;34m\u001b[0m\u001b[0m\n\u001b[0;32m-> 2290\u001b[0;31m     return {var: _extract_var(wrfin, var, timeidx, None,\n\u001b[0m\u001b[1;32m   2291\u001b[0m                               method, squeeze, cache, meta, _key)\n\u001b[1;32m   2292\u001b[0m             for var in varlist}\n",
      "\u001b[0;32m/glade/work/rneale/python/miniconda3/envs/neale_wrf/lib/python3.9/site-packages/wrf/util.py\u001b[0m in \u001b[0;36m_extract_var\u001b[0;34m(wrfin, varname, timeidx, is_moving, method, squeeze, cache, meta, _key)\u001b[0m\n\u001b[1;32m   2214\u001b[0m         \u001b[0;32mif\u001b[0m \u001b[0mxarray_enabled\u001b[0m\u001b[0;34m(\u001b[0m\u001b[0;34m)\u001b[0m \u001b[0;32mand\u001b[0m \u001b[0mmeta\u001b[0m\u001b[0;34m:\u001b[0m\u001b[0;34m\u001b[0m\u001b[0;34m\u001b[0m\u001b[0m\n\u001b[1;32m   2215\u001b[0m             \u001b[0;32mif\u001b[0m \u001b[0mis_moving\u001b[0m \u001b[0;32mis\u001b[0m \u001b[0;32mNone\u001b[0m\u001b[0;34m:\u001b[0m\u001b[0;34m\u001b[0m\u001b[0;34m\u001b[0m\u001b[0m\n\u001b[0;32m-> 2216\u001b[0;31m                 \u001b[0mis_moving\u001b[0m \u001b[0;34m=\u001b[0m \u001b[0mis_moving_domain\u001b[0m\u001b[0;34m(\u001b[0m\u001b[0mwrfin\u001b[0m\u001b[0;34m,\u001b[0m \u001b[0mvarname\u001b[0m\u001b[0;34m,\u001b[0m \u001b[0m_key\u001b[0m\u001b[0;34m=\u001b[0m\u001b[0m_key\u001b[0m\u001b[0;34m)\u001b[0m\u001b[0;34m\u001b[0m\u001b[0;34m\u001b[0m\u001b[0m\n\u001b[0m\u001b[1;32m   2217\u001b[0m             result = _build_data_array(wrfin, varname, timeidx, is_moving,\n\u001b[1;32m   2218\u001b[0m                                        multifile, _key)\n",
      "\u001b[0;32m/glade/work/rneale/python/miniconda3/envs/neale_wrf/lib/python3.9/site-packages/wrf/util.py\u001b[0m in \u001b[0;36mis_moving_domain\u001b[0;34m(wrfin, varname, latvar, lonvar, _key)\u001b[0m\n\u001b[1;32m    722\u001b[0m \u001b[0;34m\u001b[0m\u001b[0m\n\u001b[1;32m    723\u001b[0m     \u001b[0;32mif\u001b[0m \u001b[0misinstance\u001b[0m\u001b[0;34m(\u001b[0m\u001b[0mlatvar\u001b[0m\u001b[0;34m,\u001b[0m \u001b[0meither\u001b[0m\u001b[0;34m)\u001b[0m\u001b[0;34m:\u001b[0m\u001b[0;34m\u001b[0m\u001b[0;34m\u001b[0m\u001b[0m\n\u001b[0;32m--> 724\u001b[0;31m         \u001b[0mlatvar\u001b[0m \u001b[0;34m=\u001b[0m \u001b[0mlatvar\u001b[0m\u001b[0;34m(\u001b[0m\u001b[0mwrfin\u001b[0m\u001b[0;34m)\u001b[0m\u001b[0;34m\u001b[0m\u001b[0;34m\u001b[0m\u001b[0m\n\u001b[0m\u001b[1;32m    725\u001b[0m \u001b[0;34m\u001b[0m\u001b[0m\n\u001b[1;32m    726\u001b[0m     \u001b[0;32mif\u001b[0m \u001b[0misinstance\u001b[0m\u001b[0;34m(\u001b[0m\u001b[0mlonvar\u001b[0m\u001b[0;34m,\u001b[0m \u001b[0meither\u001b[0m\u001b[0;34m)\u001b[0m\u001b[0;34m:\u001b[0m\u001b[0;34m\u001b[0m\u001b[0;34m\u001b[0m\u001b[0m\n",
      "\u001b[0;32m/glade/work/rneale/python/miniconda3/envs/neale_wrf/lib/python3.9/site-packages/wrf/util.py\u001b[0m in \u001b[0;36m__call__\u001b[0;34m(self, wrfin)\u001b[0m\n\u001b[1;32m    497\u001b[0m                 \u001b[0;32mreturn\u001b[0m \u001b[0mvarname\u001b[0m\u001b[0;34m\u001b[0m\u001b[0;34m\u001b[0m\u001b[0m\n\u001b[1;32m    498\u001b[0m \u001b[0;34m\u001b[0m\u001b[0m\n\u001b[0;32m--> 499\u001b[0;31m         raise ValueError(\"{} are not valid variable names\".format(\n\u001b[0m\u001b[1;32m    500\u001b[0m             self.varnames))\n\u001b[1;32m    501\u001b[0m \u001b[0;34m\u001b[0m\u001b[0m\n",
      "\u001b[0;31mValueError\u001b[0m: ('XLAT', 'XLAT_M') are not valid variable names"
     ]
    }
   ],
   "source": [
    "# Open the NetCDF file\n",
    "ncfile = Dataset('/glade/scratch/rneale/SAAG/201506_PREC_ACC_NC_SouthAmerica.nc')\n",
    "print(ncfile)\n",
    "# Get the sea level pressure\n",
    "slp = getvar(ncfile, \"PREC_ACC_NC\")\n",
    "\n",
    "# Smooth the sea level pressure since it tends to be noisy near the\n",
    "# mountains\n",
    "smooth_slp = smooth2d(slp, 3, cenweight=4)\n",
    "\n",
    "# Get the latitude and longitude points\n",
    "lats, lons = latlon_coords(slp)\n",
    "\n",
    "# Get the cartopy mapping object\n",
    "cart_proj = get_cartopy(slp)\n",
    "\n",
    "# Create a figure\n",
    "fig = plt.figure(figsize=(12,6))\n",
    "# Set the GeoAxes to the projection used by WRF\n",
    "ax = plt.axes(projection=cart_proj)\n",
    "\n",
    "# Download and add the states and coastlines\n",
    "states = NaturalEarthFeature(category=\"cultural\", scale=\"50m\",\n",
    "                             facecolor=\"none\",\n",
    "                             name=\"admin_1_states_provinces_shp\")\n",
    "ax.add_feature(states, linewidth=.5, edgecolor=\"black\")\n",
    "ax.coastlines('50m', linewidth=0.8)\n",
    "\n",
    "# Make the contour outlines and filled contours for the smoothed sea level\n",
    "# pressure.\n",
    "plt.contour(to_np(lons), to_np(lats), to_np(smooth_slp), 10, colors=\"black\",\n",
    "            transform=crs.PlateCarree())\n",
    "plt.contourf(to_np(lons), to_np(lats), to_np(smooth_slp), 10,\n",
    "             transform=crs.PlateCarree(),\n",
    "             cmap=get_cmap(\"jet\"))\n",
    "\n",
    "# Add a color bar\n",
    "plt.colorbar(ax=ax, shrink=.98)\n",
    "\n",
    "# Set the map bounds\n",
    "ax.set_xlim(cartopy_xlim(smooth_slp))\n",
    "ax.set_ylim(cartopy_ylim(smooth_slp))\n",
    "\n",
    "# Add the gridlines\n",
    "ax.gridlines(color=\"black\", linestyle=\"dotted\")\n",
    "\n",
    "plt.title(\"Sea Level Pressure (hPa)\")\n",
    "\n",
    "plt.show()"
   ]
  },
  {
   "cell_type": "code",
   "execution_count": null,
   "id": "5243ccd9-8f37-4c4b-8e0a-89282786d447",
   "metadata": {},
   "outputs": [],
   "source": []
  }
 ],
 "metadata": {
  "kernelspec": {
   "display_name": "Python [conda env:miniconda3-neale_wrf]",
   "language": "python",
   "name": "conda-env-miniconda3-neale_wrf-py"
  },
  "language_info": {
   "codemirror_mode": {
    "name": "ipython",
    "version": 3
   },
   "file_extension": ".py",
   "mimetype": "text/x-python",
   "name": "python",
   "nbconvert_exporter": "python",
   "pygments_lexer": "ipython3",
   "version": "3.9.7"
  }
 },
 "nbformat": 4,
 "nbformat_minor": 5
}
