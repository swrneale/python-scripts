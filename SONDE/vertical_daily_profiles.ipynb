{
 "cells": [
  {
   "cell_type": "markdown",
   "id": "1357a117-58cb-4e68-9917-8de9a4fb7cdc",
   "metadata": {},
   "source": [
    "## Radiosonde/Reanalysis and Model Annual Profile Comprisons"
   ]
  },
  {
   "cell_type": "code",
   "execution_count": 1,
   "id": "f227e1c5-8a5d-415a-a17c-2bac98e8aed3",
   "metadata": {},
   "outputs": [],
   "source": [
    "import xarray as xr\n",
    "import matplotlib.pyplot as mp\n",
    "import pandas as pd\n",
    "#import geocat.comp as gc\n",
    "#import seaborn as sb\n",
    "import scipy as sp\n",
    "\n",
    "import numpy as np\n",
    "import os\n",
    "import glob as gb\n",
    "import dask\n",
    "\n",
    "from matplotlib.cm import get_cmap\n",
    "from matplotlib.dates import DateFormatter,MonthLocator\n",
    "from matplotlib import cm\n",
    "from matplotlib.lines import Line2D\n",
    "\n",
    "import cartopy.crs as ccrs\n",
    "from cartopy.feature import NaturalEarthFeature\n",
    "from cartopy.mpl.ticker import LongitudeFormatter, LatitudeFormatter\n",
    "import cartopy.feature as cf\n",
    "from cartopy.io import shapereader\n",
    "import geopandas\n",
    "\n",
    "import warnings\n",
    "\n",
    "#warnings.filterwarnings(\"ignore\")\n",
    "# Silence dask.distributed logs\n",
    "import logging\n",
    "\n",
    "\n",
    "\n",
    "import importlib"
   ]
  },
  {
   "cell_type": "code",
   "execution_count": null,
   "id": "c270211e-114a-4893-8b9c-12f51a24fc93",
   "metadata": {},
   "outputs": [],
   "source": [
    "\n",
    "\n",
    "profile_locations = ['Denver'] # Enter name of \n",
    "profile_sonde = True\n",
    "profile_model = True\n",
    "profile_analyses = True\n",
    "\n",
    "sonde_dir = \n",
    "\n"
   ]
  },
  {
   "cell_type": "code",
   "execution_count": null,
   "id": "bd0d2a3b-544c-4af6-864a-a5d774330b9c",
   "metadata": {},
   "outputs": [],
   "source": [
    "\n",
    "\n"
   ]
  }
 ],
 "metadata": {
  "kernelspec": {
   "display_name": "Python [conda env:miniconda3-neale_myenv]",
   "language": "python",
   "name": "conda-env-miniconda3-neale_myenv-py"
  },
  "language_info": {
   "codemirror_mode": {
    "name": "ipython",
    "version": 3
   },
   "file_extension": ".py",
   "mimetype": "text/x-python",
   "name": "python",
   "nbconvert_exporter": "python",
   "pygments_lexer": "ipython3",
   "version": "3.8.13"
  }
 },
 "nbformat": 4,
 "nbformat_minor": 5
}
